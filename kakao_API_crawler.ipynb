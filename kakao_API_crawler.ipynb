{
 "cells": [
  {
   "cell_type": "code",
   "execution_count": 18,
   "metadata": {},
   "outputs": [
    {
     "name": "stdout",
     "output_type": "stream",
     "text": [
      "<Response [200]>\n",
      "{'documents': [{'authors': ['로비 톰슨'], 'contents': 'S.H.I.E.L.D.의 비밀 휴업 기간 중 LMD드풀 로봇 군단에 전원을 공급한 어둠의 기술은 무엇일까? LMD 개발 프로그램의 중심엔 ‘어메이징 스파이더 부모’ 메리 파커, 리처드 파커 부부가 있었으니…. 이들이 좋은 사람이었음을 믿어 의심치 않았다면, 데드풀이 여러분의 믿음을 망쳐 놓을 것이다. 자신을 걸을 수 없게 만든 가짜풀을 잡기 위해, 노인 피터 파커는 자신의 미래를 (그리고 우리의 현재를) 바꿔 버릴 결단을 내려야 한다! 지구상 가장', 'datetime': '2020-07-20T00:00:00.000+09:00', 'isbn': '1164791214 9791164791217', 'price': 14000, 'publisher': '시공사', 'sale_price': -1, 'status': '', 'thumbnail': 'https://search1.kakaocdn.net/thumb/R120x174.q85/?fname=http%3A%2F%2Ft1.daumcdn.net%2Flbook%2Fimage%2F5426278%3Ftimestamp%3D20220122161413', 'title': '스파이더맨/데드풀 Vol. 7: 두 아빠(마블 그래픽 노블)', 'translators': ['김의용'], 'url': 'https://search.daum.net/search?w=bookpage&bookId=5426278&q=%EC%8A%A4%ED%8C%8C%EC%9D%B4%EB%8D%94%EB%A7%A8%2F%EB%8D%B0%EB%93%9C%ED%92%80+Vol.+7%3A+%EB%91%90+%EC%95%84%EB%B9%A0%28%EB%A7%88%EB%B8%94+%EA%B7%B8%EB%9E%98%ED%94%BD+%EB%85%B8%EB%B8%94%29'}], 'meta': {'is_end': True, 'pageable_count': 1, 'total_count': 1}}\n"
     ]
    }
   ],
   "source": [
    "import requests\n",
    "import json\n",
    "\n",
    "url = \"https://dapi.kakao.com//v3/search/book\"\n",
    "\n",
    "MY_REST_API = 'a9f59d8981601a41b5fb31311b82b8a4'\n",
    "\n",
    "input_text = '1164791214'\n",
    "\n",
    "queryString = {'query' : input_text}\n",
    "header = {'Authorization': 'KakaoAK ' + MY_REST_API }\n",
    "\n",
    "response = requests.get(url, headers=header, params=queryString)\n",
    "\n",
    "tokens = response.json()\n",
    "\n",
    "\n",
    "\n",
    "\n",
    "\n",
    "\n",
    "\n",
    "\n",
    "\n",
    "\n",
    "\n",
    "\n",
    "\n",
    "\n",
    "\n",
    "\n",
    "\n",
    "\n",
    "\n"
   ]
  },
  {
   "cell_type": "code",
   "execution_count": null,
   "metadata": {},
   "outputs": [],
   "source": [
    "\n",
    "{'documents': [\n",
    "    {'authors': ['로비 톰슨'], \n",
    "    'contents': 'S.H.I.E.L.D.의 비밀 휴업 기간 중 LMD드풀 로봇 군단에 전원을 공급한 어둠의 기술은 무엇일까? LMD 개발 프로그램의 중심엔 ‘어메이징 스파이더 부모’ 메리 파커, 리처드 파커 부부가 있었으니…. 이들이 좋은 사람이었음을 믿어 의심치 않았다면, 데드풀이 여러분의 믿음을 망쳐 놓을 것이다. 자신을 걸을 수 없게 만든 가짜풀을 잡기 위해, 노인 피터 파커는 자신의 미래를 (그리고 우리의 현재를) 바꿔 버릴 결단을 내려야 한다! 지구상 가장', \n",
    "    'datetime': '2020-07-20T00:00:00.000+09:00', \n",
    "    'isbn': '1164791214 9791164791217', \n",
    "    'price': 14000, \n",
    "    'publisher': '시공사', \n",
    "    'sale_price': -1, \n",
    "    'status': '', \n",
    "    'thumbnail': 'https://search1.kakaocdn.net/thumb/R120x174.q85/?fname=http%3A%2F%2Ft1.daumcdn.net%2Flbook%2Fimage%2F5426278%3Ftimestamp%3D20220122161413', \n",
    "    'title': '스파이더맨/데드풀 Vol. 7: 두 아빠(마블 그래픽 노블)', \n",
    "    'translators': ['김의용'], \n",
    "    'url': 'https://search.daum.net/search?w=bookpage&bookId=5426278&q=%EC%8A%A4%ED%8C%8C%EC%9D%B4%EB%8D%94%EB%A7%A8%2F%EB%8D%B0%EB%93%9C%ED%92%80+Vol.+7%3A+%EB%91%90+%EC%95%84%EB%B9%A0%28%EB%A7%88%EB%B8%94+%EA%B7%B8%EB%9E%98%ED%94%BD+%EB%85%B8%EB%B8%94%29'}], \n",
    "    'meta': {'is_end': True, 'pageable_count': 1, 'total_count': 1}\n",
    "    }\n",
    "\n",
    "\n",
    "<Response [200]>\n",
    "{'documents': [{'authors': ['로비 톰슨'], \n",
    "'contents': 'S.H.I.E.L.D.의 비밀 휴업 기간 중 LMD드풀 로봇 군단에 전원을 공급한 어둠의 기술은 무엇일까? LMD 개발 프로그램의 중심엔 ‘어메이징 스파이더 부모’ 메리 파커, 리처드 파커 부부가 있었으니…. 이들이 좋은 사람이었음을 믿어 의심치 않았다면, 데드풀이 여러분의 믿음을 망쳐 놓을 것이다. 자신을 걸을 수 없게 만든 가짜풀을 잡기 위해, 노인 피터 파커는 자신의 미래를 (그리고 우리의 현재를) 바꿔 버릴 결단을 내려야 한다! 지구상 가장', \n",
    "'datetime': '2020-07-20T00:00:00.000+09:00', \n",
    "'isbn': '1164791214 9791164791217', \n",
    "'price': 14000, \n",
    "'publisher': '시공사', \n",
    "'sale_price': -1, \n",
    "'status': '', \n",
    "'thumbnail': 'https://search1.kakaocdn.net/thumb/R120x174.q85/?fname=http%3A%2F%2Ft1.daumcdn.net%2Flbook%2Fimage%2F5426278%3Ftimestamp%3D20220122161413', \n",
    "'title': '스파이더맨/데드풀 Vol. 7: 두 아빠(마블 그래픽 노블)', \n",
    "'translators': ['김의용'], \n",
    "'url': 'https://search.daum.net/search?w=bookpage&bookId=5426278&q=%EC%8A%A4%ED%8C%8C%EC%9D%B4%EB%8D%94%EB%A7%A8%2F%EB%8D%B0%EB%93%9C%ED%92%80+Vol.+7%3A+%EB%91%90+%EC%95%84%EB%B9%A0%28%EB%A7%88%EB%B8%94+%EA%B7%B8%EB%9E%98%ED%94%BD+%EB%85%B8%EB%B8%94%29'}], \n",
    "'meta': {'is_end': True, 'pageable_count': 1, 'total_count': 1}\n",
    "}\n"
   ]
  },
  {
   "cell_type": "code",
   "execution_count": null,
   "metadata": {},
   "outputs": [],
   "source": []
  },
  {
   "cell_type": "code",
   "execution_count": null,
   "metadata": {},
   "outputs": [],
   "source": []
  },
  {
   "cell_type": "code",
   "execution_count": null,
   "metadata": {},
   "outputs": [],
   "source": []
  },
  {
   "cell_type": "code",
   "execution_count": null,
   "metadata": {},
   "outputs": [],
   "source": []
  },
  {
   "cell_type": "code",
   "execution_count": null,
   "metadata": {},
   "outputs": [],
   "source": []
  },
  {
   "cell_type": "code",
   "execution_count": null,
   "metadata": {},
   "outputs": [],
   "source": []
  },
  {
   "cell_type": "code",
   "execution_count": null,
   "metadata": {},
   "outputs": [],
   "source": []
  },
  {
   "cell_type": "code",
   "execution_count": null,
   "metadata": {},
   "outputs": [],
   "source": []
  },
  {
   "cell_type": "code",
   "execution_count": null,
   "metadata": {},
   "outputs": [],
   "source": []
  }
 ],
 "metadata": {
  "interpreter": {
   "hash": "d4d1e4263499bec80672ea0156c357c1ee493ec2b1c70f0acce89fc37c4a6abe"
  },
  "kernelspec": {
   "display_name": "Python 3.8.5 ('base')",
   "language": "python",
   "name": "python3"
  },
  "language_info": {
   "codemirror_mode": {
    "name": "ipython",
    "version": 3
   },
   "file_extension": ".py",
   "mimetype": "text/x-python",
   "name": "python",
   "nbconvert_exporter": "python",
   "pygments_lexer": "ipython3",
   "version": "3.8.5"
  },
  "orig_nbformat": 4
 },
 "nbformat": 4,
 "nbformat_minor": 2
}
