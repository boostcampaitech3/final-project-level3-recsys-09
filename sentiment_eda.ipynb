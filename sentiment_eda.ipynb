{
 "cells": [
  {
   "cell_type": "code",
   "execution_count": 1,
   "id": "108f8f6e-7f37-4411-9c5a-55d68adadbb1",
   "metadata": {},
   "outputs": [],
   "source": [
    "import json\n",
    "import pandas as pd\n",
    "import numpy as np\n",
    "from tqdm import tqdm\n",
    "import matplotlib.pyplot as plt\n",
    "from datetime import datetime\n",
    "from collections import Counter\n",
    "import pickle\n",
    "import datetime\n",
    "import time\n",
    "import re"
   ]
  },
  {
   "cell_type": "code",
   "execution_count": 2,
   "id": "c9a27ecd-b78e-4064-b3e5-fdcc62d53458",
   "metadata": {},
   "outputs": [],
   "source": [
    "df = pd.read_parquet('merge_book_sentiment_2015_30_5.parquet', engine='pyarrow')"
   ]
  },
  {
   "cell_type": "code",
   "execution_count": 3,
   "id": "34cf00f9-1ef8-40a9-a592-5aa3526d6b02",
   "metadata": {},
   "outputs": [
    {
     "data": {
      "text/plain": [
       "(823358, 17)"
      ]
     },
     "execution_count": 3,
     "metadata": {},
     "output_type": "execute_result"
    }
   ],
   "source": [
    "df.shape"
   ]
  },
  {
   "cell_type": "code",
   "execution_count": 4,
   "id": "a62db0e0-b1de-4ff0-ab97-ba50c77d1b87",
   "metadata": {},
   "outputs": [
    {
     "name": "stdout",
     "output_type": "stream",
     "text": [
      "<class 'pandas.core.frame.DataFrame'>\n",
      "RangeIndex: 823358 entries, 0 to 823357\n",
      "Data columns (total 17 columns):\n",
      " #   Column                  Non-Null Count   Dtype  \n",
      "---  ------                  --------------   -----  \n",
      " 0   reviewerID              823358 non-null  object \n",
      " 1   asin                    823358 non-null  object \n",
      " 2   overall                 823358 non-null  int16  \n",
      " 3   title                   823274 non-null  object \n",
      " 4   verified                823358 non-null  bool   \n",
      " 5   summary                 822112 non-null  object \n",
      " 6   reviewText              823236 non-null  object \n",
      " 7   timestamp               823358 non-null  object \n",
      " 8   description             709561 non-null  object \n",
      " 9   price                   700232 non-null  float64\n",
      " 10  Format:                 814068 non-null  object \n",
      " 11  main_cat                823313 non-null  object \n",
      " 12  brand                   820534 non-null  object \n",
      " 13  unixReviewTime          823358 non-null  float64\n",
      " 14  genre                   823358 non-null  object \n",
      " 15  imageURL                89 non-null      object \n",
      " 16  review_sentiment_score  823236 non-null  float64\n",
      "dtypes: bool(1), float64(3), int16(1), object(12)\n",
      "memory usage: 96.6+ MB\n"
     ]
    }
   ],
   "source": [
    "df.info()"
   ]
  },
  {
   "cell_type": "code",
   "execution_count": 5,
   "id": "9196c22e-82eb-49ca-822f-a4a0f661d915",
   "metadata": {},
   "outputs": [
    {
     "data": {
      "text/html": [
       "<div>\n",
       "<style scoped>\n",
       "    .dataframe tbody tr th:only-of-type {\n",
       "        vertical-align: middle;\n",
       "    }\n",
       "\n",
       "    .dataframe tbody tr th {\n",
       "        vertical-align: top;\n",
       "    }\n",
       "\n",
       "    .dataframe thead th {\n",
       "        text-align: right;\n",
       "    }\n",
       "</style>\n",
       "<table border=\"1\" class=\"dataframe\">\n",
       "  <thead>\n",
       "    <tr style=\"text-align: right;\">\n",
       "      <th></th>\n",
       "      <th>reviewerID</th>\n",
       "      <th>asin</th>\n",
       "      <th>overall</th>\n",
       "      <th>title</th>\n",
       "      <th>verified</th>\n",
       "      <th>summary</th>\n",
       "      <th>reviewText</th>\n",
       "      <th>timestamp</th>\n",
       "      <th>description</th>\n",
       "      <th>price</th>\n",
       "      <th>Format:</th>\n",
       "      <th>main_cat</th>\n",
       "      <th>brand</th>\n",
       "      <th>unixReviewTime</th>\n",
       "      <th>genre</th>\n",
       "      <th>imageURL</th>\n",
       "      <th>review_sentiment_score</th>\n",
       "    </tr>\n",
       "  </thead>\n",
       "  <tbody>\n",
       "    <tr>\n",
       "      <th>0</th>\n",
       "      <td>ALUGXJE8QRTT8</td>\n",
       "      <td>0001384198</td>\n",
       "      <td>3</td>\n",
       "      <td>The Little Engine That Could</td>\n",
       "      <td>False</td>\n",
       "      <td>I didn't enjoy it at all.</td>\n",
       "      <td>We recently joined Dolly Partons Imagination L...</td>\n",
       "      <td>2016-06-29</td>\n",
       "      <td>When the other engines refuse, the Little Blue...</td>\n",
       "      <td>16.04</td>\n",
       "      <td>Kindle Edition</td>\n",
       "      <td>Books</td>\n",
       "      <td>Piper Watty</td>\n",
       "      <td>1.467158e+09</td>\n",
       "      <td>[fiction]</td>\n",
       "      <td>None</td>\n",
       "      <td>0.408181</td>\n",
       "    </tr>\n",
       "    <tr>\n",
       "      <th>1</th>\n",
       "      <td>AJ133AQBUHY7B</td>\n",
       "      <td>0001384198</td>\n",
       "      <td>4</td>\n",
       "      <td>The Little Engine That Could</td>\n",
       "      <td>True</td>\n",
       "      <td>Four Stars</td>\n",
       "      <td>the little blue engine never rage quit even th...</td>\n",
       "      <td>2016-04-15</td>\n",
       "      <td>When the other engines refuse, the Little Blue...</td>\n",
       "      <td>16.04</td>\n",
       "      <td>Hardcover</td>\n",
       "      <td>Books</td>\n",
       "      <td>Piper Watty</td>\n",
       "      <td>1.460678e+09</td>\n",
       "      <td>[fiction]</td>\n",
       "      <td>None</td>\n",
       "      <td>0.619280</td>\n",
       "    </tr>\n",
       "    <tr>\n",
       "      <th>2</th>\n",
       "      <td>ATO9XRWKWG13I</td>\n",
       "      <td>0001384198</td>\n",
       "      <td>5</td>\n",
       "      <td>The Little Engine That Could</td>\n",
       "      <td>True</td>\n",
       "      <td>Five Stars</td>\n",
       "      <td>Good product and good service.</td>\n",
       "      <td>2015-03-06</td>\n",
       "      <td>When the other engines refuse, the Little Blue...</td>\n",
       "      <td>16.04</td>\n",
       "      <td>Paperback</td>\n",
       "      <td>Books</td>\n",
       "      <td>Piper Watty</td>\n",
       "      <td>1.425600e+09</td>\n",
       "      <td>[fiction]</td>\n",
       "      <td>None</td>\n",
       "      <td>0.989993</td>\n",
       "    </tr>\n",
       "    <tr>\n",
       "      <th>3</th>\n",
       "      <td>A32TLMERXASISG</td>\n",
       "      <td>0001716069</td>\n",
       "      <td>5</td>\n",
       "      <td>I Can Lick 30 Tigers Today! (Dr.Seuss Classic ...</td>\n",
       "      <td>False</td>\n",
       "      <td>New Suess for me!</td>\n",
       "      <td>The beautiful part about this book is both the...</td>\n",
       "      <td>2015-09-02</td>\n",
       "      <td>Pride and over-confidence may take many forms....</td>\n",
       "      <td>48.21</td>\n",
       "      <td>Hardcover</td>\n",
       "      <td>Books</td>\n",
       "      <td>Visit Amazon's Dr. Seuss Page</td>\n",
       "      <td>1.441152e+09</td>\n",
       "      <td>[poetry, fiction]</td>\n",
       "      <td>None</td>\n",
       "      <td>0.922831</td>\n",
       "    </tr>\n",
       "    <tr>\n",
       "      <th>4</th>\n",
       "      <td>A1N3Q5GDH2VG23</td>\n",
       "      <td>0001720392</td>\n",
       "      <td>5</td>\n",
       "      <td>Green Eggs and Ham</td>\n",
       "      <td>True</td>\n",
       "      <td>Five Stars</td>\n",
       "      <td>bought as a gift</td>\n",
       "      <td>2017-12-22</td>\n",
       "      <td>None</td>\n",
       "      <td>4.62</td>\n",
       "      <td>Hardcover</td>\n",
       "      <td>Books</td>\n",
       "      <td>Visit Amazon's Dr. Seuss Page</td>\n",
       "      <td>1.513901e+09</td>\n",
       "      <td>[child]</td>\n",
       "      <td>None</td>\n",
       "      <td>0.970058</td>\n",
       "    </tr>\n",
       "  </tbody>\n",
       "</table>\n",
       "</div>"
      ],
      "text/plain": [
       "       reviewerID        asin  overall  \\\n",
       "0   ALUGXJE8QRTT8  0001384198        3   \n",
       "1   AJ133AQBUHY7B  0001384198        4   \n",
       "2   ATO9XRWKWG13I  0001384198        5   \n",
       "3  A32TLMERXASISG  0001716069        5   \n",
       "4  A1N3Q5GDH2VG23  0001720392        5   \n",
       "\n",
       "                                               title  verified  \\\n",
       "0                       The Little Engine That Could     False   \n",
       "1                       The Little Engine That Could      True   \n",
       "2                       The Little Engine That Could      True   \n",
       "3  I Can Lick 30 Tigers Today! (Dr.Seuss Classic ...     False   \n",
       "4                                 Green Eggs and Ham      True   \n",
       "\n",
       "                     summary  \\\n",
       "0  I didn't enjoy it at all.   \n",
       "1                 Four Stars   \n",
       "2                 Five Stars   \n",
       "3          New Suess for me!   \n",
       "4                 Five Stars   \n",
       "\n",
       "                                          reviewText   timestamp  \\\n",
       "0  We recently joined Dolly Partons Imagination L...  2016-06-29   \n",
       "1  the little blue engine never rage quit even th...  2016-04-15   \n",
       "2                     Good product and good service.  2015-03-06   \n",
       "3  The beautiful part about this book is both the...  2015-09-02   \n",
       "4                                   bought as a gift  2017-12-22   \n",
       "\n",
       "                                         description  price          Format:  \\\n",
       "0  When the other engines refuse, the Little Blue...  16.04   Kindle Edition   \n",
       "1  When the other engines refuse, the Little Blue...  16.04        Hardcover   \n",
       "2  When the other engines refuse, the Little Blue...  16.04        Paperback   \n",
       "3  Pride and over-confidence may take many forms....  48.21        Hardcover   \n",
       "4                                               None   4.62        Hardcover   \n",
       "\n",
       "  main_cat                          brand  unixReviewTime              genre  \\\n",
       "0    Books                    Piper Watty    1.467158e+09          [fiction]   \n",
       "1    Books                    Piper Watty    1.460678e+09          [fiction]   \n",
       "2    Books                    Piper Watty    1.425600e+09          [fiction]   \n",
       "3    Books  Visit Amazon's Dr. Seuss Page    1.441152e+09  [poetry, fiction]   \n",
       "4    Books  Visit Amazon's Dr. Seuss Page    1.513901e+09            [child]   \n",
       "\n",
       "  imageURL  review_sentiment_score  \n",
       "0     None                0.408181  \n",
       "1     None                0.619280  \n",
       "2     None                0.989993  \n",
       "3     None                0.922831  \n",
       "4     None                0.970058  "
      ]
     },
     "execution_count": 5,
     "metadata": {},
     "output_type": "execute_result"
    }
   ],
   "source": [
    "df.head()"
   ]
  },
  {
   "cell_type": "markdown",
   "id": "f10ddcd7-85b5-4126-a523-623a8d2d7883",
   "metadata": {},
   "source": [
    "# 평점 별 감성점수 평균"
   ]
  },
  {
   "cell_type": "code",
   "execution_count": 13,
   "id": "32259178-5ba0-4b80-a105-c7a6676ce519",
   "metadata": {},
   "outputs": [],
   "source": [
    "overall_review_sentiment_mean = df.groupby('overall')['review_sentiment_score'].mean()"
   ]
  },
  {
   "cell_type": "code",
   "execution_count": 14,
   "id": "9af4a4d6-9c70-43f2-9b8d-9a0b7dce8967",
   "metadata": {},
   "outputs": [
    {
     "data": {
      "image/png": "[encoded data removed]",
      "text/plain": [
       "<Figure size 432x288 with 1 Axes>"
      ]
     },
     "metadata": {
      "needs_background": "light"
     },
     "output_type": "display_data"
    }
   ],
   "source": [
    "plt.bar(overall_review_sentiment_mean.index, overall_review_sentiment_mean)\n",
    "plt.title('overall_review_sentiment_mean')\n",
    "plt.show()"
   ]
  },
  {
   "cell_type": "markdown",
   "id": "a8997454-c42c-434d-a7a9-297c02b11ce6",
   "metadata": {},
   "source": [
    "# 평점 매기는 습관"
   ]
  },
  {
   "cell_type": "code",
   "execution_count": 45,
   "id": "41107a60-5d12-4898-ada0-64d59c127498",
   "metadata": {},
   "outputs": [],
   "source": [
    "def overall_count(a):\n",
    "    return a.overall.nunique()"
   ]
  },
  {
   "cell_type": "code",
   "execution_count": 46,
   "id": "7c9cbd1d-64ca-43ed-a374-2ecc2cac52a0",
   "metadata": {},
   "outputs": [],
   "source": [
    "user_overall_nunique = df.groupby('reviewerID').apply(overall_count)"
   ]
  },
  {
   "cell_type": "code",
   "execution_count": 47,
   "id": "ea7be51a-d0e6-43d2-9638-ecb51512209a",
   "metadata": {},
   "outputs": [],
   "source": [
    "uon_vc = pd.DataFrame(user_overall_nunique)[0].value_counts()"
   ]
  },
  {
   "cell_type": "markdown",
   "id": "7bf1852c-2731-4c79-a87a-4dce758c0fb1",
   "metadata": {},
   "source": [
    "### user들이 평점 다양하게 매기는 정도 (1이 뜻하는 것은 하나의 평점만 준다는 뜻 ex.모든 책에 평점을 5점만 준다)"
   ]
  },
  {
   "cell_type": "code",
   "execution_count": 48,
   "id": "721cafb4-c66e-4989-a3fe-20ee4fc7a054",
   "metadata": {},
   "outputs": [
    {
     "data": {
      "image/png": "[encoded data removed]",
      "text/plain": [
       "<Figure size 432x288 with 1 Axes>"
      ]
     },
     "metadata": {
      "needs_background": "light"
     },
     "output_type": "display_data"
    }
   ],
   "source": [
    "plt.bar(uon_vc.index, uon_vc)\n",
    "plt.title('user_overall_variety')\n",
    "plt.show()"
   ]
  },
  {
   "cell_type": "markdown",
   "id": "8f752044-399a-4794-a7ac-9422d8534362",
   "metadata": {},
   "source": [
    "## 1개 평점만 주는 사람들"
   ]
  },
  {
   "cell_type": "code",
   "execution_count": 49,
   "id": "078c63a3-fa6c-4a60-a2d9-b301005bc6b5",
   "metadata": {},
   "outputs": [],
   "source": [
    "only_1_overall_users = list(user_overall_nunique[user_overall_nunique==1].index)"
   ]
  },
  {
   "cell_type": "code",
   "execution_count": 50,
   "id": "30c15263-9073-4956-91c8-23b99a55bae0",
   "metadata": {},
   "outputs": [
    {
     "data": {
      "text/plain": [
       "5    1099\n",
       "4       5\n",
       "3       1\n",
       "Name: overall, dtype: int64"
      ]
     },
     "execution_count": 50,
     "metadata": {},
     "output_type": "execute_result"
    }
   ],
   "source": [
    "# 약 99.5%는 그냥 5점으로 다 줌\n",
    "df[df.reviewerID.isin(only_1_overall_users)].drop_duplicates('reviewerID').overall.value_counts()"
   ]
  },
  {
   "cell_type": "markdown",
   "id": "3c639313-be8f-4b06-91e5-caec3ef254a1",
   "metadata": {},
   "source": [
    "### 이 사람들의 감성 점수 - review 감성점수도 실제로 대부분 높음"
   ]
  },
  {
   "cell_type": "code",
   "execution_count": 51,
   "id": "6350eb8d-df4c-44af-9527-4033ab9d4bd5",
   "metadata": {},
   "outputs": [
    {
     "data": {
      "text/plain": [
       "count    56158.000000\n",
       "mean         0.977116\n",
       "std          0.097643\n",
       "min          0.003531\n",
       "0.1%         0.027439\n",
       "1%           0.442766\n",
       "10%          0.970182\n",
       "50%          0.998235\n",
       "max          0.999507\n",
       "Name: review_sentiment_score, dtype: float64"
      ]
     },
     "execution_count": 51,
     "metadata": {},
     "output_type": "execute_result"
    }
   ],
   "source": [
    "df[df.reviewerID.isin(only_1_overall_users)].review_sentiment_score.describe([0.001,0.01,0.1])"
   ]
  },
  {
   "cell_type": "markdown",
   "id": "8699d5a6-6c08-4646-aa48-88996dd22d58",
   "metadata": {},
   "source": [
    "# 평점 3점의 리뷰 감성점수 분포"
   ]
  },
  {
   "cell_type": "code",
   "execution_count": 38,
   "id": "2ec13747-ccd6-4453-8117-8625c97d56d2",
   "metadata": {},
   "outputs": [
    {
     "data": {
      "text/plain": [
       "count    52852.000000\n",
       "mean         0.549489\n",
       "std          0.426699\n",
       "min          0.001805\n",
       "10%          0.007777\n",
       "20%          0.025189\n",
       "30%          0.089360\n",
       "40%          0.305153\n",
       "50%          0.708006\n",
       "60%          0.911398\n",
       "70%          0.969157\n",
       "80%          0.988918\n",
       "90%          0.996319\n",
       "max          0.999408\n",
       "Name: review_sentiment_score, dtype: float64"
      ]
     },
     "execution_count": 38,
     "metadata": {},
     "output_type": "execute_result"
    }
   ],
   "source": [
    "df[df.overall==3].review_sentiment_score.describe([0.1,0.2,0.3,0.4,0.5,0.6,0.7,0.8,0.9])"
   ]
  },
  {
   "cell_type": "markdown",
   "id": "713f13dc-3a48-4006-9905-8ce6c0a89e6b",
   "metadata": {},
   "source": [
    "### 평점 4점 이상인데, 리뷰 감성점수 낮은 경우"
   ]
  },
  {
   "cell_type": "code",
   "execution_count": 7,
   "id": "1aa946eb-5f81-4e62-afba-c1b5c8303664",
   "metadata": {},
   "outputs": [
    {
     "data": {
      "text/plain": [
       "21060"
      ]
     },
     "execution_count": 7,
     "metadata": {},
     "output_type": "execute_result"
    }
   ],
   "source": [
    "len(df[(df.overall>=4)&(df.review_sentiment_score<0.5)])"
   ]
  },
  {
   "cell_type": "code",
   "execution_count": 87,
   "id": "49b7c0c3-7ccf-44ea-8f9f-0aeaeea14f3a",
   "metadata": {},
   "outputs": [
    {
     "data": {
      "text/plain": [
       "\"I had to get used to the author's writing style.  Lot's of stories going on.  Could've been at least two great books.\""
      ]
     },
     "execution_count": 87,
     "metadata": {},
     "output_type": "execute_result"
    }
   ],
   "source": [
    "df[(df.overall>=4)&(df.review_sentiment_score<0.5)].reviewText.iloc[5]"
   ]
  },
  {
   "cell_type": "markdown",
   "id": "946c385f-1ee9-4fd5-9e09-80e99b7d4429",
   "metadata": {},
   "source": [
    "### 평점 2점 이하인데, 리뷰 감성점수 높은 경우"
   ]
  },
  {
   "cell_type": "code",
   "execution_count": 8,
   "id": "19f5a9a4-dcd3-429e-8085-2da2a3321f8f",
   "metadata": {},
   "outputs": [
    {
     "data": {
      "text/plain": [
       "3301"
      ]
     },
     "execution_count": 8,
     "metadata": {},
     "output_type": "execute_result"
    }
   ],
   "source": [
    "len(df[(df.overall<=2)&(df.review_sentiment_score>=0.5)])"
   ]
  },
  {
   "cell_type": "code",
   "execution_count": null,
   "id": "057fe0b0-c12d-43e0-b9eb-11d31d87f6de",
   "metadata": {},
   "outputs": [],
   "source": []
  },
  {
   "cell_type": "markdown",
   "id": "f101da53-af3e-41fc-82a4-53c4d4d57375",
   "metadata": {},
   "source": [
    "# 평점 단순, 다양하게 주는 사람들 간 감성점수 비교"
   ]
  },
  {
   "cell_type": "code",
   "execution_count": 78,
   "id": "d7f93b04-34dc-4f9e-b902-629da8a48a2d",
   "metadata": {},
   "outputs": [],
   "source": [
    "overall_users_dict = {}\n",
    "for i in range(1,6):\n",
    "    overall_users = list(user_overall_nunique[user_overall_nunique==i].index)\n",
    "    df2 = df[df.reviewerID.isin(overall_users)]\n",
    "    overall_users_dict[i] = len(df2[(df2.overall==5)&(df2.review_sentiment_score<0.5)]) / len(df2[(df2.overall==5)])"
   ]
  },
  {
   "cell_type": "markdown",
   "id": "fb752e8a-1aca-4b78-8720-d7e27d9bff69",
   "metadata": {},
   "source": [
    "### 의외로 평점 다양하게 줬을때 5점에서 부정감성 더 많음(차이가 크지 않음)"
   ]
  },
  {
   "cell_type": "code",
   "execution_count": 79,
   "id": "aa4b3355-88fe-4646-af26-a6081bb91da5",
   "metadata": {},
   "outputs": [
    {
     "data": {
      "image/png": "[encoded data removed]",
      "text/plain": [
       "<Figure size 432x288 with 1 Axes>"
      ]
     },
     "metadata": {
      "needs_background": "light"
     },
     "output_type": "display_data"
    }
   ],
   "source": [
    "plt.bar(overall_users_dict.keys(), overall_users_dict.values())\n",
    "plt.title('overall_users')\n",
    "plt.show()"
   ]
  },
  {
   "cell_type": "code",
   "execution_count": 80,
   "id": "1a58289c-96d7-44dc-a557-61d28a0abdeb",
   "metadata": {},
   "outputs": [],
   "source": [
    "overall_users_dict = {}\n",
    "for i in range(1,6):\n",
    "    overall_users = list(user_overall_nunique[user_overall_nunique==i].index)\n",
    "    df2 = df[df.reviewerID.isin(overall_users)]\n",
    "    overall_users_dict[i] = len(df2[(df2.overall>=4)&(df2.review_sentiment_score<0.5)]) / len(df2[(df2.overall>=4)])"
   ]
  },
  {
   "cell_type": "code",
   "execution_count": 81,
   "id": "18c2225e-2fe7-4159-a822-03c97598eac0",
   "metadata": {},
   "outputs": [
    {
     "data": {
      "image/png": "[encoded data removed]",
      "text/plain": [
       "<Figure size 432x288 with 1 Axes>"
      ]
     },
     "metadata": {
      "needs_background": "light"
     },
     "output_type": "display_data"
    }
   ],
   "source": [
    "plt.bar(overall_users_dict.keys(), overall_users_dict.values())\n",
    "plt.title('overall_users')\n",
    "plt.show()"
   ]
  },
  {
   "cell_type": "markdown",
   "id": "b044d85f-e3f0-46df-ac3b-81aadc763bc1",
   "metadata": {},
   "source": [
    "# 리뷰 길이의 차이?"
   ]
  },
  {
   "cell_type": "code",
   "execution_count": 100,
   "id": "dff0e222-6d59-4b05-84dd-3ab9beb04097",
   "metadata": {},
   "outputs": [],
   "source": [
    "len_overall_dict = {}\n",
    "for i in range(1,6):\n",
    "    overall_users = list(user_overall_nunique[user_overall_nunique==i].index)\n",
    "    df2 = df[df.reviewerID.isin(overall_users)]\n",
    "    n = 0\n",
    "    for r in df2.reviewText:\n",
    "        if r:\n",
    "            n += len(r)\n",
    "    len_overall_dict[i] = n / len(df1)"
   ]
  },
  {
   "cell_type": "markdown",
   "id": "678ca46f-8d91-4a98-bc31-78653b57c128",
   "metadata": {},
   "source": [
    "### 점수 한개만 준 경우 리뷰 길이 짧음"
   ]
  },
  {
   "cell_type": "code",
   "execution_count": 102,
   "id": "ad941318-82a1-4459-948e-b8eeeae2b98e",
   "metadata": {},
   "outputs": [
    {
     "data": {
      "image/png": "[encoded data removed]",
      "text/plain": [
       "<Figure size 432x288 with 1 Axes>"
      ]
     },
     "metadata": {
      "needs_background": "light"
     },
     "output_type": "display_data"
    }
   ],
   "source": [
    "plt.bar(len_overall_dict.keys(), len_overall_dict.values())\n",
    "plt.title('len_overall')\n",
    "plt.show()"
   ]
  },
  {
   "cell_type": "markdown",
   "id": "45081480-3e18-4ce0-9b2a-ab21b1359e6b",
   "metadata": {},
   "source": [
    "### 리뷰 긍부정 각각 리뷰 길이 비교"
   ]
  },
  {
   "cell_type": "code",
   "execution_count": 105,
   "id": "e6942f4d-6a71-41ca-844a-7f4df67d6b9a",
   "metadata": {},
   "outputs": [],
   "source": [
    "n = 0\n",
    "for i in df[df.review_sentiment_score>=0.5].reviewText:\n",
    "    n += len(i)"
   ]
  },
  {
   "cell_type": "code",
   "execution_count": 106,
   "id": "1f7750e4-1f30-4002-b364-58a9619e8f5b",
   "metadata": {},
   "outputs": [],
   "source": [
    "m = 0\n",
    "for i in df[df.review_sentiment_score<0.5].reviewText:\n",
    "    m += len(i)"
   ]
  },
  {
   "cell_type": "code",
   "execution_count": 107,
   "id": "c511de4b-3bdd-4f66-89ff-628e5aa9d36e",
   "metadata": {},
   "outputs": [
    {
     "data": {
      "text/plain": [
       "608.415082256092"
      ]
     },
     "execution_count": 107,
     "metadata": {},
     "output_type": "execute_result"
    }
   ],
   "source": [
    "n / len(df[df.review_sentiment_score>=0.5])"
   ]
  },
  {
   "cell_type": "code",
   "execution_count": 108,
   "id": "6e6aad2e-c2cb-4e12-8cfc-8cd4186d2891",
   "metadata": {},
   "outputs": [
    {
     "data": {
      "text/plain": [
       "632.386125529408"
      ]
     },
     "execution_count": 108,
     "metadata": {},
     "output_type": "execute_result"
    }
   ],
   "source": [
    "m / len(df[df.review_sentiment_score<0.5])"
   ]
  },
  {
   "cell_type": "code",
   "execution_count": null,
   "id": "365f6d10-3de7-41b2-8ba0-b1f97c8d0b5c",
   "metadata": {},
   "outputs": [],
   "source": []
  }
 ],
 "metadata": {
  "kernelspec": {
   "display_name": "Python 3",
   "language": "python",
   "name": "python3"
  },
  "language_info": {
   "codemirror_mode": {
    "name": "ipython",
    "version": 3
   },
   "file_extension": ".py",
   "mimetype": "text/x-python",
   "name": "python",
   "nbconvert_exporter": "python",
   "pygments_lexer": "ipython3",
   "version": "3.8.5"
  }
 },
 "nbformat": 4,
 "nbformat_minor": 5
}
