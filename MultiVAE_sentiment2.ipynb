{
 "cells": [
  {
   "cell_type": "code",
   "execution_count": 181,
   "id": "7c83f7f4",
   "metadata": {},
   "outputs": [
    {
     "name": "stdout",
     "output_type": "stream",
     "text": [
      "System version: 3.8.5 (default, Sep  4 2020, 07:30:14) \n",
      "[GCC 7.3.0]\n",
      "Pandas version: 1.4.2\n",
      "Tensorflow version: 2.9.1\n",
      "Keras version: 2.9.0\n"
     ]
    }
   ],
   "source": [
    "import sys\n",
    "import os\n",
    "import numpy as np\n",
    "import pandas as pd\n",
    "import papermill as pm\n",
    "import matplotlib.pyplot as plt\n",
    "%matplotlib inline\n",
    "import seaborn as sns\n",
    "sns.set()\n",
    "import tensorflow as tf\n",
    "import keras\n",
    "\n",
    "from recommenders.utils.timer import Timer\n",
    "from recommenders.datasets import movielens\n",
    "from recommenders.datasets.split_utils import min_rating_filter_pandas\n",
    "from recommenders.datasets.python_splitters import numpy_stratified_split\n",
    "from recommenders.evaluation.python_evaluation import map_at_k, ndcg_at_k, precision_at_k, recall_at_k\n",
    "\n",
    "from recommenders.datasets.sparse import AffinityMatrix\n",
    "from recommenders.utils.python_utils import binarize\n",
    "from recommenders.models.vae.multinomial_vae import Mult_VAE\n",
    "\n",
    "from tempfile import TemporaryDirectory\n",
    "\n",
    "print(\"System version: {}\".format(sys.version))\n",
    "print(\"Pandas version: {}\".format(pd.__version__))\n",
    "print(\"Tensorflow version: {}\".format(tf.__version__))\n",
    "print(\"Keras version: {}\".format(keras.__version__))"
   ]
  },
  {
   "cell_type": "code",
   "execution_count": 182,
   "id": "6031acb8-2941-4591-a2ed-00e6533e013e",
   "metadata": {},
   "outputs": [],
   "source": [
    "import time\n",
    "import datetime\n",
    "from datetime import datetime\n",
    "from tqdm import tqdm"
   ]
  },
  {
   "cell_type": "markdown",
   "id": "70279bbf",
   "metadata": {},
   "source": [
    "# 하이퍼 파라미터 설정"
   ]
  },
  {
   "cell_type": "code",
   "execution_count": 183,
   "id": "b2ceaf61",
   "metadata": {},
   "outputs": [],
   "source": [
    "# top k items to recommend\n",
    "TOP_K = 100\n",
    "\n",
    "# Model parameters\n",
    "HELDOUT_USERS = 600 # CHANGE FOR DIFFERENT DATASIZE\n",
    "INTERMEDIATE_DIM = 200\n",
    "LATENT_DIM = 70\n",
    "EPOCHS = 30\n",
    "BATCH_SIZE = 100\n",
    "\n",
    "# temporary Path to save the optimal model's weights\n",
    "root_dir = '/opt/ml/amazon/model/'\n",
    "WEIGHTS_PATH = os.path.join(root_dir, \"mvae_weights.hdf5\")\n",
    "\n",
    "SEED = 98765"
   ]
  },
  {
   "cell_type": "markdown",
   "id": "2da020ed",
   "metadata": {},
   "source": [
    "# 데이터 불러오기"
   ]
  },
  {
   "cell_type": "code",
   "execution_count": 184,
   "id": "66deeddc",
   "metadata": {},
   "outputs": [],
   "source": [
    "df = pd.read_parquet('merge_book_sentiment_2015_30_5.parquet', engine='pyarrow')"
   ]
  },
  {
   "cell_type": "code",
   "execution_count": 185,
   "id": "955ccafb-8c05-4039-aea4-a9b5d818c877",
   "metadata": {},
   "outputs": [],
   "source": [
    "df = df[['reviewerID', 'asin', 'overall', 'unixReviewTime','review_sentiment_score']]\n",
    "df.columns=['userID', 'itemID', 'rating', 'timestamp','sentiment_rating']"
   ]
  },
  {
   "cell_type": "code",
   "execution_count": 186,
   "id": "d844a91f",
   "metadata": {},
   "outputs": [
    {
     "name": "stdout",
     "output_type": "stream",
     "text": [
      "<class 'pandas.core.frame.DataFrame'>\n",
      "RangeIndex: 823358 entries, 0 to 823357\n",
      "Data columns (total 5 columns):\n",
      " #   Column            Non-Null Count   Dtype  \n",
      "---  ------            --------------   -----  \n",
      " 0   userID            823358 non-null  object \n",
      " 1   itemID            823358 non-null  object \n",
      " 2   rating            823358 non-null  int16  \n",
      " 3   timestamp         823358 non-null  float64\n",
      " 4   sentiment_rating  823236 non-null  float64\n",
      "dtypes: float64(2), int16(1), object(2)\n",
      "memory usage: 26.7+ MB\n"
     ]
    }
   ],
   "source": [
    "df.info()"
   ]
  },
  {
   "cell_type": "code",
   "execution_count": 187,
   "id": "ac7fae8f-c32d-49a0-b979-47c9ee6ea2c5",
   "metadata": {},
   "outputs": [
    {
     "data": {
      "text/plain": [
       "5    543774\n",
       "4    205231\n",
       "3     52868\n",
       "2     13756\n",
       "1      7729\n",
       "Name: rating, dtype: int64"
      ]
     },
     "execution_count": 187,
     "metadata": {},
     "output_type": "execute_result"
    }
   ],
   "source": [
    "df.rating.value_counts()"
   ]
  },
  {
   "cell_type": "code",
   "execution_count": 193,
   "id": "636af7c6-a027-4322-8d98-9890c01fd02d",
   "metadata": {},
   "outputs": [],
   "source": [
    "df['rating'] = df.apply(lambda x : 2 if x.sentiment_rating<0.5 and x.rating>2 else x['rating'],axis=1)"
   ]
  },
  {
   "cell_type": "code",
   "execution_count": 194,
   "id": "f3a28256-aaaa-4c91-8a89-91908f6f280a",
   "metadata": {},
   "outputs": [
    {
     "data": {
      "text/plain": [
       "5    536381\n",
       "4    191564\n",
       "2     58386\n",
       "3     29298\n",
       "1      7729\n",
       "Name: rating, dtype: int64"
      ]
     },
     "execution_count": 194,
     "metadata": {},
     "output_type": "execute_result"
    }
   ],
   "source": [
    "df.rating.value_counts()"
   ]
  },
  {
   "cell_type": "markdown",
   "id": "a8c5d9a3",
   "metadata": {},
   "source": [
    "### Label encoding\n",
    "- userID, itemID를 원본인 object로 하면 train할 때 문제생김\n",
    "- Scikit-learn의 LabelEncoder로 인코딩 후 학습"
   ]
  },
  {
   "cell_type": "code",
   "execution_count": 195,
   "id": "694e5f98",
   "metadata": {},
   "outputs": [],
   "source": [
    "from sklearn import preprocessing\n",
    "le_user = preprocessing.LabelEncoder()\n",
    "le_user.fit(df['userID'])\n",
    "df['le_userID'] = le_user.transform(df['userID'])\n",
    "le_item = preprocessing.LabelEncoder()\n",
    "le_item.fit(df['itemID'])\n",
    "df['le_itemID'] = le_item.transform(df['itemID'])"
   ]
  },
  {
   "cell_type": "code",
   "execution_count": 196,
   "id": "46ec72b8",
   "metadata": {},
   "outputs": [
    {
     "data": {
      "text/plain": [
       "array(['A0020356UF96ZV361ST', 'A0020356UF96ZV361ST',\n",
       "       'A0061296P44YI9YQBDHH', 'A0119044X1GAIYGKN8J1'], dtype=object)"
      ]
     },
     "execution_count": 196,
     "metadata": {},
     "output_type": "execute_result"
    }
   ],
   "source": [
    "# class 확인 method\n",
    "le_user.classes_\n",
    "\n",
    "# 원본으로 변환할 때 method\n",
    "le_user.inverse_transform([0, 0, 1, 2])"
   ]
  },
  {
   "cell_type": "code",
   "execution_count": 197,
   "id": "1bf71c1b-42cf-4f96-8028-2ba851b612de",
   "metadata": {},
   "outputs": [
    {
     "data": {
      "text/html": [
       "<div>\n",
       "<style scoped>\n",
       "    .dataframe tbody tr th:only-of-type {\n",
       "        vertical-align: middle;\n",
       "    }\n",
       "\n",
       "    .dataframe tbody tr th {\n",
       "        vertical-align: top;\n",
       "    }\n",
       "\n",
       "    .dataframe thead th {\n",
       "        text-align: right;\n",
       "    }\n",
       "</style>\n",
       "<table border=\"1\" class=\"dataframe\">\n",
       "  <thead>\n",
       "    <tr style=\"text-align: right;\">\n",
       "      <th></th>\n",
       "      <th>userID</th>\n",
       "      <th>itemID</th>\n",
       "      <th>rating</th>\n",
       "      <th>timestamp</th>\n",
       "      <th>sentiment_rating</th>\n",
       "      <th>le_userID</th>\n",
       "      <th>le_itemID</th>\n",
       "    </tr>\n",
       "  </thead>\n",
       "  <tbody>\n",
       "    <tr>\n",
       "      <th>0</th>\n",
       "      <td>ALUGXJE8QRTT8</td>\n",
       "      <td>0001384198</td>\n",
       "      <td>2</td>\n",
       "      <td>1.467158e+09</td>\n",
       "      <td>0.408181</td>\n",
       "      <td>10202</td>\n",
       "      <td>6</td>\n",
       "    </tr>\n",
       "    <tr>\n",
       "      <th>1</th>\n",
       "      <td>AJ133AQBUHY7B</td>\n",
       "      <td>0001384198</td>\n",
       "      <td>4</td>\n",
       "      <td>1.460678e+09</td>\n",
       "      <td>0.619280</td>\n",
       "      <td>9957</td>\n",
       "      <td>6</td>\n",
       "    </tr>\n",
       "    <tr>\n",
       "      <th>2</th>\n",
       "      <td>ATO9XRWKWG13I</td>\n",
       "      <td>0001384198</td>\n",
       "      <td>5</td>\n",
       "      <td>1.425600e+09</td>\n",
       "      <td>0.989993</td>\n",
       "      <td>10890</td>\n",
       "      <td>6</td>\n",
       "    </tr>\n",
       "    <tr>\n",
       "      <th>3</th>\n",
       "      <td>A32TLMERXASISG</td>\n",
       "      <td>0001716069</td>\n",
       "      <td>5</td>\n",
       "      <td>1.441152e+09</td>\n",
       "      <td>0.922831</td>\n",
       "      <td>6245</td>\n",
       "      <td>10</td>\n",
       "    </tr>\n",
       "    <tr>\n",
       "      <th>4</th>\n",
       "      <td>A1N3Q5GDH2VG23</td>\n",
       "      <td>0001720392</td>\n",
       "      <td>5</td>\n",
       "      <td>1.513901e+09</td>\n",
       "      <td>0.970058</td>\n",
       "      <td>1940</td>\n",
       "      <td>12</td>\n",
       "    </tr>\n",
       "    <tr>\n",
       "      <th>...</th>\n",
       "      <td>...</td>\n",
       "      <td>...</td>\n",
       "      <td>...</td>\n",
       "      <td>...</td>\n",
       "      <td>...</td>\n",
       "      <td>...</td>\n",
       "      <td>...</td>\n",
       "    </tr>\n",
       "    <tr>\n",
       "      <th>823353</th>\n",
       "      <td>A3OMONOB2FE5JB</td>\n",
       "      <td>B01HHZ9AOM</td>\n",
       "      <td>2</td>\n",
       "      <td>1.519344e+09</td>\n",
       "      <td>0.021042</td>\n",
       "      <td>8062</td>\n",
       "      <td>69892</td>\n",
       "    </tr>\n",
       "    <tr>\n",
       "      <th>823354</th>\n",
       "      <td>A2UGP5O2SIAKPD</td>\n",
       "      <td>B01HHZ9AOM</td>\n",
       "      <td>4</td>\n",
       "      <td>1.467590e+09</td>\n",
       "      <td>0.996520</td>\n",
       "      <td>5517</td>\n",
       "      <td>69892</td>\n",
       "    </tr>\n",
       "    <tr>\n",
       "      <th>823355</th>\n",
       "      <td>A1FMG24RFTCLT</td>\n",
       "      <td>B01HI9W5HQ</td>\n",
       "      <td>3</td>\n",
       "      <td>1.529194e+09</td>\n",
       "      <td>0.990771</td>\n",
       "      <td>1319</td>\n",
       "      <td>69893</td>\n",
       "    </tr>\n",
       "    <tr>\n",
       "      <th>823356</th>\n",
       "      <td>A6ZT9EZ49JTEL</td>\n",
       "      <td>B01HJ56VC4</td>\n",
       "      <td>3</td>\n",
       "      <td>1.499213e+09</td>\n",
       "      <td>0.979841</td>\n",
       "      <td>8969</td>\n",
       "      <td>69894</td>\n",
       "    </tr>\n",
       "    <tr>\n",
       "      <th>823357</th>\n",
       "      <td>A36OTZP3JUZSYB</td>\n",
       "      <td>B01HJ56VC4</td>\n",
       "      <td>4</td>\n",
       "      <td>1.498262e+09</td>\n",
       "      <td>0.997459</td>\n",
       "      <td>6572</td>\n",
       "      <td>69894</td>\n",
       "    </tr>\n",
       "  </tbody>\n",
       "</table>\n",
       "<p>823358 rows × 7 columns</p>\n",
       "</div>"
      ],
      "text/plain": [
       "                userID      itemID  rating     timestamp  sentiment_rating  \\\n",
       "0        ALUGXJE8QRTT8  0001384198       2  1.467158e+09          0.408181   \n",
       "1        AJ133AQBUHY7B  0001384198       4  1.460678e+09          0.619280   \n",
       "2        ATO9XRWKWG13I  0001384198       5  1.425600e+09          0.989993   \n",
       "3       A32TLMERXASISG  0001716069       5  1.441152e+09          0.922831   \n",
       "4       A1N3Q5GDH2VG23  0001720392       5  1.513901e+09          0.970058   \n",
       "...                ...         ...     ...           ...               ...   \n",
       "823353  A3OMONOB2FE5JB  B01HHZ9AOM       2  1.519344e+09          0.021042   \n",
       "823354  A2UGP5O2SIAKPD  B01HHZ9AOM       4  1.467590e+09          0.996520   \n",
       "823355   A1FMG24RFTCLT  B01HI9W5HQ       3  1.529194e+09          0.990771   \n",
       "823356   A6ZT9EZ49JTEL  B01HJ56VC4       3  1.499213e+09          0.979841   \n",
       "823357  A36OTZP3JUZSYB  B01HJ56VC4       4  1.498262e+09          0.997459   \n",
       "\n",
       "        le_userID  le_itemID  \n",
       "0           10202          6  \n",
       "1            9957          6  \n",
       "2           10890          6  \n",
       "3            6245         10  \n",
       "4            1940         12  \n",
       "...           ...        ...  \n",
       "823353       8062      69892  \n",
       "823354       5517      69892  \n",
       "823355       1319      69893  \n",
       "823356       8969      69894  \n",
       "823357       6572      69894  \n",
       "\n",
       "[823358 rows x 7 columns]"
      ]
     },
     "execution_count": 197,
     "metadata": {},
     "output_type": "execute_result"
    }
   ],
   "source": [
    "df"
   ]
  },
  {
   "cell_type": "code",
   "execution_count": 198,
   "id": "db6dde78-0854-46c4-a1c2-abc65da13142",
   "metadata": {},
   "outputs": [],
   "source": [
    "# from sklearn.preprocessing import MinMaxScaler\n",
    "\n",
    "# # Standardization 평균 0 / 분산 1\n",
    "# a = df[df.le_userID==31931]\n",
    "# scaler = MinMaxScaler()   \n",
    "# scaler = scaler.fit_transform(a[['rating']])\n",
    "\n",
    "# # # 교차검증시\n",
    "# # scaler.fit(X_train)\n",
    "# # X_train = scaler.transform(X_train)"
   ]
  },
  {
   "cell_type": "code",
   "execution_count": 199,
   "id": "1c053d59",
   "metadata": {},
   "outputs": [
    {
     "name": "stdout",
     "output_type": "stream",
     "text": [
      "(757243, 7)\n"
     ]
    },
    {
     "data": {
      "text/html": [
       "<div>\n",
       "<style scoped>\n",
       "    .dataframe tbody tr th:only-of-type {\n",
       "        vertical-align: middle;\n",
       "    }\n",
       "\n",
       "    .dataframe tbody tr th {\n",
       "        vertical-align: top;\n",
       "    }\n",
       "\n",
       "    .dataframe thead th {\n",
       "        text-align: right;\n",
       "    }\n",
       "</style>\n",
       "<table border=\"1\" class=\"dataframe\">\n",
       "  <thead>\n",
       "    <tr style=\"text-align: right;\">\n",
       "      <th></th>\n",
       "      <th>userID</th>\n",
       "      <th>itemID</th>\n",
       "      <th>rating</th>\n",
       "      <th>timestamp</th>\n",
       "      <th>sentiment_rating</th>\n",
       "      <th>le_userID</th>\n",
       "      <th>le_itemID</th>\n",
       "    </tr>\n",
       "  </thead>\n",
       "  <tbody>\n",
       "    <tr>\n",
       "      <th>1</th>\n",
       "      <td>AJ133AQBUHY7B</td>\n",
       "      <td>0001384198</td>\n",
       "      <td>4</td>\n",
       "      <td>1.460678e+09</td>\n",
       "      <td>0.619280</td>\n",
       "      <td>9957</td>\n",
       "      <td>6</td>\n",
       "    </tr>\n",
       "    <tr>\n",
       "      <th>2</th>\n",
       "      <td>ATO9XRWKWG13I</td>\n",
       "      <td>0001384198</td>\n",
       "      <td>5</td>\n",
       "      <td>1.425600e+09</td>\n",
       "      <td>0.989993</td>\n",
       "      <td>10890</td>\n",
       "      <td>6</td>\n",
       "    </tr>\n",
       "    <tr>\n",
       "      <th>3</th>\n",
       "      <td>A32TLMERXASISG</td>\n",
       "      <td>0001716069</td>\n",
       "      <td>5</td>\n",
       "      <td>1.441152e+09</td>\n",
       "      <td>0.922831</td>\n",
       "      <td>6245</td>\n",
       "      <td>10</td>\n",
       "    </tr>\n",
       "    <tr>\n",
       "      <th>4</th>\n",
       "      <td>A1N3Q5GDH2VG23</td>\n",
       "      <td>0001720392</td>\n",
       "      <td>5</td>\n",
       "      <td>1.513901e+09</td>\n",
       "      <td>0.970058</td>\n",
       "      <td>1940</td>\n",
       "      <td>12</td>\n",
       "    </tr>\n",
       "    <tr>\n",
       "      <th>5</th>\n",
       "      <td>A3L4TODGKQWRA1</td>\n",
       "      <td>0001720392</td>\n",
       "      <td>3</td>\n",
       "      <td>1.508544e+09</td>\n",
       "      <td>0.527478</td>\n",
       "      <td>7794</td>\n",
       "      <td>12</td>\n",
       "    </tr>\n",
       "    <tr>\n",
       "      <th>6</th>\n",
       "      <td>A3D9RPBNOYKNHR</td>\n",
       "      <td>0001046519</td>\n",
       "      <td>5</td>\n",
       "      <td>1.517875e+09</td>\n",
       "      <td>0.908524</td>\n",
       "      <td>7120</td>\n",
       "      <td>2</td>\n",
       "    </tr>\n",
       "    <tr>\n",
       "      <th>7</th>\n",
       "      <td>A25VZ9FHZNAKKI</td>\n",
       "      <td>0001046519</td>\n",
       "      <td>5</td>\n",
       "      <td>1.516147e+09</td>\n",
       "      <td>0.998860</td>\n",
       "      <td>3543</td>\n",
       "      <td>2</td>\n",
       "    </tr>\n",
       "    <tr>\n",
       "      <th>8</th>\n",
       "      <td>A1ZUPWA08D11Z6</td>\n",
       "      <td>0001720392</td>\n",
       "      <td>5</td>\n",
       "      <td>1.496534e+09</td>\n",
       "      <td>0.987640</td>\n",
       "      <td>3010</td>\n",
       "      <td>12</td>\n",
       "    </tr>\n",
       "    <tr>\n",
       "      <th>9</th>\n",
       "      <td>A2G2QYF9JBLV9T</td>\n",
       "      <td>0001720392</td>\n",
       "      <td>5</td>\n",
       "      <td>1.480550e+09</td>\n",
       "      <td>0.999242</td>\n",
       "      <td>4375</td>\n",
       "      <td>12</td>\n",
       "    </tr>\n",
       "    <tr>\n",
       "      <th>10</th>\n",
       "      <td>A17FBSRID0HBWE</td>\n",
       "      <td>0001720392</td>\n",
       "      <td>5</td>\n",
       "      <td>1.478563e+09</td>\n",
       "      <td>0.980836</td>\n",
       "      <td>634</td>\n",
       "      <td>12</td>\n",
       "    </tr>\n",
       "  </tbody>\n",
       "</table>\n",
       "</div>"
      ],
      "text/plain": [
       "            userID      itemID  rating     timestamp  sentiment_rating  \\\n",
       "1    AJ133AQBUHY7B  0001384198       4  1.460678e+09          0.619280   \n",
       "2    ATO9XRWKWG13I  0001384198       5  1.425600e+09          0.989993   \n",
       "3   A32TLMERXASISG  0001716069       5  1.441152e+09          0.922831   \n",
       "4   A1N3Q5GDH2VG23  0001720392       5  1.513901e+09          0.970058   \n",
       "5   A3L4TODGKQWRA1  0001720392       3  1.508544e+09          0.527478   \n",
       "6   A3D9RPBNOYKNHR  0001046519       5  1.517875e+09          0.908524   \n",
       "7   A25VZ9FHZNAKKI  0001046519       5  1.516147e+09          0.998860   \n",
       "8   A1ZUPWA08D11Z6  0001720392       5  1.496534e+09          0.987640   \n",
       "9   A2G2QYF9JBLV9T  0001720392       5  1.480550e+09          0.999242   \n",
       "10  A17FBSRID0HBWE  0001720392       5  1.478563e+09          0.980836   \n",
       "\n",
       "    le_userID  le_itemID  \n",
       "1        9957          6  \n",
       "2       10890          6  \n",
       "3        6245         10  \n",
       "4        1940         12  \n",
       "5        7794         12  \n",
       "6        7120          2  \n",
       "7        3543          2  \n",
       "8        3010         12  \n",
       "9        4375         12  \n",
       "10        634         12  "
      ]
     },
     "execution_count": 199,
     "metadata": {},
     "output_type": "execute_result"
    }
   ],
   "source": [
    "# Binarize the data (only keep ratings >= 4)\n",
    "df_preferred = df[df['rating'] >= 3]\n",
    "print (df_preferred.shape)\n",
    "df_low_rating = df[df['rating'] < 3]\n",
    "\n",
    "\n",
    "# df.head()\n",
    "df_preferred.head(10)"
   ]
  },
  {
   "cell_type": "code",
   "execution_count": 200,
   "id": "923f7ffb-33a9-48be-8460-3add0f09de88",
   "metadata": {},
   "outputs": [
    {
     "data": {
      "text/plain": [
       "66115"
      ]
     },
     "execution_count": 200,
     "metadata": {},
     "output_type": "execute_result"
    }
   ],
   "source": [
    "len(df_low_rating)"
   ]
  },
  {
   "cell_type": "code",
   "execution_count": 201,
   "id": "ebf42432",
   "metadata": {},
   "outputs": [
    {
     "name": "stdout",
     "output_type": "stream",
     "text": [
      "<class 'pandas.core.frame.DataFrame'>\n",
      "RangeIndex: 823358 entries, 0 to 823357\n",
      "Data columns (total 7 columns):\n",
      " #   Column            Non-Null Count   Dtype  \n",
      "---  ------            --------------   -----  \n",
      " 0   userID            823358 non-null  object \n",
      " 1   itemID            823358 non-null  object \n",
      " 2   rating            823358 non-null  int64  \n",
      " 3   timestamp         823358 non-null  float64\n",
      " 4   sentiment_rating  823236 non-null  float64\n",
      " 5   le_userID         823358 non-null  int64  \n",
      " 6   le_itemID         823358 non-null  int64  \n",
      "dtypes: float64(2), int64(3), object(2)\n",
      "memory usage: 44.0+ MB\n"
     ]
    }
   ],
   "source": [
    "df.info()"
   ]
  },
  {
   "cell_type": "markdown",
   "id": "8e04bbde",
   "metadata": {},
   "source": [
    "### 횟수로 필터링\n",
    "- 평가된 횟수로 영화 필터링\n",
    "- 유저가 평가한 횟수로 영화 필터링"
   ]
  },
  {
   "cell_type": "code",
   "execution_count": 202,
   "id": "b1ddaea6-23f1-49de-b8a7-bb4f583d93c8",
   "metadata": {},
   "outputs": [],
   "source": [
    "# # # Keep users who clicked on at least 5 movies\n",
    "# df = min_rating_filter_pandas(df_preferred, min_rating=20, filter_by=\"user\")"
   ]
  },
  {
   "cell_type": "code",
   "execution_count": 203,
   "id": "937e2905",
   "metadata": {},
   "outputs": [],
   "source": [
    "# # Keep movies that were clicked on by at least on 1 user\n",
    "# df = min_rating_filter_pandas(df, min_rating=5, filter_by=\"item\")"
   ]
  },
  {
   "cell_type": "code",
   "execution_count": 204,
   "id": "64e27310",
   "metadata": {},
   "outputs": [
    {
     "name": "stdout",
     "output_type": "stream",
     "text": [
      "After filtering, there are 823358 watching events from 11380 users and 69895 movies (sparsity: 0.104%)\n"
     ]
    }
   ],
   "source": [
    "# Obtain both usercount and itemcount after filtering\n",
    "usercount = df[['userID']].groupby('userID', as_index = False).size()\n",
    "itemcount = df[['itemID']].groupby('itemID', as_index = False).size()\n",
    "\n",
    "# Compute sparsity after filtering\n",
    "sparsity = 1. * df.shape[0] / (usercount.shape[0] * itemcount.shape[0])\n",
    "\n",
    "print(\"After filtering, there are %d watching events from %d users and %d movies (sparsity: %.3f%%)\" % \n",
    "      (df.shape[0], usercount.shape[0], itemcount.shape[0], sparsity * 100))"
   ]
  },
  {
   "cell_type": "code",
   "execution_count": 205,
   "id": "d1522777",
   "metadata": {},
   "outputs": [],
   "source": [
    "unique_users = sorted(df.userID.unique())\n",
    "np.random.seed(SEED)\n",
    "unique_users = np.random.permutation(unique_users)"
   ]
  },
  {
   "cell_type": "code",
   "execution_count": 206,
   "id": "827b28ee",
   "metadata": {},
   "outputs": [
    {
     "name": "stdout",
     "output_type": "stream",
     "text": [
      "Number of unique users: 11380\n",
      "\n",
      "Number of training users: 10180\n",
      "\n",
      "Number of validation users: 600\n",
      "\n",
      "Number of test users: 600\n"
     ]
    }
   ],
   "source": [
    "# Create train/validation/test users\n",
    "n_users = len(unique_users)\n",
    "print(\"Number of unique users:\", n_users)\n",
    "\n",
    "train_users = unique_users[:(n_users - HELDOUT_USERS * 2)]\n",
    "print(\"\\nNumber of training users:\", len(train_users))\n",
    "\n",
    "val_users = unique_users[(n_users - HELDOUT_USERS * 2) : (n_users - HELDOUT_USERS)]\n",
    "print(\"\\nNumber of validation users:\", len(val_users))\n",
    "\n",
    "test_users = unique_users[(n_users - HELDOUT_USERS):]\n",
    "print(\"\\nNumber of test users:\", len(test_users))"
   ]
  },
  {
   "cell_type": "code",
   "execution_count": 207,
   "id": "e6241c81",
   "metadata": {},
   "outputs": [
    {
     "name": "stdout",
     "output_type": "stream",
     "text": [
      "Number of training observations:  739570\n",
      "\n",
      "Number of validation observations:  41670\n",
      "\n",
      "Number of test observations:  42118\n"
     ]
    }
   ],
   "source": [
    "# For training set keep only users that are in train_users list\n",
    "train_set = df.loc[df['userID'].isin(train_users)]\n",
    "print(\"Number of training observations: \", train_set.shape[0])\n",
    "\n",
    "# For validation set keep only users that are in val_users list\n",
    "val_set = df.loc[df['userID'].isin(val_users)]\n",
    "print(\"\\nNumber of validation observations: \", val_set.shape[0])\n",
    "\n",
    "# For test set keep only users that are in test_users list\n",
    "test_set = df.loc[df['userID'].isin(test_users)]\n",
    "print(\"\\nNumber of test observations: \", test_set.shape[0])\n",
    "\n",
    "# train_set/val_set/test_set contain user - movie interactions with rating 4 or 5"
   ]
  },
  {
   "cell_type": "code",
   "execution_count": 208,
   "id": "ea00f3da",
   "metadata": {},
   "outputs": [
    {
     "name": "stdout",
     "output_type": "stream",
     "text": [
      "Number of unique movies that rated in training set 69241\n"
     ]
    }
   ],
   "source": [
    "# Obtain list of unique movies used in training set\n",
    "unique_train_items = pd.unique(train_set['itemID'])\n",
    "print(\"Number of unique movies that rated in training set\", unique_train_items.size)"
   ]
  },
  {
   "cell_type": "code",
   "execution_count": 209,
   "id": "95728745",
   "metadata": {},
   "outputs": [
    {
     "name": "stdout",
     "output_type": "stream",
     "text": [
      "Number of validation observations after filtering:  41234\n",
      "\n",
      "Number of test observations after filtering:  41795\n"
     ]
    }
   ],
   "source": [
    "# For validation set keep only movies that used in training set\n",
    "val_set = val_set.loc[val_set['itemID'].isin(unique_train_items)]\n",
    "print(\"Number of validation observations after filtering: \", val_set.shape[0])\n",
    "\n",
    "# For test set keep only movies that used in training set\n",
    "test_set = test_set.loc[test_set['itemID'].isin(unique_train_items)]\n",
    "print(\"\\nNumber of test observations after filtering: \", test_set.shape[0])"
   ]
  },
  {
   "cell_type": "markdown",
   "id": "5122ee61",
   "metadata": {},
   "source": [
    "### Matrix 생성"
   ]
  },
  {
   "cell_type": "code",
   "execution_count": 210,
   "id": "d8c1df33",
   "metadata": {},
   "outputs": [],
   "source": [
    "# Instantiate the sparse matrix generation for train, validation and test sets\n",
    "# use list of unique items from training set for all sets\n",
    "am_train = AffinityMatrix(df=train_set, items_list=unique_train_items)\n",
    "\n",
    "am_val = AffinityMatrix(df=val_set, items_list=unique_train_items)\n",
    "\n",
    "am_test = AffinityMatrix(df=test_set, items_list=unique_train_items)"
   ]
  },
  {
   "cell_type": "code",
   "execution_count": 211,
   "id": "6dbfd26e",
   "metadata": {},
   "outputs": [
    {
     "name": "stdout",
     "output_type": "stream",
     "text": [
      "(10180, 69241)\n",
      "(600, 69241)\n",
      "(600, 69241)\n"
     ]
    }
   ],
   "source": [
    "# Obtain the sparse matrix for train, validation and test sets\n",
    "train_data, _, _ = am_train.gen_affinity_matrix()\n",
    "print(train_data.shape)\n",
    "\n",
    "val_data, val_map_users, val_map_items = am_val.gen_affinity_matrix()\n",
    "print(val_data.shape)\n",
    "\n",
    "test_data, test_map_users, test_map_items = am_test.gen_affinity_matrix()\n",
    "print(test_data.shape)"
   ]
  },
  {
   "cell_type": "markdown",
   "id": "5e0005d9",
   "metadata": {},
   "source": [
    "### 데이터 split\n",
    "- train, test 비율 설정 가능"
   ]
  },
  {
   "cell_type": "code",
   "execution_count": 212,
   "id": "d247f64b",
   "metadata": {},
   "outputs": [],
   "source": [
    "# Split validation and test data into training and testing parts\n",
    "val_data_tr, val_data_te = numpy_stratified_split(val_data, ratio=0.75, seed=SEED)\n",
    "test_data_tr, test_data_te = numpy_stratified_split(test_data, ratio=0.75, seed=SEED)"
   ]
  },
  {
   "cell_type": "code",
   "execution_count": 213,
   "id": "44f18d70",
   "metadata": {},
   "outputs": [],
   "source": [
    "# Binarize train, validation and test data\n",
    "train_data = binarize(a=train_data, threshold=3)\n",
    "val_data = binarize(a=val_data, threshold=3)\n",
    "test_data = binarize(a=test_data, threshold=3)"
   ]
  },
  {
   "cell_type": "code",
   "execution_count": 214,
   "id": "360c8436",
   "metadata": {},
   "outputs": [],
   "source": [
    "# Binarize validation data: training part  \n",
    "val_data_tr = binarize(a=val_data_tr, threshold=3)\n",
    "\n",
    "# Binarize validation data: testing part (save non-binary version in the separate object, will be used for calculating NDCG)\n",
    "val_data_te_ratings = val_data_te.copy()\n",
    "val_data_te = binarize(a=val_data_te, threshold=3)"
   ]
  },
  {
   "cell_type": "code",
   "execution_count": 215,
   "id": "7db0c5e9",
   "metadata": {},
   "outputs": [],
   "source": [
    "# Binarize test data: training part \n",
    "test_data_tr = binarize(a=test_data_tr, threshold=3)\n",
    "\n",
    "# Binarize test data: testing part (save non-binary version in the separate object, will be used for calculating NDCG)\n",
    "test_data_te_ratings = test_data_te.copy()\n",
    "test_data_te = binarize(a=test_data_te, threshold=3)"
   ]
  },
  {
   "cell_type": "code",
   "execution_count": 216,
   "id": "fc13ddf9",
   "metadata": {},
   "outputs": [],
   "source": [
    "# retrieve real ratings from initial dataset \n",
    "\n",
    "test_data_te_ratings=pd.DataFrame(test_data_te_ratings)\n",
    "val_data_te_ratings=pd.DataFrame(val_data_te_ratings)\n",
    "\n",
    "for index,i in df_low_rating.iterrows():\n",
    "    user_old= i['userID'] # old value \n",
    "    item_old=i['itemID'] # old value \n",
    "\n",
    "    if (test_map_users.get(user_old) is not None)  and (test_map_items.get(item_old) is not None) :\n",
    "        user_new=test_map_users.get(user_old) # new value \n",
    "        item_new=test_map_items.get(item_old) # new value \n",
    "        rating=i['rating'] \n",
    "        test_data_te_ratings.at[user_new,item_new]= rating\n",
    "        \n",
    "    if (val_map_users.get(user_old) is not None)  and (val_map_items.get(item_old) is not None) :\n",
    "        user_new=val_map_users.get(user_old) # new value \n",
    "        item_new=val_map_items.get(item_old) # new value \n",
    "        rating=i['rating'] \n",
    "        val_data_te_ratings.at[user_new,item_new]= rating   \n",
    "\n",
    "\n",
    "val_data_te_ratings=val_data_te_ratings.to_numpy()    \n",
    "test_data_te_ratings=test_data_te_ratings.to_numpy()    \n",
    "# test_data_te_ratings "
   ]
  },
  {
   "cell_type": "markdown",
   "id": "e20937cf",
   "metadata": {},
   "source": [
    "# Multi-VAE"
   ]
  },
  {
   "cell_type": "code",
   "execution_count": 217,
   "id": "a3d9620f",
   "metadata": {},
   "outputs": [],
   "source": [
    "model_without_anneal = Mult_VAE(n_users=train_data.shape[0], # Number of unique users in the training set\n",
    "                                original_dim=train_data.shape[1], # Number of unique items in the training set\n",
    "                                intermediate_dim=INTERMEDIATE_DIM, \n",
    "                                latent_dim=LATENT_DIM, \n",
    "                                n_epochs=EPOCHS,\n",
    "                                batch_size=BATCH_SIZE, \n",
    "                                k=TOP_K,\n",
    "#                                 verbose=0,\n",
    "                                seed=SEED,\n",
    "                                save_path=WEIGHTS_PATH,\n",
    "                                drop_encoder=0.5,\n",
    "                                drop_decoder=0.5,\n",
    "                                annealing=False,\n",
    "                                beta=1.0\n",
    "                                )"
   ]
  },
  {
   "cell_type": "code",
   "execution_count": 218,
   "id": "48538855",
   "metadata": {},
   "outputs": [
    {
     "name": "stdout",
     "output_type": "stream",
     "text": [
      "Epoch 1/30\n"
     ]
    },
    {
     "name": "stderr",
     "output_type": "stream",
     "text": [
      "/opt/conda/lib/python3.8/site-packages/recommenders/models/vae/multinomial_vae.py:458: UserWarning: `model.fit_generator` is deprecated and will be removed in a future version. Please use `Model.fit`, which supports generators.\n",
      "  self.model.fit_generator(\n"
     ]
    },
    {
     "name": "stdout",
     "output_type": "stream",
     "text": [
      "101/101 [==============================] - ETA: 0s - batch: 50.0000 - size: 100.0000 - loss: 686.9733"
     ]
    },
    {
     "name": "stderr",
     "output_type": "stream",
     "text": [
      "/opt/conda/lib/python3.8/site-packages/keras/engine/training_v1.py:2045: UserWarning: `Model.state_updates` will be removed in a future version. This property should not be used in TensorFlow 2.0, as `updates` are applied automatically.\n",
      "  updates = self.state_updates\n",
      "/opt/conda/lib/python3.8/site-packages/keras/engine/training_v1.py:2067: UserWarning: `Model.state_updates` will be removed in a future version. This property should not be used in TensorFlow 2.0, as `updates` are applied automatically.\n",
      "  updates=self.state_updates,\n"
     ]
    },
    {
     "name": "stdout",
     "output_type": "stream",
     "text": [
      "101/101 [==============================] - 41s 334ms/step - batch: 50.0000 - size: 100.0000 - loss: 686.9733 - val_loss: 631.2164 - lr: 0.0010\n",
      "Epoch 2/30\n",
      "101/101 [==============================] - 33s 332ms/step - batch: 50.0000 - size: 100.0000 - loss: 666.4340 - val_loss: 624.8865 - lr: 0.0010\n",
      "Epoch 3/30\n",
      "101/101 [==============================] - 34s 334ms/step - batch: 50.0000 - size: 100.0000 - loss: 654.2062 - val_loss: 609.7299 - lr: 0.0010\n",
      "Epoch 4/30\n",
      "101/101 [==============================] - 33s 329ms/step - batch: 50.0000 - size: 100.0000 - loss: 637.2879 - val_loss: 596.4702 - lr: 0.0010\n",
      "Epoch 5/30\n",
      "101/101 [==============================] - 33s 329ms/step - batch: 50.0000 - size: 100.0000 - loss: 625.6061 - val_loss: 587.9620 - lr: 0.0010\n",
      "Epoch 6/30\n",
      "101/101 [==============================] - 34s 334ms/step - batch: 50.0000 - size: 100.0000 - loss: 614.8697 - val_loss: 578.6779 - lr: 0.0010\n",
      "Epoch 7/30\n",
      "101/101 [==============================] - 34s 336ms/step - batch: 50.0000 - size: 100.0000 - loss: 604.3976 - val_loss: 569.4425 - lr: 0.0010\n",
      "Epoch 8/30\n",
      "101/101 [==============================] - 34s 334ms/step - batch: 50.0000 - size: 100.0000 - loss: 595.3109 - val_loss: 563.1545 - lr: 0.0010\n",
      "Epoch 9/30\n",
      "101/101 [==============================] - 33s 331ms/step - batch: 50.0000 - size: 100.0000 - loss: 588.2171 - val_loss: 557.7999 - lr: 0.0010\n",
      "Epoch 10/30\n",
      "101/101 [==============================] - 33s 332ms/step - batch: 50.0000 - size: 100.0000 - loss: 580.9255 - val_loss: 554.0922 - lr: 0.0010\n",
      "Epoch 11/30\n",
      "101/101 [==============================] - 33s 329ms/step - batch: 50.0000 - size: 100.0000 - loss: 574.9705 - val_loss: 549.4153 - lr: 0.0010\n",
      "Epoch 12/30\n",
      "101/101 [==============================] - 33s 333ms/step - batch: 50.0000 - size: 100.0000 - loss: 569.4743 - val_loss: 546.4274 - lr: 0.0010\n",
      "Epoch 13/30\n",
      "101/101 [==============================] - 31s 309ms/step - batch: 50.0000 - size: 100.0000 - loss: 565.0512 - val_loss: 543.7118 - lr: 0.0010\n",
      "Epoch 14/30\n",
      "101/101 [==============================] - 33s 333ms/step - batch: 50.0000 - size: 100.0000 - loss: 560.5577 - val_loss: 541.7299 - lr: 0.0010\n",
      "Epoch 15/30\n",
      "101/101 [==============================] - 34s 333ms/step - batch: 50.0000 - size: 100.0000 - loss: 557.0848 - val_loss: 540.2833 - lr: 0.0010\n",
      "Epoch 16/30\n",
      "101/101 [==============================] - 31s 311ms/step - batch: 50.0000 - size: 100.0000 - loss: 553.7094 - val_loss: 538.5694 - lr: 0.0010\n",
      "Epoch 17/30\n",
      "101/101 [==============================] - 33s 331ms/step - batch: 50.0000 - size: 100.0000 - loss: 550.4752 - val_loss: 536.5684 - lr: 0.0010\n",
      "Epoch 18/30\n",
      "101/101 [==============================] - 34s 333ms/step - batch: 50.0000 - size: 100.0000 - loss: 547.4632 - val_loss: 535.5713 - lr: 0.0010\n",
      "Epoch 19/30\n",
      "101/101 [==============================] - 33s 332ms/step - batch: 50.0000 - size: 100.0000 - loss: 544.9658 - val_loss: 534.4423 - lr: 0.0010\n",
      "Epoch 20/30\n",
      "101/101 [==============================] - 33s 326ms/step - batch: 50.0000 - size: 100.0000 - loss: 542.2054 - val_loss: 534.4957 - lr: 0.0010\n",
      "Epoch 21/30\n",
      "101/101 [==============================] - 33s 332ms/step - batch: 50.0000 - size: 100.0000 - loss: 535.2208 - val_loss: 532.7481 - lr: 2.0000e-04\n",
      "Epoch 22/30\n",
      "101/101 [==============================] - 34s 335ms/step - batch: 50.0000 - size: 100.0000 - loss: 533.9568 - val_loss: 532.3351 - lr: 2.0000e-04\n",
      "Epoch 23/30\n",
      "101/101 [==============================] - 33s 328ms/step - batch: 50.0000 - size: 100.0000 - loss: 533.0298 - val_loss: 532.0524 - lr: 2.0000e-04\n",
      "Epoch 24/30\n",
      "101/101 [==============================] - 32s 316ms/step - batch: 50.0000 - size: 100.0000 - loss: 531.8667 - val_loss: 531.6404 - lr: 2.0000e-04\n",
      "Epoch 25/30\n",
      "101/101 [==============================] - 32s 314ms/step - batch: 50.0000 - size: 100.0000 - loss: 531.0983 - val_loss: 531.4551 - lr: 2.0000e-04\n",
      "Epoch 26/30\n",
      "101/101 [==============================] - 34s 335ms/step - batch: 50.0000 - size: 100.0000 - loss: 530.8692 - val_loss: 530.6534 - lr: 2.0000e-04\n",
      "Epoch 27/30\n",
      "101/101 [==============================] - 32s 314ms/step - batch: 50.0000 - size: 100.0000 - loss: 529.8218 - val_loss: 530.6984 - lr: 2.0000e-04\n",
      "Epoch 28/30\n",
      "101/101 [==============================] - 32s 315ms/step - batch: 50.0000 - size: 100.0000 - loss: 528.5635 - val_loss: 530.7449 - lr: 1.0000e-04\n",
      "Epoch 29/30\n",
      "101/101 [==============================] - 32s 317ms/step - batch: 50.0000 - size: 100.0000 - loss: 528.3749 - val_loss: 530.5116 - lr: 1.0000e-04\n",
      "Epoch 30/30\n",
      "101/101 [==============================] - 31s 311ms/step - batch: 50.0000 - size: 100.0000 - loss: 528.1828 - val_loss: 530.2684 - lr: 1.0000e-04\n",
      "Took 993.8196 seconds for training.\n"
     ]
    }
   ],
   "source": [
    "with Timer() as t:\n",
    "    model_without_anneal.fit(x_train=train_data, \n",
    "                             x_valid=val_data, \n",
    "                             x_val_tr=val_data_tr, \n",
    "                             x_val_te=val_data_te_ratings, \n",
    "                             mapper=am_val\n",
    "                             )\n",
    "print(\"Took {} seconds for training.\".format(t))"
   ]
  },
  {
   "cell_type": "code",
   "execution_count": 219,
   "id": "1fac65dc",
   "metadata": {},
   "outputs": [
    {
     "data": {
      "image/png": "[encoded data removed]",
      "text/plain": [
       "<Figure size 1008x360 with 2 Axes>"
      ]
     },
     "metadata": {},
     "output_type": "display_data"
    }
   ],
   "source": [
    "model_without_anneal.display_metrics()"
   ]
  },
  {
   "cell_type": "markdown",
   "id": "b95df028",
   "metadata": {},
   "source": [
    "# Test"
   ]
  },
  {
   "cell_type": "markdown",
   "id": "545a8fea-70d6-40b6-a259-f93a39713b0e",
   "metadata": {},
   "source": [
    "### 3~5 threshold 3, 감성점수 0.5 미만인것들은 다 2점으로"
   ]
  },
  {
   "cell_type": "code",
   "execution_count": 220,
   "id": "3bb4072f-7255-4921-8daa-b7503aee860d",
   "metadata": {},
   "outputs": [
    {
     "name": "stdout",
     "output_type": "stream",
     "text": [
      "Took 2.4515 seconds for prediction.\n",
      "MAP@10:\t\t0.029575\n",
      "NDCG@10:\t0.100962\n",
      "Precision@10:\t0.092667\n",
      "Recall@10: \t0.052090\n"
     ]
    }
   ],
   "source": [
    "# Use k = 10\n",
    "with Timer() as t:\n",
    "    # Model prediction on the training part of test set \n",
    "    top_k =  model_without_anneal.recommend_k_items(x=test_data_tr,\n",
    "                                                  k=10,\n",
    "                                                  remove_seen=True\n",
    "                                                  )\n",
    "\n",
    "    # Convert sparse matrix back to df\n",
    "    top_k_df = am_test.map_back_sparse(top_k, kind='prediction')\n",
    "    test_df = am_test.map_back_sparse(test_data_te_ratings, kind='ratings') # use test_data_te_, with the original ratings\n",
    "    \n",
    "print(\"Took {} seconds for prediction.\".format(t))\n",
    "\n",
    "# Use the ranking metrics for evaluation\n",
    "eval_map_3 = map_at_k(test_df, top_k_df, col_prediction='prediction', k=10)\n",
    "eval_ndcg_3 = ndcg_at_k(test_df, top_k_df, col_prediction='prediction', k=10)\n",
    "eval_precision_3 = precision_at_k(test_df, top_k_df, col_prediction='prediction', k=10)\n",
    "eval_recall_3 = recall_at_k(test_df, top_k_df, col_prediction='prediction', k=10)\n",
    "\n",
    "print(\"MAP@10:\\t\\t%f\" % eval_map_3,\n",
    "      \"NDCG@10:\\t%f\" % eval_ndcg_3,\n",
    "      \"Precision@10:\\t%f\" % eval_precision_3,\n",
    "      \"Recall@10: \\t%f\" % eval_recall_3, sep='\\n')"
   ]
  },
  {
   "cell_type": "markdown",
   "id": "77d6aa00-cffd-4953-b706-970162422d86",
   "metadata": {},
   "source": [
    "### 3~5 threshold 3.5"
   ]
  },
  {
   "cell_type": "code",
   "execution_count": 180,
   "id": "5267183d-b87e-4af0-9f20-2b026171ec62",
   "metadata": {},
   "outputs": [
    {
     "name": "stdout",
     "output_type": "stream",
     "text": [
      "Took 2.4667 seconds for prediction.\n",
      "MAP@10:\t\t0.032117\n",
      "NDCG@10:\t0.103023\n",
      "Precision@10:\t0.093667\n",
      "Recall@10: \t0.057591\n"
     ]
    }
   ],
   "source": [
    "# Use k = 10\n",
    "with Timer() as t:\n",
    "    # Model prediction on the training part of test set \n",
    "    top_k =  model_without_anneal.recommend_k_items(x=test_data_tr,\n",
    "                                                  k=10,\n",
    "                                                  remove_seen=True\n",
    "                                                  )\n",
    "\n",
    "    # Convert sparse matrix back to df\n",
    "    top_k_df = am_test.map_back_sparse(top_k, kind='prediction')\n",
    "    test_df = am_test.map_back_sparse(test_data_te_ratings, kind='ratings') # use test_data_te_, with the original ratings\n",
    "    \n",
    "print(\"Took {} seconds for prediction.\".format(t))\n",
    "\n",
    "# Use the ranking metrics for evaluation\n",
    "eval_map_3 = map_at_k(test_df, top_k_df, col_prediction='prediction', k=10)\n",
    "eval_ndcg_3 = ndcg_at_k(test_df, top_k_df, col_prediction='prediction', k=10)\n",
    "eval_precision_3 = precision_at_k(test_df, top_k_df, col_prediction='prediction', k=10)\n",
    "eval_recall_3 = recall_at_k(test_df, top_k_df, col_prediction='prediction', k=10)\n",
    "\n",
    "print(\"MAP@10:\\t\\t%f\" % eval_map_3,\n",
    "      \"NDCG@10:\\t%f\" % eval_ndcg_3,\n",
    "      \"Precision@10:\\t%f\" % eval_precision_3,\n",
    "      \"Recall@10: \\t%f\" % eval_recall_3, sep='\\n')"
   ]
  },
  {
   "cell_type": "markdown",
   "id": "7afb2f49-3929-4e09-9d17-7690ba8e8725",
   "metadata": {},
   "source": [
    "### 3~5 threshold 3"
   ]
  },
  {
   "cell_type": "code",
   "execution_count": 145,
   "id": "edfa2cf1-ce15-4306-a544-4f7625f49f54",
   "metadata": {},
   "outputs": [
    {
     "name": "stdout",
     "output_type": "stream",
     "text": [
      "Took 2.4563 seconds for prediction.\n",
      "MAP@10:\t\t0.035307\n",
      "NDCG@10:\t0.109805\n",
      "Precision@10:\t0.096500\n",
      "Recall@10: \t0.059341\n"
     ]
    }
   ],
   "source": [
    "# Use k = 10\n",
    "with Timer() as t:\n",
    "    # Model prediction on the training part of test set \n",
    "    top_k =  model_without_anneal.recommend_k_items(x=test_data_tr,\n",
    "                                                  k=10,\n",
    "                                                  remove_seen=True\n",
    "                                                  )\n",
    "\n",
    "    # Convert sparse matrix back to df\n",
    "    top_k_df = am_test.map_back_sparse(top_k, kind='prediction')\n",
    "    test_df = am_test.map_back_sparse(test_data_te_ratings, kind='ratings') # use test_data_te_, with the original ratings\n",
    "    \n",
    "print(\"Took {} seconds for prediction.\".format(t))\n",
    "\n",
    "# Use the ranking metrics for evaluation\n",
    "eval_map_3 = map_at_k(test_df, top_k_df, col_prediction='prediction', k=10)\n",
    "eval_ndcg_3 = ndcg_at_k(test_df, top_k_df, col_prediction='prediction', k=10)\n",
    "eval_precision_3 = precision_at_k(test_df, top_k_df, col_prediction='prediction', k=10)\n",
    "eval_recall_3 = recall_at_k(test_df, top_k_df, col_prediction='prediction', k=10)\n",
    "\n",
    "print(\"MAP@10:\\t\\t%f\" % eval_map_3,\n",
    "      \"NDCG@10:\\t%f\" % eval_ndcg_3,\n",
    "      \"Precision@10:\\t%f\" % eval_precision_3,\n",
    "      \"Recall@10: \\t%f\" % eval_recall_3, sep='\\n')"
   ]
  },
  {
   "cell_type": "markdown",
   "id": "67d228bd-0311-4a5e-b1ad-d470619e632c",
   "metadata": {},
   "source": [
    "### sentiment 긍정 +1, 부정 -1 , 기준 rating 3"
   ]
  },
  {
   "cell_type": "code",
   "execution_count": 110,
   "id": "17245637-b9b7-4f6f-aaba-2f36e1372833",
   "metadata": {},
   "outputs": [
    {
     "name": "stdout",
     "output_type": "stream",
     "text": [
      "Took 2.4128 seconds for prediction.\n",
      "MAP@10:\t\t0.034661\n",
      "NDCG@10:\t0.112285\n",
      "Precision@10:\t0.103000\n",
      "Recall@10: \t0.060456\n"
     ]
    }
   ],
   "source": [
    "# Use k = 10\n",
    "with Timer() as t:\n",
    "    # Model prediction on the training part of test set \n",
    "    top_k =  model_without_anneal.recommend_k_items(x=test_data_tr,\n",
    "                                                  k=10,\n",
    "                                                  remove_seen=True\n",
    "                                                  )\n",
    "\n",
    "    # Convert sparse matrix back to df\n",
    "    top_k_df = am_test.map_back_sparse(top_k, kind='prediction')\n",
    "    test_df = am_test.map_back_sparse(test_data_te_ratings, kind='ratings') # use test_data_te_, with the original ratings\n",
    "    \n",
    "print(\"Took {} seconds for prediction.\".format(t))\n",
    "\n",
    "# Use the ranking metrics for evaluation\n",
    "eval_map_3 = map_at_k(test_df, top_k_df, col_prediction='prediction', k=10)\n",
    "eval_ndcg_3 = ndcg_at_k(test_df, top_k_df, col_prediction='prediction', k=10)\n",
    "eval_precision_3 = precision_at_k(test_df, top_k_df, col_prediction='prediction', k=10)\n",
    "eval_recall_3 = recall_at_k(test_df, top_k_df, col_prediction='prediction', k=10)\n",
    "\n",
    "print(\"MAP@10:\\t\\t%f\" % eval_map_3,\n",
    "      \"NDCG@10:\\t%f\" % eval_ndcg_3,\n",
    "      \"Precision@10:\\t%f\" % eval_precision_3,\n",
    "      \"Recall@10: \\t%f\" % eval_recall_3, sep='\\n')"
   ]
  },
  {
   "cell_type": "markdown",
   "id": "67aa57e2-e19f-4ab8-b805-1920bb4df293",
   "metadata": {},
   "source": [
    "### sentiment 긍정 +0.5, 부정 -0.5 , 기준 rating 3.5"
   ]
  },
  {
   "cell_type": "code",
   "execution_count": 40,
   "id": "893d8a21-e1d2-4c87-aa3c-400097f4ce84",
   "metadata": {},
   "outputs": [
    {
     "name": "stdout",
     "output_type": "stream",
     "text": [
      "Took 2.3941 seconds for prediction.\n",
      "MAP@10:\t\t0.033190\n",
      "NDCG@10:\t0.108909\n",
      "Precision@10:\t0.098500\n",
      "Recall@10: \t0.058950\n"
     ]
    }
   ],
   "source": [
    "# Use k = 10\n",
    "with Timer() as t:\n",
    "    # Model prediction on the training part of test set \n",
    "    top_k =  model_without_anneal.recommend_k_items(x=test_data_tr,\n",
    "                                                  k=10,\n",
    "                                                  remove_seen=True\n",
    "                                                  )\n",
    "\n",
    "    # Convert sparse matrix back to df\n",
    "    top_k_df = am_test.map_back_sparse(top_k, kind='prediction')\n",
    "    test_df = am_test.map_back_sparse(test_data_te_ratings, kind='ratings') # use test_data_te_, with the original ratings\n",
    "    \n",
    "print(\"Took {} seconds for prediction.\".format(t))\n",
    "\n",
    "# Use the ranking metrics for evaluation\n",
    "eval_map_3 = map_at_k(test_df, top_k_df, col_prediction='prediction', k=10)\n",
    "eval_ndcg_3 = ndcg_at_k(test_df, top_k_df, col_prediction='prediction', k=10)\n",
    "eval_precision_3 = precision_at_k(test_df, top_k_df, col_prediction='prediction', k=10)\n",
    "eval_recall_3 = recall_at_k(test_df, top_k_df, col_prediction='prediction', k=10)\n",
    "\n",
    "print(\"MAP@10:\\t\\t%f\" % eval_map_3,\n",
    "      \"NDCG@10:\\t%f\" % eval_ndcg_3,\n",
    "      \"Precision@10:\\t%f\" % eval_precision_3,\n",
    "      \"Recall@10: \\t%f\" % eval_recall_3, sep='\\n')"
   ]
  },
  {
   "cell_type": "markdown",
   "id": "e6e9ddd3-6382-4ebf-9c00-c22117580cc1",
   "metadata": {},
   "source": [
    "### sentiment 0.5"
   ]
  },
  {
   "cell_type": "code",
   "execution_count": 68,
   "id": "9cf6e6fd-f4b1-4158-a461-94e86605760d",
   "metadata": {},
   "outputs": [
    {
     "name": "stdout",
     "output_type": "stream",
     "text": [
      "Took 2.6226 seconds for prediction.\n",
      "MAP@10:\t\t0.029043\n",
      "NDCG@10:\t0.099178\n",
      "Precision@10:\t0.090833\n",
      "Recall@10: \t0.051179\n"
     ]
    }
   ],
   "source": [
    "# Use k = 10\n",
    "with Timer() as t:\n",
    "    # Model prediction on the training part of test set \n",
    "    top_k =  model_without_anneal.recommend_k_items(x=test_data_tr,\n",
    "                                                  k=10,\n",
    "                                                  remove_seen=True\n",
    "                                                  )\n",
    "\n",
    "    # Convert sparse matrix back to df\n",
    "    top_k_df = am_test.map_back_sparse(top_k, kind='prediction')\n",
    "    test_df = am_test.map_back_sparse(test_data_te_ratings, kind='ratings') # use test_data_te_, with the original ratings\n",
    "    \n",
    "print(\"Took {} seconds for prediction.\".format(t))\n",
    "\n",
    "# Use the ranking metrics for evaluation\n",
    "eval_map_3 = map_at_k(test_df, top_k_df, col_prediction='prediction', k=10)\n",
    "eval_ndcg_3 = ndcg_at_k(test_df, top_k_df, col_prediction='prediction', k=10)\n",
    "eval_precision_3 = precision_at_k(test_df, top_k_df, col_prediction='prediction', k=10)\n",
    "eval_recall_3 = recall_at_k(test_df, top_k_df, col_prediction='prediction', k=10)\n",
    "\n",
    "print(\"MAP@10:\\t\\t%f\" % eval_map_3,\n",
    "      \"NDCG@10:\\t%f\" % eval_ndcg_3,\n",
    "      \"Precision@10:\\t%f\" % eval_precision_3,\n",
    "      \"Recall@10: \\t%f\" % eval_recall_3, sep='\\n')"
   ]
  },
  {
   "cell_type": "markdown",
   "id": "7dadd012",
   "metadata": {},
   "source": [
    "# Inference"
   ]
  },
  {
   "cell_type": "code",
   "execution_count": null,
   "id": "4353912d",
   "metadata": {},
   "outputs": [],
   "source": []
  }
 ],
 "metadata": {
  "interpreter": {
   "hash": "d4d1e4263499bec80672ea0156c357c1ee493ec2b1c70f0acce89fc37c4a6abe"
  },
  "kernelspec": {
   "display_name": "Python 3",
   "language": "python",
   "name": "python3"
  },
  "language_info": {
   "codemirror_mode": {
    "name": "ipython",
    "version": 3
   },
   "file_extension": ".py",
   "mimetype": "text/x-python",
   "name": "python",
   "nbconvert_exporter": "python",
   "pygments_lexer": "ipython3",
   "version": "3.8.5"
  }
 },
 "nbformat": 4,
 "nbformat_minor": 5
}
