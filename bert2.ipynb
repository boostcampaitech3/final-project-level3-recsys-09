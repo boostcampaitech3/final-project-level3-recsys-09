{
 "cells": [
  {
   "cell_type": "code",
   "execution_count": 1,
   "id": "92532ab3-8bbf-4956-ae72-2487824b2ffc",
   "metadata": {},
   "outputs": [],
   "source": [
    "## install 필요\n",
    "# !pip install -q -U tensorflow-text --quiet\n",
    "# !pip install -q tf-models-official"
   ]
  },
  {
   "cell_type": "code",
   "execution_count": 1,
   "id": "0fb53f68-9daa-4709-af4c-e59fd76b3dc0",
   "metadata": {},
   "outputs": [],
   "source": [
    "import json\n",
    "import pandas as pd\n",
    "import numpy as np\n",
    "from tqdm import tqdm\n",
    "import matplotlib.pyplot as plt\n",
    "from datetime import datetime\n",
    "from collections import Counter\n",
    "import pickle\n",
    "import datetime\n",
    "import time\n",
    "import re\n",
    "import random"
   ]
  },
  {
   "cell_type": "code",
   "execution_count": 2,
   "id": "f0b93c0c-6f36-4542-b7ed-8ae72e9698f1",
   "metadata": {},
   "outputs": [],
   "source": [
    "import os\n",
    "import shutil\n",
    "\n",
    "import tensorflow as tf\n",
    "import tensorflow_hub as hub\n",
    "import tensorflow_text as text\n",
    "from official.nlp import optimization  # to create AdamW optimizer\n",
    "\n",
    "import matplotlib.pyplot as plt\n",
    "\n",
    "tf.get_logger().setLevel('ERROR')"
   ]
  },
  {
   "cell_type": "markdown",
   "id": "009c0ff0-a4d5-4f6a-a4d4-18af1be971df",
   "metadata": {},
   "source": [
    "# book_review로 긍부정_dataset 만들기"
   ]
  },
  {
   "cell_type": "code",
   "execution_count": 4,
   "id": "74936afa-c9fa-449e-a4d6-f24c2d37e502",
   "metadata": {},
   "outputs": [],
   "source": [
    "book = pd.read_parquet('files/book_user_14_20.parquet', engine='pyarrow')"
   ]
  },
  {
   "cell_type": "markdown",
   "id": "5ee84762-b612-48e5-a83f-ab8819082795",
   "metadata": {},
   "source": [
    "### 평점을 1~5점까지 다양하게 준 사람을 훈련 데이터로 (평점을 전부 5점으로만 준 사람의 리뷰 데이터는 신뢰도 떨어짐)"
   ]
  },
  {
   "cell_type": "code",
   "execution_count": 5,
   "id": "b0011bef-d951-478e-92c3-3b178c55518c",
   "metadata": {},
   "outputs": [],
   "source": [
    "def overall_count(a):\n",
    "    return a.overall.nunique()"
   ]
  },
  {
   "cell_type": "code",
   "execution_count": 6,
   "id": "0b1ab09c-a8d2-4a2d-bc20-a870684ba57c",
   "metadata": {},
   "outputs": [],
   "source": [
    "user_overall_nunique = book.groupby('reviewerID').apply(overall_count)"
   ]
  },
  {
   "cell_type": "code",
   "execution_count": 7,
   "id": "d387d967-47ff-4b3d-b018-a05414e64221",
   "metadata": {},
   "outputs": [],
   "source": [
    "uon_vc = pd.DataFrame(user_overall_nunique)[0].value_counts()"
   ]
  },
  {
   "cell_type": "code",
   "execution_count": 8,
   "id": "52ae7e1a-dbdc-4cd4-bd72-731309e4a312",
   "metadata": {},
   "outputs": [],
   "source": [
    "overall_5_users = list(user_overall_nunique[user_overall_nunique==5].index)"
   ]
  },
  {
   "cell_type": "code",
   "execution_count": 9,
   "id": "847bc280-bf76-4f10-8678-839b9115f02e",
   "metadata": {},
   "outputs": [],
   "source": [
    "new_book = book[book.reviewerID.isin(overall_5_users)]"
   ]
  },
  {
   "cell_type": "markdown",
   "id": "1d27ff76-caef-46d5-a572-52cd774bd581",
   "metadata": {},
   "source": [
    "### 5점 준게 많아서 5점을 긍정으로, 1,2점을 부정으로"
   ]
  },
  {
   "cell_type": "code",
   "execution_count": 10,
   "id": "ed2f118f-e0ab-48b2-9725-2214ffffde2c",
   "metadata": {},
   "outputs": [],
   "source": [
    "neg_reviews = list(new_book[new_book.overall.isin([1,2])].reviewText)\n",
    "neg_reviews = list(set(neg_reviews))\n",
    "neg_reviews = [i for i in neg_reviews if i != None]"
   ]
  },
  {
   "cell_type": "code",
   "execution_count": 11,
   "id": "34b24154-d77e-4d46-b895-251c0f5f620c",
   "metadata": {},
   "outputs": [],
   "source": [
    "pos_reviews = list(new_book[new_book.overall==5].reviewText)\n",
    "pos_reviews = list(set(pos_reviews))\n",
    "pos_reviews = [i for i in pos_reviews if i != None]"
   ]
  },
  {
   "cell_type": "code",
   "execution_count": 12,
   "id": "ba838e1c-0c4d-4681-b39b-0cff8dbb9e5b",
   "metadata": {},
   "outputs": [
    {
     "name": "stdout",
     "output_type": "stream",
     "text": [
      "279756\n",
      "86157\n"
     ]
    }
   ],
   "source": [
    "print(len(pos_reviews))\n",
    "print(len(neg_reviews))"
   ]
  },
  {
   "cell_type": "markdown",
   "id": "1f5ef3f0-2944-4374-bb7c-4c17bebbc5f2",
   "metadata": {},
   "source": [
    "## 긍부정 비율 맞추기"
   ]
  },
  {
   "cell_type": "code",
   "execution_count": 13,
   "id": "932430ac-ea4c-4065-a8e2-efc2c39acaaa",
   "metadata": {},
   "outputs": [],
   "source": [
    "pos_reviews2 = []\n",
    "random_ind_list = [i for i in range(len(pos_reviews))]\n",
    "pop_ind_list = random.sample(random_ind_list, len(pos_reviews)//3)\n",
    "for ind in pop_ind_list:\n",
    "    pos_reviews2.append(pos_reviews[ind])"
   ]
  },
  {
   "cell_type": "code",
   "execution_count": 14,
   "id": "e8e354c1-8189-4ad5-ac15-1ac6e8b80c3b",
   "metadata": {},
   "outputs": [
    {
     "data": {
      "text/plain": [
       "93252"
      ]
     },
     "execution_count": 14,
     "metadata": {},
     "output_type": "execute_result"
    }
   ],
   "source": [
    "len(pos_reviews2)"
   ]
  },
  {
   "cell_type": "markdown",
   "id": "b220bcde-a8f6-49b6-a14e-35487598de61",
   "metadata": {},
   "source": [
    "### train, test - random으로 split"
   ]
  },
  {
   "cell_type": "code",
   "execution_count": 20,
   "id": "56b15d33-5517-479f-b4c1-1fb2505c88fa",
   "metadata": {},
   "outputs": [],
   "source": [
    "test_pos_reviews = []\n",
    "random_ind_list = [i for i in range(len(pos_reviews2))]\n",
    "pop_ind_list = random.sample(random_ind_list, len(pos_reviews2)//5)\n",
    "for ind in pop_ind_list:\n",
    "    test_pos_reviews.append(pos_reviews2[ind])\n",
    "train_pos_reviews = list(set(pos_reviews2) - set(test_pos_reviews))"
   ]
  },
  {
   "cell_type": "code",
   "execution_count": 21,
   "id": "619cc799-96f8-443f-b038-86a2a5374e22",
   "metadata": {},
   "outputs": [],
   "source": [
    "test_neg_reviews = []\n",
    "random_ind_list = [i for i in range(len(neg_reviews))]\n",
    "pop_ind_list = random.sample(random_ind_list, len(neg_reviews)//5)\n",
    "for ind in pop_ind_list:\n",
    "    test_neg_reviews.append(neg_reviews[ind])\n",
    "train_neg_reviews = list(set(neg_reviews) - set(test_neg_reviews))"
   ]
  },
  {
   "cell_type": "code",
   "execution_count": 22,
   "id": "5de7606a-899c-4bcd-817b-17e900bedc93",
   "metadata": {},
   "outputs": [],
   "source": [
    "# train_pos_reviews = []\n",
    "# test_pos_reviews = []\n",
    "# random_ind_list = [i for i in range(len(pos_reviews))]\n",
    "# pop_ind_list = random.sample(random_ind_list, len(pos_reviews)//5)\n",
    "# for ind in tqdm(range(len(pos_reviews))):\n",
    "#     if ind in pop_ind_list:\n",
    "#         test_pos_reviews.append(pos_reviews[ind])\n",
    "#     else:\n",
    "#         train_pos_reviews.append(pos_reviews[ind])"
   ]
  },
  {
   "cell_type": "code",
   "execution_count": 23,
   "id": "97ca59b5-61d2-4d82-b30f-7af2e8d4b4b0",
   "metadata": {},
   "outputs": [],
   "source": [
    "# train_neg_reviews = []\n",
    "# test_neg_reviews = []\n",
    "# random_ind_list = [i for i in range(len(neg_reviews))]\n",
    "# pop_ind_list = random.sample(random_ind_list, len(neg_reviews)//5)\n",
    "# for ind in tqdm(range(len(neg_reviews))):\n",
    "#     if ind in pop_ind_list:\n",
    "#         test_neg_reviews.append(neg_reviews[ind])\n",
    "#     else:\n",
    "#         train_neg_reviews.append(neg_reviews[ind])"
   ]
  },
  {
   "cell_type": "code",
   "execution_count": 24,
   "id": "07db6d33-013b-49be-ab15-11c508d066e1",
   "metadata": {},
   "outputs": [
    {
     "name": "stdout",
     "output_type": "stream",
     "text": [
      "74602\n",
      "18650\n",
      "68926\n",
      "17231\n"
     ]
    }
   ],
   "source": [
    "print(len(train_pos_reviews))\n",
    "print(len(test_pos_reviews))\n",
    "print(len(train_neg_reviews))\n",
    "print(len(test_neg_reviews))"
   ]
  },
  {
   "cell_type": "code",
   "execution_count": 25,
   "id": "6bf35cac-0390-44e2-9507-c687424b1689",
   "metadata": {},
   "outputs": [],
   "source": [
    "for n,r in enumerate(train_pos_reviews):\n",
    "    f = open(f\"book_review2/train/pos/{n}.txt\", 'w')\n",
    "    f.write(r)\n",
    "    f.close()\n",
    "for n,r in enumerate(test_pos_reviews):\n",
    "    f = open(f\"book_review2/test/pos/{n}.txt\", 'w')\n",
    "    f.write(r)\n",
    "    f.close()\n",
    "for n,r in enumerate(train_neg_reviews):\n",
    "    f = open(f\"book_review2/train/neg/{n}.txt\", 'w')\n",
    "    f.write(r)\n",
    "    f.close()\n",
    "for n,r in enumerate(test_neg_reviews):\n",
    "    f = open(f\"book_review2/test/neg/{n}.txt\", 'w')\n",
    "    f.write(r)\n",
    "    f.close()"
   ]
  },
  {
   "cell_type": "markdown",
   "id": "00193cf5-4c59-427b-a06e-3ca0e453a2ca",
   "metadata": {},
   "source": [
    "# code"
   ]
  },
  {
   "cell_type": "code",
   "execution_count": 26,
   "id": "80f4be94-f49e-4ac7-aeb5-c4222bb01838",
   "metadata": {},
   "outputs": [],
   "source": [
    "dataset_dir = 'book_review2'\n",
    "train_dir = os.path.join(dataset_dir,'train')"
   ]
  },
  {
   "cell_type": "code",
   "execution_count": 27,
   "id": "093c3624-1014-452b-a742-129970244350",
   "metadata": {},
   "outputs": [],
   "source": [
    "# hidden folder 생기는 경우 있어서 제거해줌 - hidden folder 있으면 class에 포함됨\n",
    "if '.ipynb_checkpoints' in os.listdir(\"book_review2/train\"):\n",
    "    shutil.rmtree(\"book_review2/train/.ipynb_checkpoints\")\n",
    "if '.ipynb_checkpoints' in os.listdir(\"book_review2/test\"):\n",
    "    shutil.rmtree(\"book_review2/test/.ipynb_checkpoints\")"
   ]
  },
  {
   "cell_type": "code",
   "execution_count": 30,
   "id": "0e3dfd90-0b88-487e-bc89-d00caa1cb4b1",
   "metadata": {},
   "outputs": [
    {
     "name": "stdout",
     "output_type": "stream",
     "text": [
      "Found 143528 files belonging to 2 classes.\n",
      "Using 114823 files for training.\n",
      "Found 143528 files belonging to 2 classes.\n",
      "Using 28705 files for validation.\n",
      "Found 35881 files belonging to 2 classes.\n"
     ]
    }
   ],
   "source": [
    "AUTOTUNE = tf.data.AUTOTUNE\n",
    "batch_size = 32\n",
    "seed = 42\n",
    "\n",
    "raw_train_ds = tf.keras.preprocessing.text_dataset_from_directory(\n",
    "    'book_review2/train',\n",
    "    batch_size=batch_size,\n",
    "    validation_split=0.2,\n",
    "    subset='training',\n",
    "    seed=seed)\n",
    "\n",
    "class_names = raw_train_ds.class_names\n",
    "train_ds = raw_train_ds.cache().prefetch(buffer_size=AUTOTUNE)\n",
    "\n",
    "val_ds = tf.keras.preprocessing.text_dataset_from_directory(\n",
    "    'book_review2/train',\n",
    "    batch_size=batch_size,\n",
    "    validation_split=0.2,\n",
    "    subset='validation',\n",
    "    seed=seed)\n",
    "\n",
    "val_ds = val_ds.cache().prefetch(buffer_size=AUTOTUNE)\n",
    "\n",
    "test_ds = tf.keras.preprocessing.text_dataset_from_directory(\n",
    "    'book_review2/test',\n",
    "    batch_size=batch_size)\n",
    "\n",
    "test_ds = test_ds.cache().prefetch(buffer_size=AUTOTUNE)"
   ]
  },
  {
   "cell_type": "code",
   "execution_count": 31,
   "id": "1a4a8ff1-71ae-4ca7-b6e8-4cf4d289f0ca",
   "metadata": {},
   "outputs": [
    {
     "data": {
      "text/plain": [
       "['neg', 'pos']"
      ]
     },
     "execution_count": 31,
     "metadata": {},
     "output_type": "execute_result"
    }
   ],
   "source": [
    "class_names"
   ]
  },
  {
   "cell_type": "code",
   "execution_count": 32,
   "id": "e554ead4-05ec-455c-a857-e6d227d51652",
   "metadata": {},
   "outputs": [
    {
     "name": "stdout",
     "output_type": "stream",
     "text": [
      "Review: b\"I love this series and this one certainly didn't disappoint. So many laugh out loud moments. Please let the next book be 1st quarter 2017.  So many things left unanswered. Hoping next book moves story lines forward and answer some long standing questions..\"\n",
      "Label : 1 (pos)\n",
      "Review: b'Im not one for motorcycle club books but this one very entertaining and well written with a great story. It proves the theme of bad things happen to good people and although a somewhat happy ending there are still some unfinished parts of this story that I hope get brought up in future books.'\n",
      "Label : 1 (pos)\n"
     ]
    }
   ],
   "source": [
    "for text_batch, label_batch in train_ds.take(1):\n",
    "    for i in range(2):\n",
    "        print(f'Review: {text_batch.numpy()[i]}')\n",
    "        label = label_batch.numpy()[i]\n",
    "        print(f'Label : {label} ({class_names[label]})')"
   ]
  },
  {
   "cell_type": "code",
   "execution_count": 33,
   "id": "5834b7db-7e90-4b86-abd0-defd6e47960f",
   "metadata": {},
   "outputs": [
    {
     "name": "stdout",
     "output_type": "stream",
     "text": [
      "BERT model selected           : https://tfhub.dev/tensorflow/small_bert/bert_en_uncased_L-2_H-128_A-2/1\n",
      "Preprocess model auto-selected: https://tfhub.dev/tensorflow/bert_en_uncased_preprocess/3\n"
     ]
    }
   ],
   "source": [
    "#@title Choose a BERT model to fine-tune\n",
    "\n",
    "bert_model_name = 'small_bert/bert_en_uncased_L-2_H-128_A-2'  #@param [\"bert_en_uncased_L-12_H-768_A-12\", \"bert_en_cased_L-12_H-768_A-12\", \"bert_multi_cased_L-12_H-768_A-12\", \"small_bert/bert_en_uncased_L-2_H-128_A-2\", \"small_bert/bert_en_uncased_L-2_H-256_A-4\", \"small_bert/bert_en_uncased_L-2_H-512_A-8\", \"small_bert/bert_en_uncased_L-2_H-768_A-12\", \"small_bert/bert_en_uncased_L-4_H-128_A-2\", \"small_bert/bert_en_uncased_L-4_H-256_A-4\", \"small_bert/bert_en_uncased_L-4_H-512_A-8\", \"small_bert/bert_en_uncased_L-4_H-768_A-12\", \"small_bert/bert_en_uncased_L-6_H-128_A-2\", \"small_bert/bert_en_uncased_L-6_H-256_A-4\", \"small_bert/bert_en_uncased_L-6_H-512_A-8\", \"small_bert/bert_en_uncased_L-6_H-768_A-12\", \"small_bert/bert_en_uncased_L-8_H-128_A-2\", \"small_bert/bert_en_uncased_L-8_H-256_A-4\", \"small_bert/bert_en_uncased_L-8_H-512_A-8\", \"small_bert/bert_en_uncased_L-8_H-768_A-12\", \"small_bert/bert_en_uncased_L-10_H-128_A-2\", \"small_bert/bert_en_uncased_L-10_H-256_A-4\", \"small_bert/bert_en_uncased_L-10_H-512_A-8\", \"small_bert/bert_en_uncased_L-10_H-768_A-12\", \"small_bert/bert_en_uncased_L-12_H-128_A-2\", \"small_bert/bert_en_uncased_L-12_H-256_A-4\", \"small_bert/bert_en_uncased_L-12_H-512_A-8\", \"small_bert/bert_en_uncased_L-12_H-768_A-12\", \"albert_en_base\", \"electra_small\", \"electra_base\", \"experts_pubmed\", \"experts_wiki_books\", \"talking-heads_base\"]\n",
    "# bert_model_name = 'electra_base'\n",
    "map_name_to_handle = {\n",
    "    'bert_en_uncased_L-12_H-768_A-12':\n",
    "        'https://tfhub.dev/tensorflow/bert_en_uncased_L-12_H-768_A-12/3',\n",
    "    'bert_en_cased_L-12_H-768_A-12':\n",
    "        'https://tfhub.dev/tensorflow/bert_en_cased_L-12_H-768_A-12/3',\n",
    "    'bert_multi_cased_L-12_H-768_A-12':\n",
    "        'https://tfhub.dev/tensorflow/bert_multi_cased_L-12_H-768_A-12/3',\n",
    "    'small_bert/bert_en_uncased_L-2_H-128_A-2':\n",
    "        'https://tfhub.dev/tensorflow/small_bert/bert_en_uncased_L-2_H-128_A-2/1',\n",
    "    'small_bert/bert_en_uncased_L-2_H-256_A-4':\n",
    "        'https://tfhub.dev/tensorflow/small_bert/bert_en_uncased_L-2_H-256_A-4/1',\n",
    "    'small_bert/bert_en_uncased_L-2_H-512_A-8':\n",
    "        'https://tfhub.dev/tensorflow/small_bert/bert_en_uncased_L-2_H-512_A-8/1',\n",
    "    'small_bert/bert_en_uncased_L-2_H-768_A-12':\n",
    "        'https://tfhub.dev/tensorflow/small_bert/bert_en_uncased_L-2_H-768_A-12/1',\n",
    "    'small_bert/bert_en_uncased_L-4_H-128_A-2':\n",
    "        'https://tfhub.dev/tensorflow/small_bert/bert_en_uncased_L-4_H-128_A-2/1',\n",
    "    'small_bert/bert_en_uncased_L-4_H-256_A-4':\n",
    "        'https://tfhub.dev/tensorflow/small_bert/bert_en_uncased_L-4_H-256_A-4/1',\n",
    "    'small_bert/bert_en_uncased_L-4_H-512_A-8':\n",
    "        'https://tfhub.dev/tensorflow/small_bert/bert_en_uncased_L-4_H-512_A-8/1',\n",
    "    'small_bert/bert_en_uncased_L-4_H-768_A-12':\n",
    "        'https://tfhub.dev/tensorflow/small_bert/bert_en_uncased_L-4_H-768_A-12/1',\n",
    "    'small_bert/bert_en_uncased_L-6_H-128_A-2':\n",
    "        'https://tfhub.dev/tensorflow/small_bert/bert_en_uncased_L-6_H-128_A-2/1',\n",
    "    'small_bert/bert_en_uncased_L-6_H-256_A-4':\n",
    "        'https://tfhub.dev/tensorflow/small_bert/bert_en_uncased_L-6_H-256_A-4/1',\n",
    "    'small_bert/bert_en_uncased_L-6_H-512_A-8':\n",
    "        'https://tfhub.dev/tensorflow/small_bert/bert_en_uncased_L-6_H-512_A-8/1',\n",
    "    'small_bert/bert_en_uncased_L-6_H-768_A-12':\n",
    "        'https://tfhub.dev/tensorflow/small_bert/bert_en_uncased_L-6_H-768_A-12/1',\n",
    "    'small_bert/bert_en_uncased_L-8_H-128_A-2':\n",
    "        'https://tfhub.dev/tensorflow/small_bert/bert_en_uncased_L-8_H-128_A-2/1',\n",
    "    'small_bert/bert_en_uncased_L-8_H-256_A-4':\n",
    "        'https://tfhub.dev/tensorflow/small_bert/bert_en_uncased_L-8_H-256_A-4/1',\n",
    "    'small_bert/bert_en_uncased_L-8_H-512_A-8':\n",
    "        'https://tfhub.dev/tensorflow/small_bert/bert_en_uncased_L-8_H-512_A-8/1',\n",
    "    'small_bert/bert_en_uncased_L-8_H-768_A-12':\n",
    "        'https://tfhub.dev/tensorflow/small_bert/bert_en_uncased_L-8_H-768_A-12/1',\n",
    "    'small_bert/bert_en_uncased_L-10_H-128_A-2':\n",
    "        'https://tfhub.dev/tensorflow/small_bert/bert_en_uncased_L-10_H-128_A-2/1',\n",
    "    'small_bert/bert_en_uncased_L-10_H-256_A-4':\n",
    "        'https://tfhub.dev/tensorflow/small_bert/bert_en_uncased_L-10_H-256_A-4/1',\n",
    "    'small_bert/bert_en_uncased_L-10_H-512_A-8':\n",
    "        'https://tfhub.dev/tensorflow/small_bert/bert_en_uncased_L-10_H-512_A-8/1',\n",
    "    'small_bert/bert_en_uncased_L-10_H-768_A-12':\n",
    "        'https://tfhub.dev/tensorflow/small_bert/bert_en_uncased_L-10_H-768_A-12/1',\n",
    "    'small_bert/bert_en_uncased_L-12_H-128_A-2':\n",
    "        'https://tfhub.dev/tensorflow/small_bert/bert_en_uncased_L-12_H-128_A-2/1',\n",
    "    'small_bert/bert_en_uncased_L-12_H-256_A-4':\n",
    "        'https://tfhub.dev/tensorflow/small_bert/bert_en_uncased_L-12_H-256_A-4/1',\n",
    "    'small_bert/bert_en_uncased_L-12_H-512_A-8':\n",
    "        'https://tfhub.dev/tensorflow/small_bert/bert_en_uncased_L-12_H-512_A-8/1',\n",
    "    'small_bert/bert_en_uncased_L-12_H-768_A-12':\n",
    "        'https://tfhub.dev/tensorflow/small_bert/bert_en_uncased_L-12_H-768_A-12/1',\n",
    "    'albert_en_base':\n",
    "        'https://tfhub.dev/tensorflow/albert_en_base/2',\n",
    "    'electra_small':\n",
    "        'https://tfhub.dev/google/electra_small/2',\n",
    "    'electra_base':\n",
    "        'https://tfhub.dev/google/electra_base/2',\n",
    "    'experts_pubmed':\n",
    "        'https://tfhub.dev/google/experts/bert/pubmed/2',\n",
    "    'experts_wiki_books':\n",
    "        'https://tfhub.dev/google/experts/bert/wiki_books/2',\n",
    "    'talking-heads_base':\n",
    "        'https://tfhub.dev/tensorflow/talkheads_ggelu_bert_en_base/1',\n",
    "}\n",
    "\n",
    "map_model_to_preprocess = {\n",
    "    'bert_en_uncased_L-12_H-768_A-12':\n",
    "        'https://tfhub.dev/tensorflow/bert_en_uncased_preprocess/3',\n",
    "    'bert_en_cased_L-12_H-768_A-12':\n",
    "        'https://tfhub.dev/tensorflow/bert_en_cased_preprocess/3',\n",
    "    'small_bert/bert_en_uncased_L-2_H-128_A-2':\n",
    "        'https://tfhub.dev/tensorflow/bert_en_uncased_preprocess/3',\n",
    "    'small_bert/bert_en_uncased_L-2_H-256_A-4':\n",
    "        'https://tfhub.dev/tensorflow/bert_en_uncased_preprocess/3',\n",
    "    'small_bert/bert_en_uncased_L-2_H-512_A-8':\n",
    "        'https://tfhub.dev/tensorflow/bert_en_uncased_preprocess/3',\n",
    "    'small_bert/bert_en_uncased_L-2_H-768_A-12':\n",
    "        'https://tfhub.dev/tensorflow/bert_en_uncased_preprocess/3',\n",
    "    'small_bert/bert_en_uncased_L-4_H-128_A-2':\n",
    "        'https://tfhub.dev/tensorflow/bert_en_uncased_preprocess/3',\n",
    "    'small_bert/bert_en_uncased_L-4_H-256_A-4':\n",
    "        'https://tfhub.dev/tensorflow/bert_en_uncased_preprocess/3',\n",
    "    'small_bert/bert_en_uncased_L-4_H-512_A-8':\n",
    "        'https://tfhub.dev/tensorflow/bert_en_uncased_preprocess/3',\n",
    "    'small_bert/bert_en_uncased_L-4_H-768_A-12':\n",
    "        'https://tfhub.dev/tensorflow/bert_en_uncased_preprocess/3',\n",
    "    'small_bert/bert_en_uncased_L-6_H-128_A-2':\n",
    "        'https://tfhub.dev/tensorflow/bert_en_uncased_preprocess/3',\n",
    "    'small_bert/bert_en_uncased_L-6_H-256_A-4':\n",
    "        'https://tfhub.dev/tensorflow/bert_en_uncased_preprocess/3',\n",
    "    'small_bert/bert_en_uncased_L-6_H-512_A-8':\n",
    "        'https://tfhub.dev/tensorflow/bert_en_uncased_preprocess/3',\n",
    "    'small_bert/bert_en_uncased_L-6_H-768_A-12':\n",
    "        'https://tfhub.dev/tensorflow/bert_en_uncased_preprocess/3',\n",
    "    'small_bert/bert_en_uncased_L-8_H-128_A-2':\n",
    "        'https://tfhub.dev/tensorflow/bert_en_uncased_preprocess/3',\n",
    "    'small_bert/bert_en_uncased_L-8_H-256_A-4':\n",
    "        'https://tfhub.dev/tensorflow/bert_en_uncased_preprocess/3',\n",
    "    'small_bert/bert_en_uncased_L-8_H-512_A-8':\n",
    "        'https://tfhub.dev/tensorflow/bert_en_uncased_preprocess/3',\n",
    "    'small_bert/bert_en_uncased_L-8_H-768_A-12':\n",
    "        'https://tfhub.dev/tensorflow/bert_en_uncased_preprocess/3',\n",
    "    'small_bert/bert_en_uncased_L-10_H-128_A-2':\n",
    "        'https://tfhub.dev/tensorflow/bert_en_uncased_preprocess/3',\n",
    "    'small_bert/bert_en_uncased_L-10_H-256_A-4':\n",
    "        'https://tfhub.dev/tensorflow/bert_en_uncased_preprocess/3',\n",
    "    'small_bert/bert_en_uncased_L-10_H-512_A-8':\n",
    "        'https://tfhub.dev/tensorflow/bert_en_uncased_preprocess/3',\n",
    "    'small_bert/bert_en_uncased_L-10_H-768_A-12':\n",
    "        'https://tfhub.dev/tensorflow/bert_en_uncased_preprocess/3',\n",
    "    'small_bert/bert_en_uncased_L-12_H-128_A-2':\n",
    "        'https://tfhub.dev/tensorflow/bert_en_uncased_preprocess/3',\n",
    "    'small_bert/bert_en_uncased_L-12_H-256_A-4':\n",
    "        'https://tfhub.dev/tensorflow/bert_en_uncased_preprocess/3',\n",
    "    'small_bert/bert_en_uncased_L-12_H-512_A-8':\n",
    "        'https://tfhub.dev/tensorflow/bert_en_uncased_preprocess/3',\n",
    "    'small_bert/bert_en_uncased_L-12_H-768_A-12':\n",
    "        'https://tfhub.dev/tensorflow/bert_en_uncased_preprocess/3',\n",
    "    'bert_multi_cased_L-12_H-768_A-12':\n",
    "        'https://tfhub.dev/tensorflow/bert_multi_cased_preprocess/3',\n",
    "    'albert_en_base':\n",
    "        'https://tfhub.dev/tensorflow/albert_en_preprocess/3',\n",
    "    'electra_small':\n",
    "        'https://tfhub.dev/tensorflow/bert_en_uncased_preprocess/3',\n",
    "    'electra_base':\n",
    "        'https://tfhub.dev/tensorflow/bert_en_uncased_preprocess/3',\n",
    "    'experts_pubmed':\n",
    "        'https://tfhub.dev/tensorflow/bert_en_uncased_preprocess/3',\n",
    "    'experts_wiki_books':\n",
    "        'https://tfhub.dev/tensorflow/bert_en_uncased_preprocess/3',\n",
    "    'talking-heads_base':\n",
    "        'https://tfhub.dev/tensorflow/bert_en_uncased_preprocess/3',\n",
    "}\n",
    "\n",
    "tfhub_handle_encoder = map_name_to_handle[bert_model_name]\n",
    "tfhub_handle_preprocess = map_model_to_preprocess[bert_model_name]\n",
    "\n",
    "print(f'BERT model selected           : {tfhub_handle_encoder}')\n",
    "print(f'Preprocess model auto-selected: {tfhub_handle_preprocess}')"
   ]
  },
  {
   "cell_type": "code",
   "execution_count": 34,
   "id": "16c8cd2e-8f4d-4c7e-804d-5c18b4ec44a4",
   "metadata": {},
   "outputs": [],
   "source": [
    "bert_preprocess_model = hub.KerasLayer(tfhub_handle_preprocess)"
   ]
  },
  {
   "cell_type": "code",
   "execution_count": 35,
   "id": "91ff8fe5-c43b-44a9-889e-76fef895ab00",
   "metadata": {},
   "outputs": [],
   "source": [
    "# text_test = ['this is such an amazing movie!. I hate the movie', 'hello world']\n",
    "# text_preprocessed = bert_preprocess_model(text_test)\n",
    "\n",
    "# print(f'Keys       : {list(text_preprocessed.keys())}')\n",
    "# print(f'Shape      : {text_preprocessed[\"input_word_ids\"].shape}')\n",
    "# print(f'Word Ids   : {text_preprocessed[\"input_word_ids\"][0, :12]}')\n",
    "# print(f'Input Mask : {text_preprocessed[\"input_mask\"]}')\n",
    "# print(f'Type Ids   : {text_preprocessed[\"input_type_ids\"]}')"
   ]
  },
  {
   "cell_type": "code",
   "execution_count": 36,
   "id": "f50c4494-5081-4d6a-a214-b72eef5ff407",
   "metadata": {},
   "outputs": [],
   "source": [
    "bert_model = hub.KerasLayer(tfhub_handle_encoder)"
   ]
  },
  {
   "cell_type": "code",
   "execution_count": 37,
   "id": "a5f41d85-1a4b-44bc-8568-5a59d3e6080e",
   "metadata": {},
   "outputs": [],
   "source": [
    "# bert_results = bert_model(text_preprocessed)\n",
    "\n",
    "# print(f'Loaded BERT: {tfhub_handle_encoder}')\n",
    "# print(f'Pooled Outputs Shape:{bert_results[\"pooled_output\"].shape}')\n",
    "# print(f'Pooled Outputs Values:{bert_results[\"pooled_output\"][0, :12]}')\n",
    "# print(f'Sequence Outputs Shape:{bert_results[\"sequence_output\"].shape}')\n",
    "# print(f'Sequence Outputs Values:{bert_results[\"sequence_output\"][0, :12]}')"
   ]
  },
  {
   "cell_type": "code",
   "execution_count": 38,
   "id": "972bec82-6c40-4c45-93bc-f7a9f2af235b",
   "metadata": {},
   "outputs": [],
   "source": [
    "def build_classifier_model():\n",
    "    text_input = tf.keras.layers.Input(shape=(), dtype=tf.string, name='text')\n",
    "    preprocessing_layer = hub.KerasLayer(tfhub_handle_preprocess, name='preprocessing')\n",
    "    encoder_inputs = preprocessing_layer(text_input)\n",
    "    encoder = hub.KerasLayer(tfhub_handle_encoder, trainable=True, name='BERT_encoder')\n",
    "    outputs = encoder(encoder_inputs)\n",
    "    net = outputs['pooled_output']\n",
    "    net = tf.keras.layers.Dropout(0.1)(net)\n",
    "    net = tf.keras.layers.Dense(1, activation=None, name='classifier')(net)\n",
    "    return tf.keras.Model(text_input, net)"
   ]
  },
  {
   "cell_type": "code",
   "execution_count": 39,
   "id": "58d17436-660b-41ed-a50f-28915b1c7296",
   "metadata": {},
   "outputs": [],
   "source": [
    "classifier_model = build_classifier_model()\n",
    "# bert_raw_result = classifier_model(tf.constant(text_test))\n",
    "# print(tf.sigmoid(bert_raw_result))"
   ]
  },
  {
   "cell_type": "code",
   "execution_count": 40,
   "id": "24dc5e91-b0dd-4bc3-9be5-6b350439367a",
   "metadata": {},
   "outputs": [],
   "source": [
    "loss = tf.keras.losses.BinaryCrossentropy(from_logits=True)\n",
    "metrics = tf.metrics.BinaryAccuracy()"
   ]
  },
  {
   "cell_type": "code",
   "execution_count": 41,
   "id": "b19e2609-ee74-4c9e-8878-ae24a6f8ea72",
   "metadata": {},
   "outputs": [],
   "source": [
    "epochs = 6\n",
    "steps_per_epoch = tf.data.experimental.cardinality(train_ds).numpy()\n",
    "num_train_steps = steps_per_epoch * epochs\n",
    "num_warmup_steps = int(0.1*num_train_steps)\n",
    "\n",
    "init_lr = 3e-5\n",
    "optimizer = optimization.create_optimizer(init_lr=init_lr,\n",
    "                                          num_train_steps=num_train_steps,\n",
    "                                          num_warmup_steps=num_warmup_steps,\n",
    "                                          optimizer_type='adamw')"
   ]
  },
  {
   "cell_type": "code",
   "execution_count": 42,
   "id": "470dff35-f54d-42cd-a0ad-ba5b263d16c0",
   "metadata": {},
   "outputs": [],
   "source": [
    "classifier_model.compile(optimizer=optimizer,\n",
    "                         loss=loss,\n",
    "                         metrics=metrics)"
   ]
  },
  {
   "cell_type": "code",
   "execution_count": 43,
   "id": "5447bb17-17b0-4bbb-9986-ad80dd240ae6",
   "metadata": {},
   "outputs": [
    {
     "data": {
      "text/plain": [
       "3589"
      ]
     },
     "execution_count": 43,
     "metadata": {},
     "output_type": "execute_result"
    }
   ],
   "source": [
    "len(train_ds)"
   ]
  },
  {
   "cell_type": "code",
   "execution_count": 44,
   "id": "c03a6fd0-901b-41fe-9954-2dd8eaac3fa8",
   "metadata": {},
   "outputs": [
    {
     "name": "stdout",
     "output_type": "stream",
     "text": [
      "Training model with https://tfhub.dev/tensorflow/small_bert/bert_en_uncased_L-2_H-128_A-2/1\n",
      "Epoch 1/6\n",
      "3589/3589 [==============================] - 720s 199ms/step - loss: 0.4340 - binary_accuracy: 0.7776 - val_loss: 0.2657 - val_binary_accuracy: 0.8883\n",
      "Epoch 2/6\n",
      "3589/3589 [==============================] - 713s 199ms/step - loss: 0.2731 - binary_accuracy: 0.8844 - val_loss: 0.2363 - val_binary_accuracy: 0.9030\n",
      "Epoch 3/6\n",
      "3589/3589 [==============================] - 713s 199ms/step - loss: 0.2400 - binary_accuracy: 0.9003 - val_loss: 0.2275 - val_binary_accuracy: 0.9069\n",
      "Epoch 4/6\n",
      "3589/3589 [==============================] - 712s 198ms/step - loss: 0.2209 - binary_accuracy: 0.9095 - val_loss: 0.2272 - val_binary_accuracy: 0.9119\n",
      "Epoch 5/6\n",
      "3589/3589 [==============================] - 712s 198ms/step - loss: 0.2087 - binary_accuracy: 0.9162 - val_loss: 0.2257 - val_binary_accuracy: 0.9132\n",
      "Epoch 6/6\n",
      "3589/3589 [==============================] - 711s 198ms/step - loss: 0.2018 - binary_accuracy: 0.9199 - val_loss: 0.2277 - val_binary_accuracy: 0.9133\n"
     ]
    }
   ],
   "source": [
    "print(f'Training model with {tfhub_handle_encoder}')\n",
    "history = classifier_model.fit(x=train_ds,\n",
    "                               validation_data=val_ds,\n",
    "                               epochs=epochs)"
   ]
  },
  {
   "cell_type": "markdown",
   "id": "3aa40bce-3028-4244-a8e8-1ac0e563dc7e",
   "metadata": {},
   "source": [
    "# test 정확도"
   ]
  },
  {
   "cell_type": "code",
   "execution_count": 45,
   "id": "40779605-4637-4a5b-afa1-aa4b216f9320",
   "metadata": {},
   "outputs": [
    {
     "name": "stdout",
     "output_type": "stream",
     "text": [
      "1122/1122 [==============================] - 68s 61ms/step - loss: 0.2300 - binary_accuracy: 0.9108\n",
      "Loss: 0.2300180345773697\n",
      "Accuracy: 0.9108163118362427\n"
     ]
    }
   ],
   "source": [
    "loss, accuracy = classifier_model.evaluate(test_ds)\n",
    "\n",
    "print(f'Loss: {loss}')\n",
    "print(f'Accuracy: {accuracy}')"
   ]
  },
  {
   "cell_type": "code",
   "execution_count": 46,
   "id": "234437d4-cbfa-467f-a363-45c2469790a7",
   "metadata": {},
   "outputs": [
    {
     "name": "stdout",
     "output_type": "stream",
     "text": [
      "dict_keys(['loss', 'binary_accuracy', 'val_loss', 'val_binary_accuracy'])\n"
     ]
    },
    {
     "data": {
      "text/plain": [
       "<matplotlib.legend.Legend at 0x7f9e7ee5b5b0>"
      ]
     },
     "execution_count": 46,
     "metadata": {},
     "output_type": "execute_result"
    },
    {
     "data": {
      "image/png": "[encoded data removed]",
      "text/plain": [
       "<Figure size 720x432 with 2 Axes>"
      ]
     },
     "metadata": {
      "needs_background": "light"
     },
     "output_type": "display_data"
    }
   ],
   "source": [
    "history_dict = history.history\n",
    "print(history_dict.keys())\n",
    "\n",
    "acc = history_dict['binary_accuracy']\n",
    "val_acc = history_dict['val_binary_accuracy']\n",
    "loss = history_dict['loss']\n",
    "val_loss = history_dict['val_loss']\n",
    "\n",
    "epochs_ = range(1, len(acc) + 1)\n",
    "fig = plt.figure(figsize=(10, 6))\n",
    "fig.tight_layout()\n",
    "\n",
    "plt.subplot(2, 1, 1)\n",
    "# r is for \"solid red line\"\n",
    "plt.plot(epochs_, loss, 'r', label='Training loss')\n",
    "# b is for \"solid blue line\"\n",
    "plt.plot(epochs_, val_loss, 'b', label='Validation loss')\n",
    "plt.title('Training and validation loss')\n",
    "# plt.xlabel('epochs_')\n",
    "plt.ylabel('Loss')\n",
    "plt.legend()\n",
    "\n",
    "plt.subplot(2, 1, 2)\n",
    "plt.plot(epochs_, acc, 'r', label='Training acc')\n",
    "plt.plot(epochs_, val_acc, 'b', label='Validation acc')\n",
    "plt.title('Training and validation accuracy')\n",
    "plt.xlabel('epochs_')\n",
    "plt.ylabel('Accuracy')\n",
    "plt.legend(loc='lower right')"
   ]
  },
  {
   "cell_type": "code",
   "execution_count": 47,
   "id": "caf017e9-7c74-4e5b-8726-407675ca52a1",
   "metadata": {},
   "outputs": [
    {
     "name": "stderr",
     "output_type": "stream",
     "text": [
      "WARNING:absl:Found untraced functions such as restored_function_body, restored_function_body, restored_function_body, restored_function_body, restored_function_body while saving (showing 5 of 64). These functions will not be directly callable after loading.\n"
     ]
    }
   ],
   "source": [
    "dataset_name = 'book2'\n",
    "saved_model_path = './{}_bert'.format(dataset_name.replace('/', '_'))\n",
    "\n",
    "classifier_model.save(saved_model_path, include_optimizer=False)"
   ]
  },
  {
   "cell_type": "code",
   "execution_count": 48,
   "id": "b0b0e26a-9f6a-4686-bcac-b44c0c16c00c",
   "metadata": {},
   "outputs": [],
   "source": [
    "reloaded_model = tf.saved_model.load(saved_model_path)"
   ]
  },
  {
   "cell_type": "code",
   "execution_count": 49,
   "id": "f0569155-ecf8-4ccd-84c8-c1200563638e",
   "metadata": {},
   "outputs": [
    {
     "name": "stdout",
     "output_type": "stream",
     "text": [
      "Results from the saved model:\n",
      "input: this is such an amazing movie! : score: 0.996751\n",
      "input: The movie was great!           : score: 0.988928\n",
      "input: The movie was meh.             : score: 0.099834\n",
      "input: The movie was okish.           : score: 0.005389\n",
      "input: The movie was terrible...      : score: 0.005237\n",
      "input: Most certainly one of the most heart warming books I've had the pleasure of reading in a long time ! Thoroughly enjoyed it ! And would ask anyone getting the chance to read ,please do : score: 0.994345\n",
      "\n",
      "Results from the model in memory:\n",
      "input: this is such an amazing movie! : score: 0.996751\n",
      "input: The movie was great!           : score: 0.988928\n",
      "input: The movie was meh.             : score: 0.099834\n",
      "input: The movie was okish.           : score: 0.005389\n",
      "input: The movie was terrible...      : score: 0.005237\n",
      "input: Most certainly one of the most heart warming books I've had the pleasure of reading in a long time ! Thoroughly enjoyed it ! And would ask anyone getting the chance to read ,please do : score: 0.994345\n",
      "\n"
     ]
    }
   ],
   "source": [
    "def print_my_examples(inputs, results):\n",
    "    result_for_printing = \\\n",
    "      [f'input: {inputs[i]:<30} : score: {results[i][0]:.6f}'\n",
    "                           for i in range(len(inputs))]\n",
    "    print(*result_for_printing, sep='\\n')\n",
    "    print()\n",
    "\n",
    "\n",
    "examples = [\n",
    "    'this is such an amazing movie!',  # this is the same sentence tried earlier\n",
    "    'The movie was great!',\n",
    "    'The movie was meh.',\n",
    "    'The movie was okish.',\n",
    "    'The movie was terrible...',\n",
    "    \"Most certainly one of the most heart warming books I've had the pleasure of reading in a long time ! Thoroughly enjoyed it ! And would ask anyone getting the chance to read ,please do\"\n",
    "]\n",
    "\n",
    "reloaded_results = tf.sigmoid(reloaded_model(tf.constant(examples)))\n",
    "original_results = tf.sigmoid(classifier_model(tf.constant(examples)))\n",
    "\n",
    "print('Results from the saved model:')\n",
    "print_my_examples(examples, reloaded_results)\n",
    "print('Results from the model in memory:')\n",
    "print_my_examples(examples, original_results)"
   ]
  },
  {
   "cell_type": "code",
   "execution_count": 50,
   "id": "a323b4ac-a15d-4e01-a8c9-386c5753ffbd",
   "metadata": {},
   "outputs": [
    {
     "name": "stdout",
     "output_type": "stream",
     "text": [
      "input: this is such an amazing movie! : score: 0.996751\n",
      "input: The movie was great!           : score: 0.988928\n",
      "input: The movie was meh.             : score: 0.099834\n",
      "input: The movie was okish.           : score: 0.005389\n",
      "input: The movie was terrible...      : score: 0.005237\n",
      "input: Most certainly one of the most heart warming books I've had the pleasure of reading in a long time ! Thoroughly enjoyed it ! And would ask anyone getting the chance to read ,please do : score: 0.994345\n",
      "\n"
     ]
    }
   ],
   "source": [
    "serving_results = reloaded_model \\\n",
    "            .signatures['serving_default'](tf.constant(examples))\n",
    "\n",
    "serving_results = tf.sigmoid(serving_results['classifier'])\n",
    "\n",
    "print_my_examples(examples, serving_results)"
   ]
  },
  {
   "cell_type": "markdown",
   "id": "6fab49f0-6aab-416a-a122-340a2203e969",
   "metadata": {},
   "source": [
    "# 리뷰 긍부정 점수 컬럼 생성"
   ]
  },
  {
   "cell_type": "code",
   "execution_count": 3,
   "id": "8a3116ef-b64e-48c6-9ba5-e339cbc4ce3e",
   "metadata": {},
   "outputs": [],
   "source": [
    "df = pd.read_parquet('merge_book_2015_30_5.parquet', engine='pyarrow')"
   ]
  },
  {
   "cell_type": "code",
   "execution_count": 5,
   "id": "517e73a8-ab9f-44e7-b290-be006485f9a2",
   "metadata": {},
   "outputs": [],
   "source": [
    "reloaded_model = tf.saved_model.load('book_bert')"
   ]
  },
  {
   "cell_type": "code",
   "execution_count": 6,
   "id": "437a965e-8d3f-4f8c-917f-1ead5c2d670f",
   "metadata": {},
   "outputs": [],
   "source": [
    "df_reviews = []\n",
    "for i in df.reviewText:\n",
    "    if i != None:\n",
    "        df_reviews.append(i)"
   ]
  },
  {
   "cell_type": "code",
   "execution_count": 7,
   "id": "5da984a8-60ed-4caf-bfc3-76e6162b23d6",
   "metadata": {},
   "outputs": [
    {
     "data": {
      "text/plain": [
       "823236"
      ]
     },
     "execution_count": 7,
     "metadata": {},
     "output_type": "execute_result"
    }
   ],
   "source": [
    "len(df_reviews)"
   ]
  },
  {
   "cell_type": "code",
   "execution_count": 8,
   "id": "6a26c535-2c71-416b-aca7-f35cb5900beb",
   "metadata": {},
   "outputs": [],
   "source": [
    "# review_sentiment_scores = tf.sigmoid(reloaded_model(tf.constant(df_reviews)))"
   ]
  },
  {
   "cell_type": "markdown",
   "id": "edc64860-ed7a-40cb-8b2d-c6ace988e5df",
   "metadata": {},
   "source": [
    "### 기존 컬럼에 모델 적용"
   ]
  },
  {
   "cell_type": "code",
   "execution_count": 9,
   "id": "be39e954-b321-4811-b220-a17c1e1257fe",
   "metadata": {},
   "outputs": [
    {
     "name": "stderr",
     "output_type": "stream",
     "text": [
      "100%|██████████| 8233/8233 [23:42<00:00,  5.79it/s]\n"
     ]
    }
   ],
   "source": [
    "# 한번에 하면 메모리 에러 나서 100개씩 진행\n",
    "review_score_list = []\n",
    "for i in tqdm(range(len(df_reviews)//100+1)):\n",
    "    for j in reloaded_model(tf.constant(df_reviews[i*100:i*100+100])):\n",
    "        review_score_list.append(float(j))"
   ]
  },
  {
   "cell_type": "code",
   "execution_count": 10,
   "id": "e75abf3c-c3c9-4f41-a3b4-b57d7aa0f224",
   "metadata": {},
   "outputs": [
    {
     "data": {
      "text/plain": [
       "823236"
      ]
     },
     "execution_count": 10,
     "metadata": {},
     "output_type": "execute_result"
    }
   ],
   "source": [
    "len(review_score_list)"
   ]
  },
  {
   "cell_type": "code",
   "execution_count": 11,
   "id": "75a4be34-1e49-4d7f-870c-8731b23f9192",
   "metadata": {},
   "outputs": [],
   "source": [
    "review_score_list = tf.sigmoid(review_score_list)"
   ]
  },
  {
   "cell_type": "code",
   "execution_count": 19,
   "id": "28d26ed6-cdcb-4898-b011-541aa1d20f1c",
   "metadata": {},
   "outputs": [
    {
     "name": "stderr",
     "output_type": "stream",
     "text": [
      "100%|██████████| 823236/823236 [02:05<00:00, 6555.92it/s]\n"
     ]
    }
   ],
   "source": [
    "review_score_list_float = []\n",
    "for i in tqdm(review_score_list):\n",
    "    review_score_list_float.append(float(i))"
   ]
  },
  {
   "cell_type": "code",
   "execution_count": 21,
   "id": "49ebc642-b7a7-4248-9b46-541ea0b54b0f",
   "metadata": {},
   "outputs": [],
   "source": [
    "total_review_score_list = review_score_list_float.copy()"
   ]
  },
  {
   "cell_type": "code",
   "execution_count": 22,
   "id": "14fc306b-3317-458b-8087-6f16ebc3e442",
   "metadata": {},
   "outputs": [],
   "source": [
    "# review가 none 값 들어있는 index에 감성점수도 none값 넣어줌\n",
    "none_review_index = list(df[pd.isnull(df.reviewText)].index)"
   ]
  },
  {
   "cell_type": "code",
   "execution_count": 23,
   "id": "94e7bc12-50cd-4647-8f92-4c5b0d906496",
   "metadata": {},
   "outputs": [],
   "source": [
    "for i in none_review_index:\n",
    "    total_review_score_list.insert(i,None)"
   ]
  },
  {
   "cell_type": "code",
   "execution_count": 24,
   "id": "11cc6566-66de-4473-b0b4-80ce278df9b8",
   "metadata": {},
   "outputs": [],
   "source": [
    "df['review_sentiment_score'] = total_review_score_list"
   ]
  },
  {
   "cell_type": "code",
   "execution_count": 27,
   "id": "33edf342-45d8-4676-9738-ab0ef0926a9c",
   "metadata": {},
   "outputs": [],
   "source": [
    "df.to_parquet('merge_book_sentiment_2015_30_5.parquet', engine='pyarrow', index=False)"
   ]
  },
  {
   "cell_type": "code",
   "execution_count": null,
   "id": "f138d638-2b68-4869-be06-9f22d1a5350f",
   "metadata": {},
   "outputs": [],
   "source": []
  }
 ],
 "metadata": {
  "kernelspec": {
   "display_name": "Python 3",
   "language": "python",
   "name": "python3"
  },
  "language_info": {
   "codemirror_mode": {
    "name": "ipython",
    "version": 3
   },
   "file_extension": ".py",
   "mimetype": "text/x-python",
   "name": "python",
   "nbconvert_exporter": "python",
   "pygments_lexer": "ipython3",
   "version": "3.8.5"
  }
 },
 "nbformat": 4,
 "nbformat_minor": 5
}
