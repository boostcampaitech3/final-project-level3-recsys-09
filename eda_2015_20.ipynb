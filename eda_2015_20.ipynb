{
 "cells": [
  {
   "cell_type": "code",
   "execution_count": 99,
   "id": "108f8f6e-7f37-4411-9c5a-55d68adadbb1",
   "metadata": {},
   "outputs": [],
   "source": [
    "import json\n",
    "import pandas as pd\n",
    "import numpy as np\n",
    "from tqdm import tqdm\n",
    "import matplotlib.pyplot as plt\n",
    "from datetime import datetime\n",
    "from collections import Counter\n",
    "import pickle\n",
    "import datetime"
   ]
  },
  {
   "cell_type": "markdown",
   "id": "40e8e10f-7da4-4361-b7e1-3646470d6e9b",
   "metadata": {},
   "source": [
    "# Books"
   ]
  },
  {
   "cell_type": "code",
   "execution_count": 2,
   "id": "c9a27ecd-b78e-4064-b3e5-fdcc62d53458",
   "metadata": {},
   "outputs": [],
   "source": [
    "df = pd.read_parquet('book_user_2015_20.parquet', engine='pyarrow')"
   ]
  },
  {
   "cell_type": "code",
   "execution_count": 5,
   "id": "34cf00f9-1ef8-40a9-a592-5aa3526d6b02",
   "metadata": {},
   "outputs": [
    {
     "data": {
      "text/plain": [
       "(1777863, 8)"
      ]
     },
     "execution_count": 5,
     "metadata": {},
     "output_type": "execute_result"
    }
   ],
   "source": [
    "df.shape"
   ]
  },
  {
   "cell_type": "code",
   "execution_count": 6,
   "id": "a62db0e0-b1de-4ff0-ab97-ba50c77d1b87",
   "metadata": {},
   "outputs": [
    {
     "name": "stdout",
     "output_type": "stream",
     "text": [
      "<class 'pandas.core.frame.DataFrame'>\n",
      "RangeIndex: 1777863 entries, 0 to 1777862\n",
      "Data columns (total 8 columns):\n",
      " #   Column          Dtype \n",
      "---  ------          ----- \n",
      " 0   overall         int16 \n",
      " 1   verified        bool  \n",
      " 2   reviewerID      object\n",
      " 3   asin            object\n",
      " 4   style           object\n",
      " 5   reviewText      object\n",
      " 6   summary         object\n",
      " 7   unixReviewTime  int32 \n",
      "dtypes: bool(1), int16(1), int32(1), object(5)\n",
      "memory usage: 79.7+ MB\n"
     ]
    }
   ],
   "source": [
    "df.info()"
   ]
  },
  {
   "cell_type": "code",
   "execution_count": 7,
   "id": "9196c22e-82eb-49ca-822f-a4a0f661d915",
   "metadata": {},
   "outputs": [
    {
     "data": {
      "text/html": [
       "<div>\n",
       "<style scoped>\n",
       "    .dataframe tbody tr th:only-of-type {\n",
       "        vertical-align: middle;\n",
       "    }\n",
       "\n",
       "    .dataframe tbody tr th {\n",
       "        vertical-align: top;\n",
       "    }\n",
       "\n",
       "    .dataframe thead th {\n",
       "        text-align: right;\n",
       "    }\n",
       "</style>\n",
       "<table border=\"1\" class=\"dataframe\">\n",
       "  <thead>\n",
       "    <tr style=\"text-align: right;\">\n",
       "      <th></th>\n",
       "      <th>overall</th>\n",
       "      <th>verified</th>\n",
       "      <th>reviewerID</th>\n",
       "      <th>asin</th>\n",
       "      <th>style</th>\n",
       "      <th>reviewText</th>\n",
       "      <th>summary</th>\n",
       "      <th>unixReviewTime</th>\n",
       "    </tr>\n",
       "  </thead>\n",
       "  <tbody>\n",
       "    <tr>\n",
       "      <th>0</th>\n",
       "      <td>5</td>\n",
       "      <td>True</td>\n",
       "      <td>AVP0HXC9FG790</td>\n",
       "      <td>0001713353</td>\n",
       "      <td>None</td>\n",
       "      <td>The kids loved it!</td>\n",
       "      <td>Five Stars</td>\n",
       "      <td>1466380800</td>\n",
       "    </tr>\n",
       "    <tr>\n",
       "      <th>1</th>\n",
       "      <td>5</td>\n",
       "      <td>False</td>\n",
       "      <td>A2RE7WG349NV5D</td>\n",
       "      <td>0001713353</td>\n",
       "      <td>{'Color:': None, 'Format:': ' Paperback', 'Pac...</td>\n",
       "      <td>LOVE IT</td>\n",
       "      <td>Five Stars</td>\n",
       "      <td>1436400000</td>\n",
       "    </tr>\n",
       "    <tr>\n",
       "      <th>2</th>\n",
       "      <td>5</td>\n",
       "      <td>True</td>\n",
       "      <td>A2CVLIZ9ELU88</td>\n",
       "      <td>0001061240</td>\n",
       "      <td>{'Color:': None, 'Format:': ' Hardcover', 'Pac...</td>\n",
       "      <td>I had this book as a child and loved it. The c...</td>\n",
       "      <td>A wonderful poetry collection with superior co...</td>\n",
       "      <td>1475712000</td>\n",
       "    </tr>\n",
       "    <tr>\n",
       "      <th>3</th>\n",
       "      <td>5</td>\n",
       "      <td>True</td>\n",
       "      <td>A3LAQSHW9IVKUO</td>\n",
       "      <td>0002005263</td>\n",
       "      <td>{'Color:': None, 'Format:': ' Mass Market Pape...</td>\n",
       "      <td>Typical Hillerman, the only mystery set in mod...</td>\n",
       "      <td>You will want to take notes</td>\n",
       "      <td>1478390400</td>\n",
       "    </tr>\n",
       "    <tr>\n",
       "      <th>4</th>\n",
       "      <td>5</td>\n",
       "      <td>True</td>\n",
       "      <td>A2B4R7L8FX9BGT</td>\n",
       "      <td>0002005263</td>\n",
       "      <td>{'Color:': None, 'Format:': ' Kindle Edition',...</td>\n",
       "      <td>Love it.</td>\n",
       "      <td>Five Stars</td>\n",
       "      <td>1452297600</td>\n",
       "    </tr>\n",
       "  </tbody>\n",
       "</table>\n",
       "</div>"
      ],
      "text/plain": [
       "   overall  verified      reviewerID        asin  \\\n",
       "0        5      True   AVP0HXC9FG790  0001713353   \n",
       "1        5     False  A2RE7WG349NV5D  0001713353   \n",
       "2        5      True   A2CVLIZ9ELU88  0001061240   \n",
       "3        5      True  A3LAQSHW9IVKUO  0002005263   \n",
       "4        5      True  A2B4R7L8FX9BGT  0002005263   \n",
       "\n",
       "                                               style  \\\n",
       "0                                               None   \n",
       "1  {'Color:': None, 'Format:': ' Paperback', 'Pac...   \n",
       "2  {'Color:': None, 'Format:': ' Hardcover', 'Pac...   \n",
       "3  {'Color:': None, 'Format:': ' Mass Market Pape...   \n",
       "4  {'Color:': None, 'Format:': ' Kindle Edition',...   \n",
       "\n",
       "                                          reviewText  \\\n",
       "0                                 The kids loved it!   \n",
       "1                                            LOVE IT   \n",
       "2  I had this book as a child and loved it. The c...   \n",
       "3  Typical Hillerman, the only mystery set in mod...   \n",
       "4                                           Love it.   \n",
       "\n",
       "                                             summary  unixReviewTime  \n",
       "0                                         Five Stars      1466380800  \n",
       "1                                         Five Stars      1436400000  \n",
       "2  A wonderful poetry collection with superior co...      1475712000  \n",
       "3                        You will want to take notes      1478390400  \n",
       "4                                         Five Stars      1452297600  "
      ]
     },
     "execution_count": 7,
     "metadata": {},
     "output_type": "execute_result"
    }
   ],
   "source": [
    "df.head()"
   ]
  },
  {
   "cell_type": "markdown",
   "id": "65a985fa-441c-496f-955b-047bfff02762",
   "metadata": {},
   "source": [
    "# datetime -형식 변환"
   ]
  },
  {
   "cell_type": "code",
   "execution_count": 20,
   "id": "06b641fb-8511-48bf-8869-244cd739adb5",
   "metadata": {},
   "outputs": [],
   "source": [
    "df['timestamp'] = df['unixReviewTime'].apply(lambda x : datetime.date.fromtimestamp(x))"
   ]
  },
  {
   "cell_type": "code",
   "execution_count": 22,
   "id": "4bfb5d04-fa68-462b-a749-7ac9a38ea283",
   "metadata": {},
   "outputs": [],
   "source": [
    "df.drop('unixReviewTime',axis=1,inplace=True)"
   ]
  },
  {
   "cell_type": "code",
   "execution_count": 29,
   "id": "f8c27d2d-9bbe-41ce-8fe2-b15eded5b24e",
   "metadata": {},
   "outputs": [],
   "source": [
    "df['year'] = df['timestamp'].apply(lambda x : x.year)\n",
    "df['month'] = df['timestamp'].apply(lambda x : x.month)\n",
    "df['date'] = df['timestamp'].apply(lambda x : x.weekday())"
   ]
  },
  {
   "cell_type": "code",
   "execution_count": 62,
   "id": "02329a6c-0ba2-42e7-b244-31fff6e8f624",
   "metadata": {},
   "outputs": [],
   "source": [
    "# year랑 month 합침\n",
    "df['year_month'] = df.apply(lambda x : str(x['year'])+'_'+str(x['month']) if x['month']>=10 \n",
    "                            else str(x['year'])+'_0'+str(x['month']),axis=1)"
   ]
  },
  {
   "cell_type": "markdown",
   "id": "d66a7b88-6b57-46d8-bb75-f2fd3d127098",
   "metadata": {},
   "source": [
    "### year"
   ]
  },
  {
   "cell_type": "code",
   "execution_count": 68,
   "id": "546f8a1e-e998-4cf9-8c79-8ea4a9959525",
   "metadata": {},
   "outputs": [
    {
     "data": {
      "image/png": "[encoded data removed]",
      "text/plain": [
       "<Figure size 432x288 with 1 Axes>"
      ]
     },
     "metadata": {
      "needs_background": "light"
     },
     "output_type": "display_data"
    }
   ],
   "source": [
    "word = 'year'\n",
    "df_feature_vc = df[word].value_counts()\n",
    "plt.bar(df_feature_vc.index, df_feature_vc)\n",
    "plt.title(f'{word}')\n",
    "plt.show()"
   ]
  },
  {
   "cell_type": "markdown",
   "id": "5b094d6d-71e5-4104-ac9d-3cf0308aaaf6",
   "metadata": {},
   "source": [
    "### month"
   ]
  },
  {
   "cell_type": "code",
   "execution_count": 57,
   "id": "d1030b03-bd23-4fb1-8fda-0aca3282904f",
   "metadata": {},
   "outputs": [
    {
     "data": {
      "image/png": "[encoded data removed]",
      "text/plain": [
       "<Figure size 432x288 with 1 Axes>"
      ]
     },
     "metadata": {
      "needs_background": "light"
     },
     "output_type": "display_data"
    }
   ],
   "source": [
    "word = 'month'\n",
    "df_feature_vc = df[word].value_counts()\n",
    "plt.bar(df_feature_vc.index, df_feature_vc)\n",
    "plt.title(f'{word}')\n",
    "plt.show()"
   ]
  },
  {
   "cell_type": "markdown",
   "id": "3a781806-6eb9-42ca-ac4f-28baee41c4bb",
   "metadata": {},
   "source": [
    "### year_month - 계속 증가하는 추세인데, 2018년 5월부터 데이터가 이상함. 2018년 4월까지만 사용하는 것도 고려"
   ]
  },
  {
   "cell_type": "code",
   "execution_count": 63,
   "id": "ab5ad6e3-0c6d-4bf8-be43-4a042991ccdd",
   "metadata": {},
   "outputs": [
    {
     "data": {
      "image/png": "[encoded data removed]",
      "text/plain": [
       "<Figure size 720x360 with 1 Axes>"
      ]
     },
     "metadata": {
      "needs_background": "light"
     },
     "output_type": "display_data"
    }
   ],
   "source": [
    "word = 'year_month'\n",
    "plt.figure(figsize=(10,5))\n",
    "df_feature_vc = df[word].value_counts()\n",
    "# 인덱스 정렬\n",
    "df_feature_vc = df_feature_vc.sort_index()\n",
    "\n",
    "plt.bar(df_feature_vc.index, df_feature_vc)\n",
    "plt.title(f'{word}')\n",
    "plt.xticks(rotation =90)\n",
    "plt.show()"
   ]
  },
  {
   "cell_type": "markdown",
   "id": "bade0ede-3e74-4a46-aa95-eb00a10eb3fe",
   "metadata": {},
   "source": [
    "### date"
   ]
  },
  {
   "cell_type": "code",
   "execution_count": 69,
   "id": "84cfd35c-81ef-4931-8e29-3c65b4285eb3",
   "metadata": {},
   "outputs": [
    {
     "data": {
      "image/png": "[encoded data removed]",
      "text/plain": [
       "<Figure size 432x288 with 1 Axes>"
      ]
     },
     "metadata": {
      "needs_background": "light"
     },
     "output_type": "display_data"
    }
   ],
   "source": [
    "# 5,6 이 주말\n",
    "word = 'date'\n",
    "df_feature_vc = df[word].value_counts()\n",
    "plt.bar(df_feature_vc.index, df_feature_vc)\n",
    "plt.title(f'{word}')\n",
    "plt.show()"
   ]
  },
  {
   "cell_type": "markdown",
   "id": "2b16af8a-3260-49e6-aa46-e45cf6840a0e",
   "metadata": {},
   "source": [
    "## overall"
   ]
  },
  {
   "cell_type": "code",
   "execution_count": 71,
   "id": "b6907637-0c57-4edb-b0dc-5f6678d2fc18",
   "metadata": {},
   "outputs": [
    {
     "data": {
      "image/png": "[encoded data removed]",
      "text/plain": [
       "<Figure size 432x288 with 1 Axes>"
      ]
     },
     "metadata": {
      "needs_background": "light"
     },
     "output_type": "display_data"
    }
   ],
   "source": [
    "word = 'overall'\n",
    "df_feature_vc = df[word].value_counts()\n",
    "plt.bar(df_feature_vc.index, df_feature_vc)\n",
    "plt.title(f'{word}')\n",
    "plt.show()"
   ]
  },
  {
   "cell_type": "markdown",
   "id": "990de98c-c253-49bf-94bc-83cd9a652762",
   "metadata": {},
   "source": [
    "## verified"
   ]
  },
  {
   "cell_type": "code",
   "execution_count": 72,
   "id": "d720725b-d91c-42d4-afa2-d69510b6c006",
   "metadata": {},
   "outputs": [
    {
     "data": {
      "image/png": "[encoded data removed]",
      "text/plain": [
       "<Figure size 432x288 with 1 Axes>"
      ]
     },
     "metadata": {
      "needs_background": "light"
     },
     "output_type": "display_data"
    }
   ],
   "source": [
    "word = 'verified'\n",
    "df_feature_vc = df[word].value_counts()\n",
    "plt.bar(df_feature_vc.index, df_feature_vc)\n",
    "plt.title(f'{word}')\n",
    "plt.show()"
   ]
  },
  {
   "cell_type": "markdown",
   "id": "f24c50e2-5cd8-477e-a526-8d88f1452339",
   "metadata": {},
   "source": [
    "## reviewerID"
   ]
  },
  {
   "cell_type": "code",
   "execution_count": 74,
   "id": "961da029-3371-4456-8abc-e22e7e756b87",
   "metadata": {},
   "outputs": [
    {
     "data": {
      "text/plain": [
       "39270"
      ]
     },
     "execution_count": 74,
     "metadata": {},
     "output_type": "execute_result"
    }
   ],
   "source": [
    "df.reviewerID.nunique()"
   ]
  },
  {
   "cell_type": "markdown",
   "id": "4e5802e9-9618-43fd-aa31-4a9571b29bac",
   "metadata": {},
   "source": [
    "## asin"
   ]
  },
  {
   "cell_type": "code",
   "execution_count": 75,
   "id": "d63e0dcb-b7e1-4cd8-9afa-d7a47be5e398",
   "metadata": {},
   "outputs": [
    {
     "data": {
      "text/plain": [
       "419129"
      ]
     },
     "execution_count": 75,
     "metadata": {},
     "output_type": "execute_result"
    }
   ],
   "source": [
    "df.asin.nunique()"
   ]
  },
  {
   "cell_type": "markdown",
   "id": "685fd29b-04ae-4e6f-8f2a-0ab0574ab8c1",
   "metadata": {},
   "source": [
    "### user 별 item"
   ]
  },
  {
   "cell_type": "code",
   "execution_count": 90,
   "id": "b9744e4c-219a-4244-9d73-4989996cfc8d",
   "metadata": {},
   "outputs": [
    {
     "data": {
      "image/png": "[encoded data removed]",
      "text/plain": [
       "<Figure size 432x288 with 1 Axes>"
      ]
     },
     "metadata": {
      "needs_background": "light"
     },
     "output_type": "display_data"
    }
   ],
   "source": [
    "word = 'reviewerID'\n",
    "df_feature_vc = df.groupby('reviewerID')['asin'].count().sort_values(ascending=False)\n",
    "plt.plot([i for i in range(len(df_feature_vc))], df_feature_vc)\n",
    "plt.title(f'{word}')\n",
    "plt.show()"
   ]
  },
  {
   "cell_type": "code",
   "execution_count": 126,
   "id": "009502df-6c25-437d-9f0c-56460f1bae8c",
   "metadata": {},
   "outputs": [
    {
     "data": {
      "image/png": "[encoded data removed]",
      "text/plain": [
       "<Figure size 432x288 with 1 Axes>"
      ]
     },
     "metadata": {
      "needs_background": "light"
     },
     "output_type": "display_data"
    }
   ],
   "source": [
    "word = 'reviewerID'\n",
    "df_feature_vc = df.groupby('reviewerID')['asin'].count().sort_values(ascending=False)[:200]\n",
    "plt.plot([i for i in range(len(df_feature_vc))], df_feature_vc)\n",
    "plt.title(f'{word}')\n",
    "plt.show()"
   ]
  },
  {
   "cell_type": "code",
   "execution_count": 127,
   "id": "c3e9a45d-61b8-4564-9844-3ccdf0b9e9d4",
   "metadata": {},
   "outputs": [
    {
     "data": {
      "text/plain": [
       "reviewerID\n",
       "A36OTZP3JUZSYB    463\n",
       "Name: asin, dtype: int64"
      ]
     },
     "execution_count": 127,
     "metadata": {},
     "output_type": "execute_result"
    }
   ],
   "source": [
    "# 100명 이하 정도만 500권 이상 리뷰 남김\n",
    "df.groupby('reviewerID')['asin'].count().sort_values(ascending=False)[100:101]"
   ]
  },
  {
   "cell_type": "code",
   "execution_count": 134,
   "id": "0296d88a-e628-478c-aba1-ac62bb6d24d8",
   "metadata": {},
   "outputs": [
    {
     "data": {
      "text/plain": [
       "count    39270.000000\n",
       "mean        45.272804\n",
       "std         57.262493\n",
       "min         20.000000\n",
       "25%         23.000000\n",
       "50%         29.000000\n",
       "75%         45.000000\n",
       "max       2407.000000\n",
       "Name: asin, dtype: float64"
      ]
     },
     "execution_count": 134,
     "metadata": {},
     "output_type": "execute_result"
    }
   ],
   "source": [
    "df.groupby('reviewerID')['asin'].count().describe()"
   ]
  },
  {
   "cell_type": "markdown",
   "id": "509111dd-c7a5-4f32-9453-817fc99c4774",
   "metadata": {},
   "source": [
    "### item 별 user"
   ]
  },
  {
   "cell_type": "code",
   "execution_count": 136,
   "id": "25b4fcce-ba81-4fd4-87a0-3c547c4b9f8a",
   "metadata": {},
   "outputs": [
    {
     "data": {
      "image/png": "[encoded data removed]",
      "text/plain": [
       "<Figure size 432x288 with 1 Axes>"
      ]
     },
     "metadata": {
      "needs_background": "light"
     },
     "output_type": "display_data"
    }
   ],
   "source": [
    "word = 'asin'\n",
    "df_feature_vc = df.groupby('asin')['reviewerID'].count().sort_values(ascending=False)\n",
    "plt.plot([i for i in range(len(df_feature_vc))], df_feature_vc)\n",
    "plt.title(f'{word}')\n",
    "plt.show()"
   ]
  },
  {
   "cell_type": "code",
   "execution_count": 137,
   "id": "a0f429de-478b-4a1c-a579-82a05a12fe5d",
   "metadata": {},
   "outputs": [
    {
     "data": {
      "image/png": "[encoded data removed]",
      "text/plain": [
       "<Figure size 432x288 with 1 Axes>"
      ]
     },
     "metadata": {
      "needs_background": "light"
     },
     "output_type": "display_data"
    }
   ],
   "source": [
    "word = 'asin'\n",
    "df_feature_vc = df.groupby('asin')['reviewerID'].count().sort_values(ascending=False)[:200]\n",
    "plt.plot([i for i in range(len(df_feature_vc))], df_feature_vc)\n",
    "plt.title(f'{word}')\n",
    "plt.show()"
   ]
  },
  {
   "cell_type": "code",
   "execution_count": 138,
   "id": "b58c69bc-113f-4e26-bd95-bf5a3531cf81",
   "metadata": {},
   "outputs": [
    {
     "data": {
      "text/plain": [
       "asin\n",
       "0062409883    221\n",
       "Name: reviewerID, dtype: int64"
      ]
     },
     "execution_count": 138,
     "metadata": {},
     "output_type": "execute_result"
    }
   ],
   "source": [
    "# 100권 이하 정도만 200명 이상 리뷰 남김\n",
    "df.groupby('asin')['reviewerID'].count().sort_values(ascending=False)[100:101]"
   ]
  },
  {
   "cell_type": "code",
   "execution_count": 141,
   "id": "aab83846-1b0a-40bb-83a8-656e3ba5a8ee",
   "metadata": {},
   "outputs": [
    {
     "data": {
      "text/plain": [
       "count    419129.000000\n",
       "mean          4.241804\n",
       "std          11.507266\n",
       "min           1.000000\n",
       "25%           1.000000\n",
       "50%           1.000000\n",
       "75%           3.000000\n",
       "max        1136.000000\n",
       "Name: reviewerID, dtype: float64"
      ]
     },
     "execution_count": 141,
     "metadata": {},
     "output_type": "execute_result"
    }
   ],
   "source": [
    "df.groupby('asin')['reviewerID'].count().describe()"
   ]
  },
  {
   "cell_type": "markdown",
   "id": "44ea4939-7c82-4fd6-80cc-0588ffe8f44a",
   "metadata": {},
   "source": [
    "### overall 별 verified 분포 - 별점 4점 준 사람 중에선 책 구매 안한 사람이 조금 더 많음"
   ]
  },
  {
   "cell_type": "code",
   "execution_count": 194,
   "id": "2d60fa56-9bda-437f-9fde-fe8ff5ef9ebc",
   "metadata": {},
   "outputs": [
    {
     "data": {
      "image/png": "[encoded data removed]",
      "text/plain": [
       "<Figure size 1728x216 with 5 Axes>"
      ]
     },
     "metadata": {
      "needs_background": "light"
     },
     "output_type": "display_data"
    }
   ],
   "source": [
    "f, axes = plt.subplots(1, 5)\n",
    "f.set_size_inches((24, 3))\n",
    "for i in range(5):\n",
    "    df_feature_vc = df.groupby('overall').verified.value_counts().loc[i+1]\n",
    "    axes[i].bar([str(i) for i in df_feature_vc.index], df_feature_vc)\n",
    "    axes[i].set_title(f'overall : {i+1}', fontsize = 12)\n",
    "    # f.suptitle('overall_verified', fontsize = 15)\n",
    "plt.show()"
   ]
  },
  {
   "cell_type": "markdown",
   "id": "287b6107-e444-495f-8df3-33e480ec56d2",
   "metadata": {},
   "source": [
    "### style"
   ]
  },
  {
   "cell_type": "code",
   "execution_count": 211,
   "id": "ac36487c-c4da-4a9f-bf6a-307d2c9564b0",
   "metadata": {},
   "outputs": [],
   "source": [
    "key_list = []\n",
    "for i in df['style']:\n",
    "    if i:\n",
    "        for key in i:\n",
    "            if key not in key_list:\n",
    "                key_list.append(key)"
   ]
  },
  {
   "cell_type": "code",
   "execution_count": 212,
   "id": "66857d9b-a0fd-46b0-befb-c6263e64d671",
   "metadata": {},
   "outputs": [],
   "source": [
    "for key in key_list:\n",
    "    df[key] = df['style'].apply(lambda x : x[key] if x else None)"
   ]
  },
  {
   "cell_type": "code",
   "execution_count": 274,
   "id": "b890ab17-9baa-4737-ae4b-3c4ba755dfe4",
   "metadata": {},
   "outputs": [
    {
     "data": {
      "text/plain": [
       "{'Color:': None,\n",
       " 'Format:': ' Paperback',\n",
       " 'Package Quantity:': None,\n",
       " 'Size:': None,\n",
       " 'Style Name:': None,\n",
       " 'Style:': None}"
      ]
     },
     "execution_count": 274,
     "metadata": {},
     "output_type": "execute_result"
    }
   ],
   "source": [
    "df['style'].iloc[1]"
   ]
  },
  {
   "cell_type": "code",
   "execution_count": 227,
   "id": "0626f6f1-e192-496d-9a27-7fe8112dc750",
   "metadata": {},
   "outputs": [
    {
     "name": "stdout",
     "output_type": "stream",
     "text": [
      "Color:\n",
      "0.9999409403311729\n",
      "Format:\n",
      "0.02162596330538405\n",
      "Package Quantity:\n",
      "0.9999915629044532\n",
      "Size:\n",
      "0.9999797509706878\n",
      "Style Name:\n",
      "0.999994937742672\n",
      "Style:\n",
      "0.9999988750539271\n"
     ]
    }
   ],
   "source": [
    "# Format만 정상\n",
    "for i in key_list:\n",
    "    print(i)\n",
    "    print(sum(df[i].isna()) / len(df))"
   ]
  },
  {
   "cell_type": "code",
   "execution_count": 219,
   "id": "d26492a3-433d-4832-bf59-8db99ba052eb",
   "metadata": {},
   "outputs": [
    {
     "data": {
      "image/png": "[encoded data removed]",
      "text/plain": [
       "<Figure size 720x360 with 1 Axes>"
      ]
     },
     "metadata": {
      "needs_background": "light"
     },
     "output_type": "display_data"
    },
    {
     "data": {
      "image/png": "[encoded data removed]",
      "text/plain": [
       "<Figure size 1440x360 with 1 Axes>"
      ]
     },
     "metadata": {
      "needs_background": "light"
     },
     "output_type": "display_data"
    },
    {
     "data": {
      "image/png": "[encoded data removed]",
      "text/plain": [
       "<Figure size 432x288 with 1 Axes>"
      ]
     },
     "metadata": {
      "needs_background": "light"
     },
     "output_type": "display_data"
    },
    {
     "data": {
      "image/png": "[encoded data removed]",
      "text/plain": [
       "<Figure size 432x288 with 1 Axes>"
      ]
     },
     "metadata": {
      "needs_background": "light"
     },
     "output_type": "display_data"
    },
    {
     "data": {
      "image/png": "[encoded data removed]",
      "text/plain": [
       "<Figure size 432x288 with 1 Axes>"
      ]
     },
     "metadata": {
      "needs_background": "light"
     },
     "output_type": "display_data"
    },
    {
     "data": {
      "image/png": "[encoded data removed]",
      "text/plain": [
       "<Figure size 432x288 with 1 Axes>"
      ]
     },
     "metadata": {
      "needs_background": "light"
     },
     "output_type": "display_data"
    }
   ],
   "source": [
    "for key in key_list:\n",
    "    word = key\n",
    "    df_feature_vc = df[word].value_counts()\n",
    "    if key =='Color:':\n",
    "        plt.figure(figsize=(10,5))\n",
    "    elif key == 'Format:':\n",
    "        plt.figure(figsize=(20,5))\n",
    "    plt.bar(df_feature_vc.index, df_feature_vc)\n",
    "    plt.xticks(rotation =90)\n",
    "    plt.title(f'{word}')\n",
    "    plt.show()"
   ]
  },
  {
   "cell_type": "code",
   "execution_count": 250,
   "id": "6e9533fe-3757-4b7a-a9df-8ad2358a9564",
   "metadata": {},
   "outputs": [
    {
     "data": {
      "text/plain": [
       " Kindle Edition           1137457\n",
       " Paperback                 379626\n",
       " Hardcover                 149093\n",
       " Mass Market Paperback      35691\n",
       " Board book                  7478\n",
       " Audible Audiobook           5079\n",
       " Audio CD                    4510\n",
       " Spiral-bound                3499\n",
       " Cards                       2546\n",
       " Pamphlet                    1365\n",
       " Perfect Paperback           1151\n",
       " Calendar                    1145\n",
       " Imitation Leather            900\n",
       " Library Binding              894\n",
       " MP3 CD                       743\n",
       "Name: Format:, dtype: int64"
      ]
     },
     "execution_count": 250,
     "metadata": {},
     "output_type": "execute_result"
    }
   ],
   "source": [
    "df['Format:'].value_counts()[:15]"
   ]
  },
  {
   "cell_type": "code",
   "execution_count": 252,
   "id": "b567ffe4-bc80-4a4f-b311-64d57a25d22c",
   "metadata": {},
   "outputs": [
    {
     "data": {
      "text/html": [
       "<div>\n",
       "<style scoped>\n",
       "    .dataframe tbody tr th:only-of-type {\n",
       "        vertical-align: middle;\n",
       "    }\n",
       "\n",
       "    .dataframe tbody tr th {\n",
       "        vertical-align: top;\n",
       "    }\n",
       "\n",
       "    .dataframe thead th {\n",
       "        text-align: right;\n",
       "    }\n",
       "</style>\n",
       "<table border=\"1\" class=\"dataframe\">\n",
       "  <thead>\n",
       "    <tr style=\"text-align: right;\">\n",
       "      <th></th>\n",
       "      <th>overall</th>\n",
       "      <th>verified</th>\n",
       "      <th>reviewerID</th>\n",
       "      <th>asin</th>\n",
       "      <th>style</th>\n",
       "      <th>reviewText</th>\n",
       "      <th>summary</th>\n",
       "      <th>timestamp</th>\n",
       "      <th>year</th>\n",
       "      <th>month</th>\n",
       "      <th>date</th>\n",
       "      <th>year_month</th>\n",
       "      <th>Color:</th>\n",
       "      <th>Format:</th>\n",
       "      <th>Package Quantity:</th>\n",
       "      <th>Size:</th>\n",
       "      <th>Style Name:</th>\n",
       "      <th>Style:</th>\n",
       "    </tr>\n",
       "  </thead>\n",
       "  <tbody>\n",
       "    <tr>\n",
       "      <th>4</th>\n",
       "      <td>5</td>\n",
       "      <td>True</td>\n",
       "      <td>A2B4R7L8FX9BGT</td>\n",
       "      <td>0002005263</td>\n",
       "      <td>{'Color:': None, 'Format:': ' Kindle Edition',...</td>\n",
       "      <td>Love it.</td>\n",
       "      <td>Five Stars</td>\n",
       "      <td>2016-01-09</td>\n",
       "      <td>2016</td>\n",
       "      <td>1</td>\n",
       "      <td>5</td>\n",
       "      <td>2016_01</td>\n",
       "      <td>None</td>\n",
       "      <td>Kindle Edition</td>\n",
       "      <td>None</td>\n",
       "      <td>None</td>\n",
       "      <td>None</td>\n",
       "      <td>None</td>\n",
       "    </tr>\n",
       "    <tr>\n",
       "      <th>19</th>\n",
       "      <td>3</td>\n",
       "      <td>False</td>\n",
       "      <td>ALUGXJE8QRTT8</td>\n",
       "      <td>0001384198</td>\n",
       "      <td>{'Color:': None, 'Format:': ' Kindle Edition',...</td>\n",
       "      <td>We recently joined Dolly Partons Imagination L...</td>\n",
       "      <td>I didn't enjoy it at all.</td>\n",
       "      <td>2016-06-29</td>\n",
       "      <td>2016</td>\n",
       "      <td>6</td>\n",
       "      <td>2</td>\n",
       "      <td>2016_06</td>\n",
       "      <td>None</td>\n",
       "      <td>Kindle Edition</td>\n",
       "      <td>None</td>\n",
       "      <td>None</td>\n",
       "      <td>None</td>\n",
       "      <td>None</td>\n",
       "    </tr>\n",
       "    <tr>\n",
       "      <th>29</th>\n",
       "      <td>3</td>\n",
       "      <td>True</td>\n",
       "      <td>A1R4J2PO30SJ8Q</td>\n",
       "      <td>0001381733</td>\n",
       "      <td>{'Color:': None, 'Format:': ' Kindle Edition',...</td>\n",
       "      <td>like it</td>\n",
       "      <td>Three Stars</td>\n",
       "      <td>2017-06-15</td>\n",
       "      <td>2017</td>\n",
       "      <td>6</td>\n",
       "      <td>3</td>\n",
       "      <td>2017_06</td>\n",
       "      <td>None</td>\n",
       "      <td>Kindle Edition</td>\n",
       "      <td>None</td>\n",
       "      <td>None</td>\n",
       "      <td>None</td>\n",
       "      <td>None</td>\n",
       "    </tr>\n",
       "  </tbody>\n",
       "</table>\n",
       "</div>"
      ],
      "text/plain": [
       "    overall  verified      reviewerID        asin  \\\n",
       "4         5      True  A2B4R7L8FX9BGT  0002005263   \n",
       "19        3     False   ALUGXJE8QRTT8  0001384198   \n",
       "29        3      True  A1R4J2PO30SJ8Q  0001381733   \n",
       "\n",
       "                                                style  \\\n",
       "4   {'Color:': None, 'Format:': ' Kindle Edition',...   \n",
       "19  {'Color:': None, 'Format:': ' Kindle Edition',...   \n",
       "29  {'Color:': None, 'Format:': ' Kindle Edition',...   \n",
       "\n",
       "                                           reviewText  \\\n",
       "4                                            Love it.   \n",
       "19  We recently joined Dolly Partons Imagination L...   \n",
       "29                                            like it   \n",
       "\n",
       "                      summary   timestamp  year  month  date year_month  \\\n",
       "4                  Five Stars  2016-01-09  2016      1     5    2016_01   \n",
       "19  I didn't enjoy it at all.  2016-06-29  2016      6     2    2016_06   \n",
       "29                Three Stars  2017-06-15  2017      6     3    2017_06   \n",
       "\n",
       "   Color:          Format: Package Quantity: Size: Style Name: Style:  \n",
       "4    None   Kindle Edition              None  None        None   None  \n",
       "19   None   Kindle Edition              None  None        None   None  \n",
       "29   None   Kindle Edition              None  None        None   None  "
      ]
     },
     "execution_count": 252,
     "metadata": {},
     "output_type": "execute_result"
    }
   ],
   "source": [
    "df[df['Format:']==df['Format:'].value_counts().index[0]].head(3)"
   ]
  },
  {
   "cell_type": "code",
   "execution_count": 255,
   "id": "82b02394-456c-4721-9027-c40eb50245ea",
   "metadata": {},
   "outputs": [
    {
     "data": {
      "text/html": [
       "<div>\n",
       "<style scoped>\n",
       "    .dataframe tbody tr th:only-of-type {\n",
       "        vertical-align: middle;\n",
       "    }\n",
       "\n",
       "    .dataframe tbody tr th {\n",
       "        vertical-align: top;\n",
       "    }\n",
       "\n",
       "    .dataframe thead th {\n",
       "        text-align: right;\n",
       "    }\n",
       "</style>\n",
       "<table border=\"1\" class=\"dataframe\">\n",
       "  <thead>\n",
       "    <tr style=\"text-align: right;\">\n",
       "      <th></th>\n",
       "      <th>overall</th>\n",
       "      <th>verified</th>\n",
       "      <th>reviewerID</th>\n",
       "      <th>asin</th>\n",
       "      <th>style</th>\n",
       "      <th>reviewText</th>\n",
       "      <th>summary</th>\n",
       "      <th>timestamp</th>\n",
       "      <th>year</th>\n",
       "      <th>month</th>\n",
       "      <th>date</th>\n",
       "      <th>year_month</th>\n",
       "      <th>Color:</th>\n",
       "      <th>Format:</th>\n",
       "      <th>Package Quantity:</th>\n",
       "      <th>Size:</th>\n",
       "      <th>Style Name:</th>\n",
       "      <th>Style:</th>\n",
       "    </tr>\n",
       "  </thead>\n",
       "  <tbody>\n",
       "    <tr>\n",
       "      <th>1908</th>\n",
       "      <td>5</td>\n",
       "      <td>True</td>\n",
       "      <td>A19431QXHJKE5T</td>\n",
       "      <td>0006172768</td>\n",
       "      <td>{'Color:': None, 'Format:': ' MP3 CD', 'Packag...</td>\n",
       "      <td>Ok</td>\n",
       "      <td>Five Stars</td>\n",
       "      <td>2016-08-22</td>\n",
       "      <td>2016</td>\n",
       "      <td>8</td>\n",
       "      <td>0</td>\n",
       "      <td>2016_08</td>\n",
       "      <td>None</td>\n",
       "      <td>MP3 CD</td>\n",
       "      <td>None</td>\n",
       "      <td>None</td>\n",
       "      <td>None</td>\n",
       "      <td>None</td>\n",
       "    </tr>\n",
       "    <tr>\n",
       "      <th>2135</th>\n",
       "      <td>4</td>\n",
       "      <td>True</td>\n",
       "      <td>AABB9CW9VTI4</td>\n",
       "      <td>0006281141</td>\n",
       "      <td>{'Color:': None, 'Format:': ' MP3 CD', 'Packag...</td>\n",
       "      <td>Hard to listen too not because it isn't good, ...</td>\n",
       "      <td>Deep truth</td>\n",
       "      <td>2017-08-21</td>\n",
       "      <td>2017</td>\n",
       "      <td>8</td>\n",
       "      <td>0</td>\n",
       "      <td>2017_08</td>\n",
       "      <td>None</td>\n",
       "      <td>MP3 CD</td>\n",
       "      <td>None</td>\n",
       "      <td>None</td>\n",
       "      <td>None</td>\n",
       "      <td>None</td>\n",
       "    </tr>\n",
       "    <tr>\n",
       "      <th>3694</th>\n",
       "      <td>5</td>\n",
       "      <td>True</td>\n",
       "      <td>A2UGS1STG2SY3H</td>\n",
       "      <td>0007145632</td>\n",
       "      <td>{'Color:': None, 'Format:': ' MP3 CD', 'Packag...</td>\n",
       "      <td>Absolutely great.</td>\n",
       "      <td>Five Stars</td>\n",
       "      <td>2016-03-06</td>\n",
       "      <td>2016</td>\n",
       "      <td>3</td>\n",
       "      <td>6</td>\n",
       "      <td>2016_03</td>\n",
       "      <td>None</td>\n",
       "      <td>MP3 CD</td>\n",
       "      <td>None</td>\n",
       "      <td>None</td>\n",
       "      <td>None</td>\n",
       "      <td>None</td>\n",
       "    </tr>\n",
       "  </tbody>\n",
       "</table>\n",
       "</div>"
      ],
      "text/plain": [
       "      overall  verified      reviewerID        asin  \\\n",
       "1908        5      True  A19431QXHJKE5T  0006172768   \n",
       "2135        4      True    AABB9CW9VTI4  0006281141   \n",
       "3694        5      True  A2UGS1STG2SY3H  0007145632   \n",
       "\n",
       "                                                  style  \\\n",
       "1908  {'Color:': None, 'Format:': ' MP3 CD', 'Packag...   \n",
       "2135  {'Color:': None, 'Format:': ' MP3 CD', 'Packag...   \n",
       "3694  {'Color:': None, 'Format:': ' MP3 CD', 'Packag...   \n",
       "\n",
       "                                             reviewText     summary  \\\n",
       "1908                                                 Ok  Five Stars   \n",
       "2135  Hard to listen too not because it isn't good, ...  Deep truth   \n",
       "3694                                  Absolutely great.  Five Stars   \n",
       "\n",
       "       timestamp  year  month  date year_month Color:  Format:  \\\n",
       "1908  2016-08-22  2016      8     0    2016_08   None   MP3 CD   \n",
       "2135  2017-08-21  2017      8     0    2017_08   None   MP3 CD   \n",
       "3694  2016-03-06  2016      3     6    2016_03   None   MP3 CD   \n",
       "\n",
       "     Package Quantity: Size: Style Name: Style:  \n",
       "1908              None  None        None   None  \n",
       "2135              None  None        None   None  \n",
       "3694              None  None        None   None  "
      ]
     },
     "execution_count": 255,
     "metadata": {},
     "output_type": "execute_result"
    }
   ],
   "source": [
    "df[df['Format:']==df['Format:'].value_counts().index[14]].head(3)"
   ]
  },
  {
   "cell_type": "markdown",
   "id": "dda40fb7-3ad1-4f6a-98b2-24d89d5a017e",
   "metadata": {},
   "source": [
    "# summary"
   ]
  },
  {
   "cell_type": "code",
   "execution_count": 231,
   "id": "ae9f352b-43e0-4b63-9770-61f8e39411c9",
   "metadata": {},
   "outputs": [
    {
     "data": {
      "text/plain": [
       "901519"
      ]
     },
     "execution_count": 231,
     "metadata": {},
     "output_type": "execute_result"
    }
   ],
   "source": [
    "df.summary.nunique() "
   ]
  },
  {
   "cell_type": "markdown",
   "id": "68621a3c-c247-481d-ab4c-28c236838080",
   "metadata": {},
   "source": [
    "# reviewText"
   ]
  },
  {
   "cell_type": "code",
   "execution_count": 233,
   "id": "ca37116b-3d42-4746-9264-737c11396f4c",
   "metadata": {},
   "outputs": [
    {
     "data": {
      "text/plain": [
       "1479242"
      ]
     },
     "execution_count": 233,
     "metadata": {},
     "output_type": "execute_result"
    }
   ],
   "source": [
    "df.reviewText.nunique() "
   ]
  },
  {
   "cell_type": "markdown",
   "id": "1cf17689-32ee-4785-855c-6cbaee05beef",
   "metadata": {},
   "source": [
    "### 1등 책 - asin 정보가 amazon에서 검색이 안됨"
   ]
  },
  {
   "cell_type": "code",
   "execution_count": 350,
   "id": "3515e19f-0798-4e04-b403-94ecb99e061a",
   "metadata": {},
   "outputs": [
    {
     "data": {
      "text/plain": [
       "['B001MVNGCU', '038568231X', '0439023521', '8184776217', '0996135669']"
      ]
     },
     "execution_count": 350,
     "metadata": {},
     "output_type": "execute_result"
    }
   ],
   "source": [
    "sort_popular_asin[:5]"
   ]
  },
  {
   "cell_type": "code",
   "execution_count": 351,
   "id": "d9ddc137-7a77-4f40-bf93-27373b01ff4d",
   "metadata": {},
   "outputs": [
    {
     "data": {
      "text/html": [
       "<div>\n",
       "<style scoped>\n",
       "    .dataframe tbody tr th:only-of-type {\n",
       "        vertical-align: middle;\n",
       "    }\n",
       "\n",
       "    .dataframe tbody tr th {\n",
       "        vertical-align: top;\n",
       "    }\n",
       "\n",
       "    .dataframe thead th {\n",
       "        text-align: right;\n",
       "    }\n",
       "</style>\n",
       "<table border=\"1\" class=\"dataframe\">\n",
       "  <thead>\n",
       "    <tr style=\"text-align: right;\">\n",
       "      <th></th>\n",
       "      <th>category</th>\n",
       "      <th>description</th>\n",
       "      <th>title</th>\n",
       "      <th>brand</th>\n",
       "      <th>price</th>\n",
       "      <th>asin</th>\n",
       "    </tr>\n",
       "  </thead>\n",
       "  <tbody>\n",
       "    <tr>\n",
       "      <th>1409928</th>\n",
       "      <td>['Books', 'Cookbooks, Food &amp; Wine', 'Regional ...</td>\n",
       "      <td>['&lt;b&gt;Praise for Julia Child and&amp;#160;&lt;i&gt;Master...</td>\n",
       "      <td>Books\" /&gt;</td>\n",
       "      <td>Visit Amazon's Julia Child Page</td>\n",
       "      <td>$53.88</td>\n",
       "      <td>B001MVNGCU</td>\n",
       "    </tr>\n",
       "  </tbody>\n",
       "</table>\n",
       "</div>"
      ],
      "text/plain": [
       "                                                  category  \\\n",
       "1409928  ['Books', 'Cookbooks, Food & Wine', 'Regional ...   \n",
       "\n",
       "                                               description       title  \\\n",
       "1409928  ['<b>Praise for Julia Child and&#160;<i>Master...   Books\" />   \n",
       "\n",
       "                                   brand   price        asin  \n",
       "1409928  Visit Amazon's Julia Child Page  $53.88  B001MVNGCU  "
      ]
     },
     "execution_count": 351,
     "metadata": {},
     "output_type": "execute_result"
    }
   ],
   "source": [
    "# title도 이상함\n",
    "mb[mb.asin=='B001MVNGCU']"
   ]
  },
  {
   "cell_type": "code",
   "execution_count": 352,
   "id": "ab886ddb-8945-409b-81c4-6ad7edeb3c3e",
   "metadata": {},
   "outputs": [
    {
     "data": {
      "text/plain": [
       "\"['<b>Praise for Julia Child and&#160;<i>Mastering the Art of French Cooking<br></i></b><br>&ldquo;Julia Child paved the way for Chez Panisse and so many others by demystifying French food and by reconnecting pleasure and delight with cooking and eating at the table. She brought forth a culture of American ingredients and gave us all the confidence to cook with them in the pursuit of flavor.&rdquo; &mdash;Alice Waters, Chez Panisse<br><br>&ldquo;<i>Mastering the Art of French Cooking</i>&#160;was one of my first introductions to my foundation of understanding the art of French cooking. The combination of reading Julia&rsquo;s book, working in the kitchen, and watching her television shows helped lead me to my beginnings in serious cuisine. Julia is . . . the grande dame of cooking, who has touched all of our lives with her immense respect and appreciation of cuisine.&rdquo; &mdash;Emeril Lagasse, Emeril&rsquo;s Restaurant<br><br>&ldquo;Julia has slowly but surely altered our way of thinking about food. She has taken the fear out of the term &lsquo;haute cuisine.&rsquo; She has increased gastronomic awareness a thousandfold by stressing the importance of good foundation and technique, and she has elevated our consciousness to the refined pleasures of dining. Through the years her shows have kept me in rapt attention, and her humor has kept me in stitches. She is a national treasure, a culinary trendsetter, and a born educator beloved by all.&rdquo; &mdash;Thomas Keller, The French Laundry<br><br>&ldquo;Julia freed the American public from their fears of cooking French. By doing so, she greatly expanded the audience for all serious food writers. Her demystification prepared that public for the rest of us. I believe that the television shows based on that landmark book did even more to encourage reluctant cooks to try their hands . . . much to our benefit.&rdquo; &mdash;Mimi Sheraton<br><br>&ldquo;1961 A.D. Julia Child&rsquo;s&#160;<i>Mastering the Art of French Cooking</i>&#160;is published. Her black-and-white TV show on WGBH in Boston soon follows. Child is one of the great teachers of the millennium: She is intelligent and charismatic, and her undistinguished manual skills are not daunting to her viewers. An entire generation of ambitious American home cooks is instantly born.&rdquo; &mdash;Jeffrey Steingarten', 'Revised edition of the classic cookbook, originally published in 1961.']\""
      ]
     },
     "execution_count": 352,
     "metadata": {},
     "output_type": "execute_result"
    }
   ],
   "source": [
    "mb[mb.asin=='B001MVNGCU'].description.iloc[0]"
   ]
  },
  {
   "cell_type": "code",
   "execution_count": 353,
   "id": "6de8ab94-5590-41e2-a662-ac0d502b1c47",
   "metadata": {},
   "outputs": [],
   "source": [
    "# 책 이름 : Mastering the Art of French Cooking  - 위에 책 설명을 찾음"
   ]
  },
  {
   "cell_type": "markdown",
   "id": "68ce01eb-9b48-4039-8a67-ffd2448725e0",
   "metadata": {},
   "source": [
    "### 아래 예시처럼 같은 사람이 같은 날, 같은 리뷰를 남겼는데, asin이 다름 \n",
    "### asin이 다르지만 똑같은 책인가? "
   ]
  },
  {
   "cell_type": "code",
   "execution_count": 340,
   "id": "3f97a590-31ae-4c56-ad10-24525f13ddd3",
   "metadata": {},
   "outputs": [
    {
     "data": {
      "text/html": [
       "<div>\n",
       "<style scoped>\n",
       "    .dataframe tbody tr th:only-of-type {\n",
       "        vertical-align: middle;\n",
       "    }\n",
       "\n",
       "    .dataframe tbody tr th {\n",
       "        vertical-align: top;\n",
       "    }\n",
       "\n",
       "    .dataframe thead th {\n",
       "        text-align: right;\n",
       "    }\n",
       "</style>\n",
       "<table border=\"1\" class=\"dataframe\">\n",
       "  <thead>\n",
       "    <tr style=\"text-align: right;\">\n",
       "      <th></th>\n",
       "      <th>overall</th>\n",
       "      <th>verified</th>\n",
       "      <th>reviewerID</th>\n",
       "      <th>asin</th>\n",
       "      <th>reviewText</th>\n",
       "      <th>summary</th>\n",
       "      <th>timestamp</th>\n",
       "      <th>year</th>\n",
       "      <th>month</th>\n",
       "      <th>date</th>\n",
       "      <th>year_month</th>\n",
       "      <th>Color:</th>\n",
       "      <th>Format:</th>\n",
       "      <th>Package Quantity:</th>\n",
       "      <th>Size:</th>\n",
       "      <th>Style Name:</th>\n",
       "      <th>Style:</th>\n",
       "    </tr>\n",
       "  </thead>\n",
       "  <tbody>\n",
       "    <tr>\n",
       "      <th>64800</th>\n",
       "      <td>5</td>\n",
       "      <td>True</td>\n",
       "      <td>AG2LPI0Q8REXC</td>\n",
       "      <td>0140461191</td>\n",
       "      <td>This book is essentially my Cooking Bible. As ...</td>\n",
       "      <td>The perfect book</td>\n",
       "      <td>2016-01-04</td>\n",
       "      <td>2016</td>\n",
       "      <td>1</td>\n",
       "      <td>0</td>\n",
       "      <td>2016_01</td>\n",
       "      <td>None</td>\n",
       "      <td>Hardcover</td>\n",
       "      <td>None</td>\n",
       "      <td>None</td>\n",
       "      <td>None</td>\n",
       "      <td>None</td>\n",
       "    </tr>\n",
       "    <tr>\n",
       "      <th>1185465</th>\n",
       "      <td>5</td>\n",
       "      <td>True</td>\n",
       "      <td>AG2LPI0Q8REXC</td>\n",
       "      <td>B001MVNGCU</td>\n",
       "      <td>This book is essentially my Cooking Bible. As ...</td>\n",
       "      <td>The perfect book</td>\n",
       "      <td>2016-01-04</td>\n",
       "      <td>2016</td>\n",
       "      <td>1</td>\n",
       "      <td>0</td>\n",
       "      <td>2016_01</td>\n",
       "      <td>None</td>\n",
       "      <td>Hardcover</td>\n",
       "      <td>None</td>\n",
       "      <td>None</td>\n",
       "      <td>None</td>\n",
       "      <td>None</td>\n",
       "    </tr>\n",
       "  </tbody>\n",
       "</table>\n",
       "</div>"
      ],
      "text/plain": [
       "         overall  verified     reviewerID        asin  \\\n",
       "64800          5      True  AG2LPI0Q8REXC  0140461191   \n",
       "1185465        5      True  AG2LPI0Q8REXC  B001MVNGCU   \n",
       "\n",
       "                                                reviewText           summary  \\\n",
       "64800    This book is essentially my Cooking Bible. As ...  The perfect book   \n",
       "1185465  This book is essentially my Cooking Bible. As ...  The perfect book   \n",
       "\n",
       "          timestamp  year  month  date year_month Color:     Format:  \\\n",
       "64800    2016-01-04  2016      1     0    2016_01   None   Hardcover   \n",
       "1185465  2016-01-04  2016      1     0    2016_01   None   Hardcover   \n",
       "\n",
       "        Package Quantity: Size: Style Name: Style:  \n",
       "64800                None  None        None   None  \n",
       "1185465              None  None        None   None  "
      ]
     },
     "execution_count": 340,
     "metadata": {},
     "output_type": "execute_result"
    }
   ],
   "source": [
    "a[a['reviewText'].str.contains('This book is essentially my Cooking Bible. As a chef, I can honestly say if you follow the recipes')].drop('style',axis=1).drop_duplicates()"
   ]
  },
  {
   "cell_type": "markdown",
   "id": "d06b779a-ab2f-48d2-84e3-fa70ab102a3b",
   "metadata": {},
   "source": [
    "# drop 전처리"
   ]
  },
  {
   "cell_type": "code",
   "execution_count": 356,
   "id": "a5d615f4-963a-4d1d-b321-f3d7d92d88ab",
   "metadata": {},
   "outputs": [],
   "source": [
    "df.drop([ 'style', 'year', 'month', 'date', 'year_month', 'Color:', 'Package Quantity:', 'Size:', 'Style Name:', 'Style:'],axis=1,inplace=True)"
   ]
  },
  {
   "cell_type": "code",
   "execution_count": 360,
   "id": "0175bf1e-28f9-4cd4-85fb-5185fbb55422",
   "metadata": {},
   "outputs": [],
   "source": [
    "# 중복 데이터 제거\n",
    "df = df.drop_duplicates()"
   ]
  },
  {
   "cell_type": "markdown",
   "id": "1b6ff5e1-5032-49d6-9717-38679433038b",
   "metadata": {},
   "source": [
    "## 위에 asin 다른데 리뷰 같은거 있어서, 밑에 예시로 다시 한번 확인"
   ]
  },
  {
   "cell_type": "code",
   "execution_count": 378,
   "id": "79ef437d-2d08-4ba9-b075-32d80b5851f4",
   "metadata": {},
   "outputs": [
    {
     "data": {
      "text/html": [
       "<div>\n",
       "<style scoped>\n",
       "    .dataframe tbody tr th:only-of-type {\n",
       "        vertical-align: middle;\n",
       "    }\n",
       "\n",
       "    .dataframe tbody tr th {\n",
       "        vertical-align: top;\n",
       "    }\n",
       "\n",
       "    .dataframe thead th {\n",
       "        text-align: right;\n",
       "    }\n",
       "</style>\n",
       "<table border=\"1\" class=\"dataframe\">\n",
       "  <thead>\n",
       "    <tr style=\"text-align: right;\">\n",
       "      <th></th>\n",
       "      <th>overall</th>\n",
       "      <th>verified</th>\n",
       "      <th>reviewerID</th>\n",
       "      <th>asin</th>\n",
       "      <th>reviewText</th>\n",
       "      <th>summary</th>\n",
       "      <th>timestamp</th>\n",
       "      <th>Format:</th>\n",
       "    </tr>\n",
       "  </thead>\n",
       "  <tbody>\n",
       "    <tr>\n",
       "      <th>78</th>\n",
       "      <td>5</td>\n",
       "      <td>True</td>\n",
       "      <td>A3A7TWFV9ZJYWN</td>\n",
       "      <td>0001720392</td>\n",
       "      <td>I Love this book! It is one of my favorites fr...</td>\n",
       "      <td>I Love this book</td>\n",
       "      <td>2016-02-25</td>\n",
       "      <td>Hardcover</td>\n",
       "    </tr>\n",
       "    <tr>\n",
       "      <th>337</th>\n",
       "      <td>5</td>\n",
       "      <td>True</td>\n",
       "      <td>A3A7TWFV9ZJYWN</td>\n",
       "      <td>0001951076</td>\n",
       "      <td>I Love this book! It is one of my favorites fr...</td>\n",
       "      <td>I Love this book</td>\n",
       "      <td>2016-02-25</td>\n",
       "      <td>None</td>\n",
       "    </tr>\n",
       "    <tr>\n",
       "      <th>3896</th>\n",
       "      <td>5</td>\n",
       "      <td>True</td>\n",
       "      <td>A3A7TWFV9ZJYWN</td>\n",
       "      <td>0007158459</td>\n",
       "      <td>I Love this book! It is one of my favorites fr...</td>\n",
       "      <td>I Love this book</td>\n",
       "      <td>2016-02-25</td>\n",
       "      <td>Hardcover</td>\n",
       "    </tr>\n",
       "    <tr>\n",
       "      <th>4337</th>\n",
       "      <td>5</td>\n",
       "      <td>True</td>\n",
       "      <td>A3A7TWFV9ZJYWN</td>\n",
       "      <td>0007173156</td>\n",
       "      <td>I Love this book! It is one of my favorites fr...</td>\n",
       "      <td>I Love this book</td>\n",
       "      <td>2016-02-25</td>\n",
       "      <td>Hardcover</td>\n",
       "    </tr>\n",
       "    <tr>\n",
       "      <th>11626</th>\n",
       "      <td>5</td>\n",
       "      <td>True</td>\n",
       "      <td>A3A7TWFV9ZJYWN</td>\n",
       "      <td>000766141X</td>\n",
       "      <td>I Love this book! It is one of my favorites fr...</td>\n",
       "      <td>I Love this book</td>\n",
       "      <td>2016-02-25</td>\n",
       "      <td>Hardcover</td>\n",
       "    </tr>\n",
       "    <tr>\n",
       "      <th>151529</th>\n",
       "      <td>5</td>\n",
       "      <td>True</td>\n",
       "      <td>A3A7TWFV9ZJYWN</td>\n",
       "      <td>0375812156</td>\n",
       "      <td>I Love this book! It is one of my favorites fr...</td>\n",
       "      <td>I Love this book</td>\n",
       "      <td>2016-02-25</td>\n",
       "      <td>Hardcover</td>\n",
       "    </tr>\n",
       "  </tbody>\n",
       "</table>\n",
       "</div>"
      ],
      "text/plain": [
       "        overall  verified      reviewerID        asin  \\\n",
       "78            5      True  A3A7TWFV9ZJYWN  0001720392   \n",
       "337           5      True  A3A7TWFV9ZJYWN  0001951076   \n",
       "3896          5      True  A3A7TWFV9ZJYWN  0007158459   \n",
       "4337          5      True  A3A7TWFV9ZJYWN  0007173156   \n",
       "11626         5      True  A3A7TWFV9ZJYWN  000766141X   \n",
       "151529        5      True  A3A7TWFV9ZJYWN  0375812156   \n",
       "\n",
       "                                               reviewText           summary  \\\n",
       "78      I Love this book! It is one of my favorites fr...  I Love this book   \n",
       "337     I Love this book! It is one of my favorites fr...  I Love this book   \n",
       "3896    I Love this book! It is one of my favorites fr...  I Love this book   \n",
       "4337    I Love this book! It is one of my favorites fr...  I Love this book   \n",
       "11626   I Love this book! It is one of my favorites fr...  I Love this book   \n",
       "151529  I Love this book! It is one of my favorites fr...  I Love this book   \n",
       "\n",
       "         timestamp     Format:  \n",
       "78      2016-02-25   Hardcover  \n",
       "337     2016-02-25        None  \n",
       "3896    2016-02-25   Hardcover  \n",
       "4337    2016-02-25   Hardcover  \n",
       "11626   2016-02-25   Hardcover  \n",
       "151529  2016-02-25   Hardcover  "
      ]
     },
     "execution_count": 378,
     "metadata": {},
     "output_type": "execute_result"
    }
   ],
   "source": [
    "df[(~pd.isnull(df.reviewText))&(df.reviewText.str.contains('I Love this book! It is one of my favorites'))]"
   ]
  },
  {
   "cell_type": "markdown",
   "id": "c6f86493-09dc-4847-b361-c1fd1a363352",
   "metadata": {},
   "source": [
    "## 아래 보면 user, time, review 등 다 똑같은데 책이 다름 - 복붙해서 빠르게 리뷰 남겼거나.. 어쩄든 위에 1등 책 예시에서도 두 asin이 서로 다른 책일 가능성 있음 \n",
    "## 지금처럼 asin이 다르면 다른 책이다 라고 가정하고 그냥 가는게 나을수도"
   ]
  },
  {
   "cell_type": "code",
   "execution_count": 382,
   "id": "3bab2d72-23c0-4c1c-a61d-ed3f610b1b26",
   "metadata": {},
   "outputs": [
    {
     "data": {
      "text/html": [
       "<div>\n",
       "<style scoped>\n",
       "    .dataframe tbody tr th:only-of-type {\n",
       "        vertical-align: middle;\n",
       "    }\n",
       "\n",
       "    .dataframe tbody tr th {\n",
       "        vertical-align: top;\n",
       "    }\n",
       "\n",
       "    .dataframe thead th {\n",
       "        text-align: right;\n",
       "    }\n",
       "</style>\n",
       "<table border=\"1\" class=\"dataframe\">\n",
       "  <thead>\n",
       "    <tr style=\"text-align: right;\">\n",
       "      <th></th>\n",
       "      <th>category</th>\n",
       "      <th>description</th>\n",
       "      <th>title</th>\n",
       "      <th>brand</th>\n",
       "      <th>price</th>\n",
       "      <th>asin</th>\n",
       "    </tr>\n",
       "  </thead>\n",
       "  <tbody>\n",
       "    <tr>\n",
       "      <th>85</th>\n",
       "      <td>['Books', \"Children's Books\"]</td>\n",
       "      <td>['The Cat in the Hat Song Book by Dr. Seuss: 1...</td>\n",
       "      <td>Cat in the Hat Song Book</td>\n",
       "      <td>Visit Amazon's Dr. Seuss Page</td>\n",
       "      <td>$13.04</td>\n",
       "      <td>0001951076</td>\n",
       "    </tr>\n",
       "    <tr>\n",
       "      <th>1813</th>\n",
       "      <td>['Books', \"Children's Books\", 'Literature &amp; Fi...</td>\n",
       "      <td>['', 'Dr. Seuss ignites a childs imagination w...</td>\n",
       "      <td>The Cat in the Hat Comes Back: Green Back Book...</td>\n",
       "      <td>Visit Amazon's Dr. Seuss Page</td>\n",
       "      <td>$24.74</td>\n",
       "      <td>0007158459</td>\n",
       "    </tr>\n",
       "    <tr>\n",
       "      <th>1996</th>\n",
       "      <td>['Books', \"Children's Books\", 'Classics']</td>\n",
       "      <td>[\"From dreamy thoughts about colour to fantast...</td>\n",
       "      <td>Oh, the Thinks You Can Think! Green Back Book</td>\n",
       "      <td>Visit Amazon's Dr. Seuss Page</td>\n",
       "      <td>$7.03</td>\n",
       "      <td>0007173156</td>\n",
       "    </tr>\n",
       "    <tr>\n",
       "      <th>120012</th>\n",
       "      <td>['Books', \"Children's Books\", 'Literature &amp; Fi...</td>\n",
       "      <td>[\"They say a leopard can't change his spots-bu...</td>\n",
       "      <td>Put Me In the Zoo (Bright &amp;amp; Early Board Bo...</td>\n",
       "      <td>Visit Amazon's Robert Lopshire Page</td>\n",
       "      <td>$4.99</td>\n",
       "      <td>0375812156</td>\n",
       "    </tr>\n",
       "  </tbody>\n",
       "</table>\n",
       "</div>"
      ],
      "text/plain": [
       "                                                 category  \\\n",
       "85                          ['Books', \"Children's Books\"]   \n",
       "1813    ['Books', \"Children's Books\", 'Literature & Fi...   \n",
       "1996            ['Books', \"Children's Books\", 'Classics']   \n",
       "120012  ['Books', \"Children's Books\", 'Literature & Fi...   \n",
       "\n",
       "                                              description  \\\n",
       "85      ['The Cat in the Hat Song Book by Dr. Seuss: 1...   \n",
       "1813    ['', 'Dr. Seuss ignites a childs imagination w...   \n",
       "1996    [\"From dreamy thoughts about colour to fantast...   \n",
       "120012  [\"They say a leopard can't change his spots-bu...   \n",
       "\n",
       "                                                    title  \\\n",
       "85                               Cat in the Hat Song Book   \n",
       "1813    The Cat in the Hat Comes Back: Green Back Book...   \n",
       "1996        Oh, the Thinks You Can Think! Green Back Book   \n",
       "120012  Put Me In the Zoo (Bright &amp; Early Board Bo...   \n",
       "\n",
       "                                      brand   price        asin  \n",
       "85            Visit Amazon's Dr. Seuss Page  $13.04  0001951076  \n",
       "1813          Visit Amazon's Dr. Seuss Page  $24.74  0007158459  \n",
       "1996          Visit Amazon's Dr. Seuss Page   $7.03  0007173156  \n",
       "120012  Visit Amazon's Robert Lopshire Page   $4.99  0375812156  "
      ]
     },
     "execution_count": 382,
     "metadata": {},
     "output_type": "execute_result"
    }
   ],
   "source": [
    "mb[mb.asin.isin(df[(~pd.isnull(df.reviewText))&(df.reviewText.str.contains('I Love this book! It is one of my favorites'))].asin)]"
   ]
  },
  {
   "cell_type": "code",
   "execution_count": 815,
   "id": "648c7ba6-d8f5-40ea-a314-205a9ca289c7",
   "metadata": {},
   "outputs": [
    {
     "data": {
      "text/html": [
       "<div>\n",
       "<style scoped>\n",
       "    .dataframe tbody tr th:only-of-type {\n",
       "        vertical-align: middle;\n",
       "    }\n",
       "\n",
       "    .dataframe tbody tr th {\n",
       "        vertical-align: top;\n",
       "    }\n",
       "\n",
       "    .dataframe thead th {\n",
       "        text-align: right;\n",
       "    }\n",
       "</style>\n",
       "<table border=\"1\" class=\"dataframe\">\n",
       "  <thead>\n",
       "    <tr style=\"text-align: right;\">\n",
       "      <th></th>\n",
       "      <th>category</th>\n",
       "      <th>description</th>\n",
       "      <th>title</th>\n",
       "      <th>brand</th>\n",
       "      <th>price</th>\n",
       "      <th>asin</th>\n",
       "      <th>imageURL</th>\n",
       "      <th>main_cat</th>\n",
       "    </tr>\n",
       "  </thead>\n",
       "  <tbody>\n",
       "    <tr>\n",
       "      <th>107</th>\n",
       "      <td>[Books, Children's Books, Classics]</td>\n",
       "      <td>[]</td>\n",
       "      <td>Green Eggs and Ham</td>\n",
       "      <td>Visit Amazon's Dr. Seuss Page</td>\n",
       "      <td>$4.62</td>\n",
       "      <td>0001720392</td>\n",
       "      <td>[]</td>\n",
       "      <td>Books</td>\n",
       "    </tr>\n",
       "    <tr>\n",
       "      <th>265</th>\n",
       "      <td>[Books, Children's Books]</td>\n",
       "      <td>[The Cat in the Hat Song Book by Dr. Seuss: 19...</td>\n",
       "      <td>Cat in the Hat Song Book</td>\n",
       "      <td>Visit Amazon's Dr. Seuss Page</td>\n",
       "      <td>$13.04</td>\n",
       "      <td>0001951076</td>\n",
       "      <td>[]</td>\n",
       "      <td>Books</td>\n",
       "    </tr>\n",
       "    <tr>\n",
       "      <th>3797</th>\n",
       "      <td>[Books, Children's Books, Literature &amp; Fiction]</td>\n",
       "      <td>[, Dr. Seuss ignites a childs imagination with...</td>\n",
       "      <td>The Cat in the Hat Comes Back: Green Back Book...</td>\n",
       "      <td>Visit Amazon's Dr. Seuss Page</td>\n",
       "      <td>$24.74</td>\n",
       "      <td>0007158459</td>\n",
       "      <td>[]</td>\n",
       "      <td>Books</td>\n",
       "    </tr>\n",
       "    <tr>\n",
       "      <th>4083</th>\n",
       "      <td>[Books, Children's Books, Classics]</td>\n",
       "      <td>[From dreamy thoughts about colour to fantasti...</td>\n",
       "      <td>Oh, the Thinks You Can Think! Green Back Book</td>\n",
       "      <td>Visit Amazon's Dr. Seuss Page</td>\n",
       "      <td>$7.03</td>\n",
       "      <td>0007173156</td>\n",
       "      <td>[]</td>\n",
       "      <td>Books</td>\n",
       "    </tr>\n",
       "    <tr>\n",
       "      <th>6817</th>\n",
       "      <td>[Books, Children's Books, Literature &amp; Fiction]</td>\n",
       "      <td>[]</td>\n",
       "      <td>Hop on Pop Classics HB</td>\n",
       "      <td>Visit Amazon's Dr. Seuss Page</td>\n",
       "      <td>$6.30</td>\n",
       "      <td>000766141X</td>\n",
       "      <td>[]</td>\n",
       "      <td>Books</td>\n",
       "    </tr>\n",
       "    <tr>\n",
       "      <th>272853</th>\n",
       "      <td>[Books, Children's Books, Literature &amp; Fiction]</td>\n",
       "      <td>[They say a leopard can't change his spots-but...</td>\n",
       "      <td>Put Me In the Zoo (Bright &amp;amp; Early Board Bo...</td>\n",
       "      <td>Visit Amazon's Robert Lopshire Page</td>\n",
       "      <td>$4.99</td>\n",
       "      <td>0375812156</td>\n",
       "      <td>[]</td>\n",
       "      <td>Books</td>\n",
       "    </tr>\n",
       "  </tbody>\n",
       "</table>\n",
       "</div>"
      ],
      "text/plain": [
       "                                               category  \\\n",
       "107                 [Books, Children's Books, Classics]   \n",
       "265                           [Books, Children's Books]   \n",
       "3797    [Books, Children's Books, Literature & Fiction]   \n",
       "4083                [Books, Children's Books, Classics]   \n",
       "6817    [Books, Children's Books, Literature & Fiction]   \n",
       "272853  [Books, Children's Books, Literature & Fiction]   \n",
       "\n",
       "                                              description  \\\n",
       "107                                                    []   \n",
       "265     [The Cat in the Hat Song Book by Dr. Seuss: 19...   \n",
       "3797    [, Dr. Seuss ignites a childs imagination with...   \n",
       "4083    [From dreamy thoughts about colour to fantasti...   \n",
       "6817                                                   []   \n",
       "272853  [They say a leopard can't change his spots-but...   \n",
       "\n",
       "                                                    title  \\\n",
       "107                                    Green Eggs and Ham   \n",
       "265                              Cat in the Hat Song Book   \n",
       "3797    The Cat in the Hat Comes Back: Green Back Book...   \n",
       "4083        Oh, the Thinks You Can Think! Green Back Book   \n",
       "6817                               Hop on Pop Classics HB   \n",
       "272853  Put Me In the Zoo (Bright &amp; Early Board Bo...   \n",
       "\n",
       "                                      brand   price        asin imageURL  \\\n",
       "107           Visit Amazon's Dr. Seuss Page   $4.62  0001720392       []   \n",
       "265           Visit Amazon's Dr. Seuss Page  $13.04  0001951076       []   \n",
       "3797          Visit Amazon's Dr. Seuss Page  $24.74  0007158459       []   \n",
       "4083          Visit Amazon's Dr. Seuss Page   $7.03  0007173156       []   \n",
       "6817          Visit Amazon's Dr. Seuss Page   $6.30  000766141X       []   \n",
       "272853  Visit Amazon's Robert Lopshire Page   $4.99  0375812156       []   \n",
       "\n",
       "       main_cat  \n",
       "107       Books  \n",
       "265       Books  \n",
       "3797      Books  \n",
       "4083      Books  \n",
       "6817      Books  \n",
       "272853    Books  "
      ]
     },
     "execution_count": 815,
     "metadata": {},
     "output_type": "execute_result"
    }
   ],
   "source": [
    "# mb2는 파일 밑 부분에서 불러온 것이기 때문에 밑 부분 먼저 실행하고 이거 실행하기\n",
    "mb2[mb2.asin.isin(df[(~pd.isnull(df.reviewText))&(df.reviewText.str.contains('I Love this book! It is one of my favorites'))].asin)]"
   ]
  },
  {
   "cell_type": "markdown",
   "id": "c7299f79-07bb-4af5-8a64-edac07b3ceaa",
   "metadata": {},
   "source": [
    "### 리뷰 길이"
   ]
  },
  {
   "cell_type": "code",
   "execution_count": 398,
   "id": "32ee16a0-4725-47ff-8681-a30259228230",
   "metadata": {},
   "outputs": [
    {
     "name": "stderr",
     "output_type": "stream",
     "text": [
      "<ipython-input-398-904ae0cf6d24>:1: SettingWithCopyWarning: \n",
      "A value is trying to be set on a copy of a slice from a DataFrame.\n",
      "Try using .loc[row_indexer,col_indexer] = value instead\n",
      "\n",
      "See the caveats in the documentation: https://pandas.pydata.org/pandas-docs/stable/user_guide/indexing.html#returning-a-view-versus-a-copy\n",
      "  df['review_len'] = df['reviewText'].apply(lambda x: len(x) if x else None)\n"
     ]
    }
   ],
   "source": [
    "df['review_len'] = df['reviewText'].apply(lambda x: len(x) if x else None)"
   ]
  },
  {
   "cell_type": "code",
   "execution_count": 402,
   "id": "93d76341-1159-4392-9063-0b5c802acd92",
   "metadata": {},
   "outputs": [
    {
     "data": {
      "text/html": [
       "<div>\n",
       "<style scoped>\n",
       "    .dataframe tbody tr th:only-of-type {\n",
       "        vertical-align: middle;\n",
       "    }\n",
       "\n",
       "    .dataframe tbody tr th {\n",
       "        vertical-align: top;\n",
       "    }\n",
       "\n",
       "    .dataframe thead th {\n",
       "        text-align: right;\n",
       "    }\n",
       "</style>\n",
       "<table border=\"1\" class=\"dataframe\">\n",
       "  <thead>\n",
       "    <tr style=\"text-align: right;\">\n",
       "      <th></th>\n",
       "      <th>overall</th>\n",
       "      <th>verified</th>\n",
       "      <th>reviewerID</th>\n",
       "      <th>asin</th>\n",
       "      <th>reviewText</th>\n",
       "      <th>summary</th>\n",
       "      <th>timestamp</th>\n",
       "      <th>Format:</th>\n",
       "      <th>review_len</th>\n",
       "    </tr>\n",
       "  </thead>\n",
       "  <tbody>\n",
       "    <tr>\n",
       "      <th>1415790</th>\n",
       "      <td>4</td>\n",
       "      <td>True</td>\n",
       "      <td>A2IBHZWLKLGX5N</td>\n",
       "      <td>0802124496</td>\n",
       "      <td>A</td>\n",
       "      <td>Four Stars</td>\n",
       "      <td>2018-04-24</td>\n",
       "      <td>Hardcover</td>\n",
       "      <td>1.0</td>\n",
       "    </tr>\n",
       "    <tr>\n",
       "      <th>1454392</th>\n",
       "      <td>5</td>\n",
       "      <td>True</td>\n",
       "      <td>A3P6MVC4RGVLGH</td>\n",
       "      <td>0983943729</td>\n",
       "      <td>A</td>\n",
       "      <td>Five Stars</td>\n",
       "      <td>2016-12-24</td>\n",
       "      <td>Kindle Edition</td>\n",
       "      <td>1.0</td>\n",
       "    </tr>\n",
       "    <tr>\n",
       "      <th>1439741</th>\n",
       "      <td>5</td>\n",
       "      <td>True</td>\n",
       "      <td>A2FKPBCA1V60M7</td>\n",
       "      <td>0892214910</td>\n",
       "      <td>A</td>\n",
       "      <td>Five Stars</td>\n",
       "      <td>2016-11-18</td>\n",
       "      <td>Kindle Edition</td>\n",
       "      <td>1.0</td>\n",
       "    </tr>\n",
       "    <tr>\n",
       "      <th>1299101</th>\n",
       "      <td>5</td>\n",
       "      <td>True</td>\n",
       "      <td>A3P6MVC4RGVLGH</td>\n",
       "      <td>014751472X</td>\n",
       "      <td>A</td>\n",
       "      <td>Five Stars</td>\n",
       "      <td>2016-12-24</td>\n",
       "      <td>Paperback</td>\n",
       "      <td>1.0</td>\n",
       "    </tr>\n",
       "    <tr>\n",
       "      <th>84140</th>\n",
       "      <td>3</td>\n",
       "      <td>True</td>\n",
       "      <td>ABS82BYV0HQS2</td>\n",
       "      <td>0230735843</td>\n",
       "      <td>c</td>\n",
       "      <td>Three Stars</td>\n",
       "      <td>2016-05-30</td>\n",
       "      <td>Kindle Edition</td>\n",
       "      <td>1.0</td>\n",
       "    </tr>\n",
       "    <tr>\n",
       "      <th>...</th>\n",
       "      <td>...</td>\n",
       "      <td>...</td>\n",
       "      <td>...</td>\n",
       "      <td>...</td>\n",
       "      <td>...</td>\n",
       "      <td>...</td>\n",
       "      <td>...</td>\n",
       "      <td>...</td>\n",
       "      <td>...</td>\n",
       "    </tr>\n",
       "    <tr>\n",
       "      <th>898774</th>\n",
       "      <td>5</td>\n",
       "      <td>True</td>\n",
       "      <td>A1UJ8Y9KFMZ8Y3</td>\n",
       "      <td>1619491184</td>\n",
       "      <td>The Life of the Friars of the O.T.N. Way of Ch...</td>\n",
       "      <td>and who have let the ministers speak to them t...</td>\n",
       "      <td>2016-06-25</td>\n",
       "      <td>Paperback</td>\n",
       "      <td>29682.0</td>\n",
       "    </tr>\n",
       "    <tr>\n",
       "      <th>927819</th>\n",
       "      <td>5</td>\n",
       "      <td>False</td>\n",
       "      <td>A18RUTFPXZKMO8</td>\n",
       "      <td>1681857537</td>\n",
       "      <td>My 5-year-old great nephew and I were having s...</td>\n",
       "      <td>I would recommend</td>\n",
       "      <td>2016-05-25</td>\n",
       "      <td>Kindle Edition</td>\n",
       "      <td>29925.0</td>\n",
       "    </tr>\n",
       "    <tr>\n",
       "      <th>927458</th>\n",
       "      <td>5</td>\n",
       "      <td>False</td>\n",
       "      <td>A18RUTFPXZKMO8</td>\n",
       "      <td>1681854473</td>\n",
       "      <td>The product description is pretty much straigh...</td>\n",
       "      <td>Highly recommended</td>\n",
       "      <td>2016-05-25</td>\n",
       "      <td>Kindle Edition</td>\n",
       "      <td>29990.0</td>\n",
       "    </tr>\n",
       "    <tr>\n",
       "      <th>1254890</th>\n",
       "      <td>4</td>\n",
       "      <td>False</td>\n",
       "      <td>A18RUTFPXZKMO8</td>\n",
       "      <td>B00T0CNIS0</td>\n",
       "      <td>This eBook is okay. It contains 48 pages with ...</td>\n",
       "      <td>Like my other eBooks</td>\n",
       "      <td>2016-05-25</td>\n",
       "      <td>Kindle Edition</td>\n",
       "      <td>29999.0</td>\n",
       "    </tr>\n",
       "    <tr>\n",
       "      <th>27922</th>\n",
       "      <td>4</td>\n",
       "      <td>False</td>\n",
       "      <td>A3VNMO3IZ9I7YJ</td>\n",
       "      <td>0061926086</td>\n",
       "      <td>Book report on: If Grace Is True, Why God Will...</td>\n",
       "      <td>Appropriate for today's Church</td>\n",
       "      <td>2015-09-23</td>\n",
       "      <td>None</td>\n",
       "      <td>30083.0</td>\n",
       "    </tr>\n",
       "  </tbody>\n",
       "</table>\n",
       "<p>1772490 rows × 9 columns</p>\n",
       "</div>"
      ],
      "text/plain": [
       "         overall  verified      reviewerID        asin  \\\n",
       "1415790        4      True  A2IBHZWLKLGX5N  0802124496   \n",
       "1454392        5      True  A3P6MVC4RGVLGH  0983943729   \n",
       "1439741        5      True  A2FKPBCA1V60M7  0892214910   \n",
       "1299101        5      True  A3P6MVC4RGVLGH  014751472X   \n",
       "84140          3      True   ABS82BYV0HQS2  0230735843   \n",
       "...          ...       ...             ...         ...   \n",
       "898774         5      True  A1UJ8Y9KFMZ8Y3  1619491184   \n",
       "927819         5     False  A18RUTFPXZKMO8  1681857537   \n",
       "927458         5     False  A18RUTFPXZKMO8  1681854473   \n",
       "1254890        4     False  A18RUTFPXZKMO8  B00T0CNIS0   \n",
       "27922          4     False  A3VNMO3IZ9I7YJ  0061926086   \n",
       "\n",
       "                                                reviewText  \\\n",
       "1415790                                                  A   \n",
       "1454392                                                  A   \n",
       "1439741                                                  A   \n",
       "1299101                                                  A   \n",
       "84140                                                    c   \n",
       "...                                                    ...   \n",
       "898774   The Life of the Friars of the O.T.N. Way of Ch...   \n",
       "927819   My 5-year-old great nephew and I were having s...   \n",
       "927458   The product description is pretty much straigh...   \n",
       "1254890  This eBook is okay. It contains 48 pages with ...   \n",
       "27922    Book report on: If Grace Is True, Why God Will...   \n",
       "\n",
       "                                                   summary   timestamp  \\\n",
       "1415790                                         Four Stars  2018-04-24   \n",
       "1454392                                         Five Stars  2016-12-24   \n",
       "1439741                                         Five Stars  2016-11-18   \n",
       "1299101                                         Five Stars  2016-12-24   \n",
       "84140                                          Three Stars  2016-05-30   \n",
       "...                                                    ...         ...   \n",
       "898774   and who have let the ministers speak to them t...  2016-06-25   \n",
       "927819                                   I would recommend  2016-05-25   \n",
       "927458                                  Highly recommended  2016-05-25   \n",
       "1254890                               Like my other eBooks  2016-05-25   \n",
       "27922                       Appropriate for today's Church  2015-09-23   \n",
       "\n",
       "                 Format:  review_len  \n",
       "1415790        Hardcover         1.0  \n",
       "1454392   Kindle Edition         1.0  \n",
       "1439741   Kindle Edition         1.0  \n",
       "1299101        Paperback         1.0  \n",
       "84140     Kindle Edition         1.0  \n",
       "...                  ...         ...  \n",
       "898774         Paperback     29682.0  \n",
       "927819    Kindle Edition     29925.0  \n",
       "927458    Kindle Edition     29990.0  \n",
       "1254890   Kindle Edition     29999.0  \n",
       "27922               None     30083.0  \n",
       "\n",
       "[1772490 rows x 9 columns]"
      ]
     },
     "execution_count": 402,
     "metadata": {},
     "output_type": "execute_result"
    }
   ],
   "source": [
    "df[~pd.isnull(df.review_len)].sort_values('review_len')"
   ]
  },
  {
   "cell_type": "markdown",
   "id": "3c59f073-9c96-469b-af96-b42eda0b75ea",
   "metadata": {},
   "source": [
    "# meta_Books - 이전에 전처리한 데이터"
   ]
  },
  {
   "cell_type": "code",
   "execution_count": 256,
   "id": "4a13a5a3-33f6-41b7-9478-808d08614516",
   "metadata": {},
   "outputs": [],
   "source": [
    "mb = pd.read_csv('meta_Books.csv')"
   ]
  },
  {
   "cell_type": "code",
   "execution_count": 258,
   "id": "a8831c0a-853b-4524-8c7b-28142ddb2ac3",
   "metadata": {},
   "outputs": [
    {
     "data": {
      "text/plain": [
       "(1422645, 6)"
      ]
     },
     "execution_count": 258,
     "metadata": {},
     "output_type": "execute_result"
    }
   ],
   "source": [
    "mb.shape"
   ]
  },
  {
   "cell_type": "code",
   "execution_count": 259,
   "id": "76a61162-9893-4dec-b18a-a8d6b5d1888d",
   "metadata": {},
   "outputs": [
    {
     "name": "stdout",
     "output_type": "stream",
     "text": [
      "<class 'pandas.core.frame.DataFrame'>\n",
      "RangeIndex: 1422645 entries, 0 to 1422644\n",
      "Data columns (total 6 columns):\n",
      " #   Column       Non-Null Count    Dtype \n",
      "---  ------       --------------    ----- \n",
      " 0   category     1422645 non-null  object\n",
      " 1   description  1422645 non-null  object\n",
      " 2   title        1422645 non-null  object\n",
      " 3   brand        1422412 non-null  object\n",
      " 4   price        1422645 non-null  object\n",
      " 5   asin         1422645 non-null  object\n",
      "dtypes: object(6)\n",
      "memory usage: 65.1+ MB\n"
     ]
    }
   ],
   "source": [
    "mb.info()"
   ]
  },
  {
   "cell_type": "code",
   "execution_count": 260,
   "id": "6375d52f-5702-4ada-82f6-9b1c48e95f70",
   "metadata": {},
   "outputs": [
    {
     "data": {
      "text/html": [
       "<div>\n",
       "<style scoped>\n",
       "    .dataframe tbody tr th:only-of-type {\n",
       "        vertical-align: middle;\n",
       "    }\n",
       "\n",
       "    .dataframe tbody tr th {\n",
       "        vertical-align: top;\n",
       "    }\n",
       "\n",
       "    .dataframe thead th {\n",
       "        text-align: right;\n",
       "    }\n",
       "</style>\n",
       "<table border=\"1\" class=\"dataframe\">\n",
       "  <thead>\n",
       "    <tr style=\"text-align: right;\">\n",
       "      <th></th>\n",
       "      <th>category</th>\n",
       "      <th>description</th>\n",
       "      <th>title</th>\n",
       "      <th>brand</th>\n",
       "      <th>price</th>\n",
       "      <th>asin</th>\n",
       "    </tr>\n",
       "  </thead>\n",
       "  <tbody>\n",
       "    <tr>\n",
       "      <th>0</th>\n",
       "      <td>['Books', 'Arts &amp; Photography', 'Music']</td>\n",
       "      <td>['Discography of American Punk, Hardcore, and ...</td>\n",
       "      <td>Flex! Discography of North American Punk, Hard...</td>\n",
       "      <td>Burkhard Jarisch</td>\n",
       "      <td>$199.99</td>\n",
       "      <td>0000004545</td>\n",
       "    </tr>\n",
       "    <tr>\n",
       "      <th>1</th>\n",
       "      <td>['Books', 'Education &amp; Teaching', 'Schools &amp; T...</td>\n",
       "      <td>['This book will alert, amuse and appall you a...</td>\n",
       "      <td>Double-Speak: From Revenue Enhancement to Term...</td>\n",
       "      <td>William Lutz</td>\n",
       "      <td>$198.70</td>\n",
       "      <td>0000038504</td>\n",
       "    </tr>\n",
       "    <tr>\n",
       "      <th>2</th>\n",
       "      <td>['Books', 'Literature &amp; Fiction', 'Dramas &amp; Pl...</td>\n",
       "      <td>['William Shakespeare is widely regarded as th...</td>\n",
       "      <td>Love's Labour's Lost: Performed by Derek Jacob...</td>\n",
       "      <td>Visit Amazon's William Shakespeare Page</td>\n",
       "      <td>$20.93</td>\n",
       "      <td>0001050230</td>\n",
       "    </tr>\n",
       "    <tr>\n",
       "      <th>3</th>\n",
       "      <td>['Books', \"Children's Books\", 'Literature &amp; Fi...</td>\n",
       "      <td>['Collection of Poetry']</td>\n",
       "      <td>The golden treasury of poetry</td>\n",
       "      <td>Louis (ed) UNTERMEYER</td>\n",
       "      <td>$23.98</td>\n",
       "      <td>0001061240</td>\n",
       "    </tr>\n",
       "    <tr>\n",
       "      <th>4</th>\n",
       "      <td>['Books', \"Children's Books\", 'Education &amp; Ref...</td>\n",
       "      <td>['Sailing explores the world of small boats, i...</td>\n",
       "      <td>Sailing</td>\n",
       "      <td>Visit Amazon's Robin Knox-Johnston Page</td>\n",
       "      <td>$6.47</td>\n",
       "      <td>0001001787</td>\n",
       "    </tr>\n",
       "  </tbody>\n",
       "</table>\n",
       "</div>"
      ],
      "text/plain": [
       "                                            category  \\\n",
       "0           ['Books', 'Arts & Photography', 'Music']   \n",
       "1  ['Books', 'Education & Teaching', 'Schools & T...   \n",
       "2  ['Books', 'Literature & Fiction', 'Dramas & Pl...   \n",
       "3  ['Books', \"Children's Books\", 'Literature & Fi...   \n",
       "4  ['Books', \"Children's Books\", 'Education & Ref...   \n",
       "\n",
       "                                         description  \\\n",
       "0  ['Discography of American Punk, Hardcore, and ...   \n",
       "1  ['This book will alert, amuse and appall you a...   \n",
       "2  ['William Shakespeare is widely regarded as th...   \n",
       "3                           ['Collection of Poetry']   \n",
       "4  ['Sailing explores the world of small boats, i...   \n",
       "\n",
       "                                               title  \\\n",
       "0  Flex! Discography of North American Punk, Hard...   \n",
       "1  Double-Speak: From Revenue Enhancement to Term...   \n",
       "2  Love's Labour's Lost: Performed by Derek Jacob...   \n",
       "3                      The golden treasury of poetry   \n",
       "4                                            Sailing   \n",
       "\n",
       "                                     brand    price        asin  \n",
       "0                         Burkhard Jarisch  $199.99  0000004545  \n",
       "1                             William Lutz  $198.70  0000038504  \n",
       "2  Visit Amazon's William Shakespeare Page   $20.93  0001050230  \n",
       "3                    Louis (ed) UNTERMEYER   $23.98  0001061240  \n",
       "4  Visit Amazon's Robin Knox-Johnston Page    $6.47  0001001787  "
      ]
     },
     "execution_count": 260,
     "metadata": {},
     "output_type": "execute_result"
    }
   ],
   "source": [
    "mb.head()"
   ]
  },
  {
   "cell_type": "markdown",
   "id": "34f7b775-26bf-4a0a-9d67-3c55dcd624f8",
   "metadata": {},
   "source": [
    "## book, metabook asin 겹치는 거 확인"
   ]
  },
  {
   "cell_type": "code",
   "execution_count": 387,
   "id": "e6ebca30-df77-405b-8eeb-e36d9a1da328",
   "metadata": {},
   "outputs": [
    {
     "data": {
      "text/plain": [
       "0.6367872421140031"
      ]
     },
     "execution_count": 387,
     "metadata": {},
     "output_type": "execute_result"
    }
   ],
   "source": [
    "# 겹치는 정도 -> 이전에 전처리한 데이터는 너무 정보 없어져서 원본 사용해야함\n",
    "len(set(df.asin).intersection(set(mb.asin))) / df.asin.nunique()"
   ]
  },
  {
   "cell_type": "markdown",
   "id": "2581d9bb-ac1c-4983-ac67-01876ba1d390",
   "metadata": {},
   "source": [
    "# meta_books 원본 데이터와 비교"
   ]
  },
  {
   "cell_type": "code",
   "execution_count": 416,
   "id": "343dca26-a52b-4558-9eb9-38217d3a8613",
   "metadata": {},
   "outputs": [],
   "source": [
    "file = 'meta_Books.json'\n",
    "mb2 = pd.read_json(file, lines=True)"
   ]
  },
  {
   "cell_type": "code",
   "execution_count": 417,
   "id": "9d4db4ff-fea8-4d62-8c27-ae57f37fdb08",
   "metadata": {},
   "outputs": [
    {
     "data": {
      "text/plain": [
       "Index(['category', 'tech1', 'description', 'fit', 'title', 'also_buy', 'tech2',\n",
       "       'brand', 'feature', 'rank', 'also_view', 'main_cat', 'similar_item',\n",
       "       'date', 'price', 'asin', 'imageURL', 'imageURLHighRes', 'details'],\n",
       "      dtype='object')"
      ]
     },
     "execution_count": 417,
     "metadata": {},
     "output_type": "execute_result"
    }
   ],
   "source": [
    "mb2.columns"
   ]
  },
  {
   "cell_type": "code",
   "execution_count": 404,
   "id": "4deb6bbb-ead6-452a-9ebf-a60d6679ecfb",
   "metadata": {},
   "outputs": [
    {
     "data": {
      "text/plain": [
       "Index(['category', 'description', 'title', 'brand', 'price', 'asin'], dtype='object')"
      ]
     },
     "execution_count": 404,
     "metadata": {},
     "output_type": "execute_result"
    }
   ],
   "source": [
    "mb.columns"
   ]
  },
  {
   "cell_type": "code",
   "execution_count": 418,
   "id": "2d62b601-7d7b-4177-a68d-62261bfe3c75",
   "metadata": {},
   "outputs": [
    {
     "data": {
      "text/plain": [
       "0.9998663895841137"
      ]
     },
     "execution_count": 418,
     "metadata": {},
     "output_type": "execute_result"
    }
   ],
   "source": [
    "# 원본 데이터에는 대부분의 정보 있음\n",
    "len(set(df.asin).intersection(set(mb2.asin))) / df.asin.nunique()"
   ]
  },
  {
   "cell_type": "markdown",
   "id": "6cec58a5-64c4-446a-9298-d260d4ec2669",
   "metadata": {},
   "source": [
    "# join"
   ]
  },
  {
   "cell_type": "code",
   "execution_count": 421,
   "id": "3c57167b-fec1-4c5a-8e22-06049c9f8a67",
   "metadata": {},
   "outputs": [],
   "source": [
    "mb2 = mb2[['category', 'description', 'title', 'brand', 'price', 'asin','imageURL','main_cat']]"
   ]
  },
  {
   "cell_type": "code",
   "execution_count": 816,
   "id": "26a23fb9-be98-4ead-8064-7cf876624d8b",
   "metadata": {},
   "outputs": [],
   "source": [
    "merge_df = pd.merge(df,mb2,how='left',on='asin')"
   ]
  },
  {
   "cell_type": "markdown",
   "id": "7186e643-78e1-4061-ab7a-fcef688e6dbf",
   "metadata": {},
   "source": [
    "### imageurl 없고, 리뷰 데이터, 평점 순 asin 정렬한 것 뽑기"
   ]
  },
  {
   "cell_type": "code",
   "execution_count": 439,
   "id": "7f76ea91-6126-4909-894d-0f1e10f81bb6",
   "metadata": {},
   "outputs": [],
   "source": [
    "merge_df['imageurl'] = merge_df['imageURL'].apply(lambda x : 1 if x else 0)"
   ]
  },
  {
   "cell_type": "code",
   "execution_count": 455,
   "id": "0ed57623-6aef-4d3e-8584-ae69c7a52844",
   "metadata": {},
   "outputs": [],
   "source": [
    "image0_asin_df = merge_df[merge_df['imageurl']==0].groupby('asin')['reviewerID'].count().sort_values(ascending=False)"
   ]
  },
  {
   "cell_type": "code",
   "execution_count": 457,
   "id": "318ffa45-c7ce-4f46-b94d-102f78639956",
   "metadata": {},
   "outputs": [],
   "source": [
    "image0_asin_df = pd.DataFrame(image0_asin_df)"
   ]
  },
  {
   "cell_type": "code",
   "execution_count": 463,
   "id": "6678efac-bf2d-42db-ae8c-dd1371e923f2",
   "metadata": {},
   "outputs": [],
   "source": [
    "image0_asin_df2 = merge_df[merge_df['imageurl']==0].groupby('asin')['overall'].mean()"
   ]
  },
  {
   "cell_type": "code",
   "execution_count": 465,
   "id": "8c6bbcd9-c7dd-4cc7-ab61-48dacc05853b",
   "metadata": {},
   "outputs": [],
   "source": [
    "image0_asin_df = pd.merge(image0_asin_df,image0_asin_df2,how='left',on='asin')"
   ]
  },
  {
   "cell_type": "code",
   "execution_count": 476,
   "id": "9bfc4230-0419-49de-b002-fbe73b3732fc",
   "metadata": {},
   "outputs": [],
   "source": [
    "sort_popular_asin_image0 = list(image0_asin_df.sort_values(['reviewerID','overall'],ascending=False).index)"
   ]
  },
  {
   "cell_type": "code",
   "execution_count": 477,
   "id": "f8e4148a-7996-479a-85d5-16536afbfadb",
   "metadata": {},
   "outputs": [],
   "source": [
    "with open(\"sort_popular_asin_image0.pickle\",\"wb\") as f:\n",
    "    pickle.dump(sort_popular_asin_image0, f)"
   ]
  },
  {
   "cell_type": "code",
   "execution_count": 479,
   "id": "2945fc33-5f30-4061-9a60-09b54751f81a",
   "metadata": {},
   "outputs": [],
   "source": [
    "# imageurl 컬럼들은 none 값 너무 많으니 제거\n",
    "merge_df.drop(['imageURL','imageurl'],axis=1,inplace=True)"
   ]
  },
  {
   "cell_type": "markdown",
   "id": "0e0a2dd1-7a1f-437c-bec7-e73a46467a14",
   "metadata": {},
   "source": [
    "### 중요해 보이는 컬럼 순으로 변경 "
   ]
  },
  {
   "cell_type": "code",
   "execution_count": 817,
   "id": "1186e4a4-1036-4b53-b012-0021fbe2d2a0",
   "metadata": {},
   "outputs": [],
   "source": [
    "merge_df = merge_df[['reviewerID','asin',  'overall','title', 'verified',  'summary','reviewText','timestamp', 'description', 'price',\n",
    "       'Format:',  'category',  'main_cat', 'brand']]"
   ]
  },
  {
   "cell_type": "markdown",
   "id": "6b4cca1e-0eb8-4a53-a9c7-3577b8e39398",
   "metadata": {},
   "source": [
    "### nan 값, 빈 리스트들 None 값으로 통일해주기"
   ]
  },
  {
   "cell_type": "code",
   "execution_count": 818,
   "id": "b7d171db-ac36-4d81-a74d-423c8c7e934e",
   "metadata": {},
   "outputs": [],
   "source": [
    "merge_df['category'] = merge_df['category'].apply(lambda x : None if not x else None if type(x) != list and np.isnan(x) else x)\n",
    "merge_df['description'] = merge_df['description'].apply(lambda x : None if not x else None if type(x) != list and np.isnan(x) else x)\n",
    "merge_df['title'] = merge_df['title'].apply(lambda x : None if not x else None if type(x) != str and np.isnan(x) else x)\n",
    "merge_df['brand'] = merge_df['brand'].apply(lambda x : None if not x else None if type(x) != str and np.isnan(x) else x)\n",
    "merge_df['price'] = merge_df['price'].apply(lambda x : None if not x else None if type(x) != str and np.isnan(x) else x)\n",
    "merge_df['main_cat'] = merge_df['main_cat'].apply(lambda x : None if not x else None if type(x) != str and np.isnan(x) else x)"
   ]
  },
  {
   "cell_type": "markdown",
   "id": "0eb9f9a2-c6aa-4b0c-98ff-a8e6839f2e71",
   "metadata": {},
   "source": [
    "### description 리스트 안에 있는 것 빼내기"
   ]
  },
  {
   "cell_type": "code",
   "execution_count": 819,
   "id": "331237f1-57e5-4cac-87bd-5dacd8a1491c",
   "metadata": {},
   "outputs": [],
   "source": [
    "merge_df['description'] = merge_df['description'].apply(lambda x : x[0] if x and type(x) == list else  x if x else None) "
   ]
  },
  {
   "cell_type": "markdown",
   "id": "4cf19d38-547d-4250-9bf6-a045dd0ca9f7",
   "metadata": {},
   "source": [
    "### category 내부 확인"
   ]
  },
  {
   "cell_type": "code",
   "execution_count": 820,
   "id": "50e21e78-2d2e-42fa-9d70-c50d0d91f988",
   "metadata": {},
   "outputs": [],
   "source": [
    "category_list = []"
   ]
  },
  {
   "cell_type": "code",
   "execution_count": 821,
   "id": "e5093837-317a-4cf6-98bd-1b1efee56823",
   "metadata": {},
   "outputs": [],
   "source": [
    "for i in merge_df['category']:\n",
    "    if i:\n",
    "        for j in i:\n",
    "            category_list.append(j)"
   ]
  },
  {
   "cell_type": "code",
   "execution_count": 822,
   "id": "bc1f0db7-8004-4e43-872d-5d9dc7161e3d",
   "metadata": {},
   "outputs": [
    {
     "data": {
      "text/plain": [
       "856"
      ]
     },
     "execution_count": 822,
     "metadata": {},
     "output_type": "execute_result"
    }
   ],
   "source": [
    "# category 내 값들이 너무 많아서 따로 빼기 어려움\n",
    "len(set(category_list))"
   ]
  },
  {
   "cell_type": "markdown",
   "id": "b08f0d9d-af2e-4a5f-9beb-d602ef2e6806",
   "metadata": {},
   "source": [
    "### price"
   ]
  },
  {
   "cell_type": "code",
   "execution_count": 823,
   "id": "3f4d9789-d49a-46ff-9769-fbacb2d98d4b",
   "metadata": {},
   "outputs": [],
   "source": [
    "merge_df['price'] = merge_df['price'].apply(lambda x : None if not x else x[1:] if x[0] == '$' else x) "
   ]
  },
  {
   "cell_type": "code",
   "execution_count": 824,
   "id": "7eb6f280-9bff-485d-b7c4-1c783a271f85",
   "metadata": {},
   "outputs": [],
   "source": [
    "# price 내 문자나 긴 문장들이 섞여 있고, 1,024.25 같이 ',' 때문에 float으로 바뀌지 않는 경우가 있어서 아래와 같이 처리함"
   ]
  },
  {
   "cell_type": "code",
   "execution_count": 825,
   "id": "d08e8113-4c0e-419d-9867-036e0c0d4a6c",
   "metadata": {},
   "outputs": [],
   "source": [
    "price_list = []\n",
    "for i in merge_df['price']:\n",
    "    # float 변경 안되는 문자들은 None으로 처리\n",
    "    if i:\n",
    "        # ',' 없애줌\n",
    "        i = i.replace(',','')\n",
    "        try:\n",
    "            price_list.append(float(i))\n",
    "        except:\n",
    "            price_list.append(None)\n",
    "    else:\n",
    "        price_list.append(None)"
   ]
  },
  {
   "cell_type": "code",
   "execution_count": 826,
   "id": "73119d4d-0323-48d8-909c-07c21e43a54b",
   "metadata": {},
   "outputs": [],
   "source": [
    "merge_df['price'] = price_list"
   ]
  },
  {
   "cell_type": "markdown",
   "id": "2dc1b3a0-48f0-4f67-a822-9d6019687b08",
   "metadata": {},
   "source": [
    "### price에 Nan이 있어서 혹시 문제가 발생할 수도 있음 (ex. db 저장할 때)"
   ]
  },
  {
   "cell_type": "code",
   "execution_count": 827,
   "id": "40e836bc-119c-428b-bba7-d14d6e933615",
   "metadata": {},
   "outputs": [
    {
     "data": {
      "text/html": [
       "<div>\n",
       "<style scoped>\n",
       "    .dataframe tbody tr th:only-of-type {\n",
       "        vertical-align: middle;\n",
       "    }\n",
       "\n",
       "    .dataframe tbody tr th {\n",
       "        vertical-align: top;\n",
       "    }\n",
       "\n",
       "    .dataframe thead th {\n",
       "        text-align: right;\n",
       "    }\n",
       "</style>\n",
       "<table border=\"1\" class=\"dataframe\">\n",
       "  <thead>\n",
       "    <tr style=\"text-align: right;\">\n",
       "      <th></th>\n",
       "      <th>reviewerID</th>\n",
       "      <th>asin</th>\n",
       "      <th>overall</th>\n",
       "      <th>title</th>\n",
       "      <th>verified</th>\n",
       "      <th>summary</th>\n",
       "      <th>reviewText</th>\n",
       "      <th>timestamp</th>\n",
       "      <th>description</th>\n",
       "      <th>price</th>\n",
       "      <th>Format:</th>\n",
       "      <th>category</th>\n",
       "      <th>main_cat</th>\n",
       "      <th>brand</th>\n",
       "    </tr>\n",
       "  </thead>\n",
       "  <tbody>\n",
       "    <tr>\n",
       "      <th>0</th>\n",
       "      <td>AVP0HXC9FG790</td>\n",
       "      <td>0001713353</td>\n",
       "      <td>5</td>\n",
       "      <td>King, the Mice and the Cheese (Beginner Books)</td>\n",
       "      <td>True</td>\n",
       "      <td>Five Stars</td>\n",
       "      <td>The kids loved it!</td>\n",
       "      <td>2016-06-20</td>\n",
       "      <td>THE KING, THE MICE AND THE CHEESE follows a fo...</td>\n",
       "      <td>12.33</td>\n",
       "      <td>None</td>\n",
       "      <td>[Books, Children's Books, Literature &amp; Fiction]</td>\n",
       "      <td>Books</td>\n",
       "      <td>Visit Amazon's Nancy Gurney Page</td>\n",
       "    </tr>\n",
       "    <tr>\n",
       "      <th>1</th>\n",
       "      <td>A2RE7WG349NV5D</td>\n",
       "      <td>0001713353</td>\n",
       "      <td>5</td>\n",
       "      <td>King, the Mice and the Cheese (Beginner Books)</td>\n",
       "      <td>False</td>\n",
       "      <td>Five Stars</td>\n",
       "      <td>LOVE IT</td>\n",
       "      <td>2015-07-09</td>\n",
       "      <td>THE KING, THE MICE AND THE CHEESE follows a fo...</td>\n",
       "      <td>12.33</td>\n",
       "      <td>Paperback</td>\n",
       "      <td>[Books, Children's Books, Literature &amp; Fiction]</td>\n",
       "      <td>Books</td>\n",
       "      <td>Visit Amazon's Nancy Gurney Page</td>\n",
       "    </tr>\n",
       "    <tr>\n",
       "      <th>2</th>\n",
       "      <td>A2CVLIZ9ELU88</td>\n",
       "      <td>0001061240</td>\n",
       "      <td>5</td>\n",
       "      <td>The golden treasury of poetry</td>\n",
       "      <td>True</td>\n",
       "      <td>A wonderful poetry collection with superior co...</td>\n",
       "      <td>I had this book as a child and loved it. The c...</td>\n",
       "      <td>2016-10-06</td>\n",
       "      <td>Collection of Poetry</td>\n",
       "      <td>23.98</td>\n",
       "      <td>Hardcover</td>\n",
       "      <td>[Books, Children's Books, Literature &amp; Fiction]</td>\n",
       "      <td>Books</td>\n",
       "      <td>Louis (ed) UNTERMEYER</td>\n",
       "    </tr>\n",
       "    <tr>\n",
       "      <th>3</th>\n",
       "      <td>A3LAQSHW9IVKUO</td>\n",
       "      <td>0002005263</td>\n",
       "      <td>5</td>\n",
       "      <td>The Sinister Pig</td>\n",
       "      <td>True</td>\n",
       "      <td>You will want to take notes</td>\n",
       "      <td>Typical Hillerman, the only mystery set in mod...</td>\n",
       "      <td>2016-11-06</td>\n",
       "      <td>LARGE PRINT HARDBACK.</td>\n",
       "      <td>5.85</td>\n",
       "      <td>Mass Market Paperback</td>\n",
       "      <td>None</td>\n",
       "      <td>Books</td>\n",
       "      <td>Visit Amazon's Tony. Hillerman Page</td>\n",
       "    </tr>\n",
       "    <tr>\n",
       "      <th>4</th>\n",
       "      <td>A2B4R7L8FX9BGT</td>\n",
       "      <td>0002005263</td>\n",
       "      <td>5</td>\n",
       "      <td>The Sinister Pig</td>\n",
       "      <td>True</td>\n",
       "      <td>Five Stars</td>\n",
       "      <td>Love it.</td>\n",
       "      <td>2016-01-09</td>\n",
       "      <td>LARGE PRINT HARDBACK.</td>\n",
       "      <td>5.85</td>\n",
       "      <td>Kindle Edition</td>\n",
       "      <td>None</td>\n",
       "      <td>Books</td>\n",
       "      <td>Visit Amazon's Tony. Hillerman Page</td>\n",
       "    </tr>\n",
       "    <tr>\n",
       "      <th>...</th>\n",
       "      <td>...</td>\n",
       "      <td>...</td>\n",
       "      <td>...</td>\n",
       "      <td>...</td>\n",
       "      <td>...</td>\n",
       "      <td>...</td>\n",
       "      <td>...</td>\n",
       "      <td>...</td>\n",
       "      <td>...</td>\n",
       "      <td>...</td>\n",
       "      <td>...</td>\n",
       "      <td>...</td>\n",
       "      <td>...</td>\n",
       "      <td>...</td>\n",
       "    </tr>\n",
       "    <tr>\n",
       "      <th>1773696</th>\n",
       "      <td>A36OTZP3JUZSYB</td>\n",
       "      <td>B01HJ56VC4</td>\n",
       "      <td>4</td>\n",
       "      <td>The Seance (Jinn Series Book 1) eBook</td>\n",
       "      <td>True</td>\n",
       "      <td>Very Nicely Done!</td>\n",
       "      <td>I really enjoyed this short story and Evelyn. ...</td>\n",
       "      <td>2017-06-24</td>\n",
       "      <td>None</td>\n",
       "      <td>NaN</td>\n",
       "      <td>Kindle Edition</td>\n",
       "      <td>[Books, Literature &amp; Fiction, Genre Fiction]</td>\n",
       "      <td>Buy a Kindle</td>\n",
       "      <td>Visit Amazon's Ayse Hafiza Page</td>\n",
       "    </tr>\n",
       "    <tr>\n",
       "      <th>1773697</th>\n",
       "      <td>A3KQ9BFVH82015</td>\n",
       "      <td>B01HJ56VC4</td>\n",
       "      <td>5</td>\n",
       "      <td>The Seance (Jinn Series Book 1) eBook</td>\n",
       "      <td>False</td>\n",
       "      <td>I loved \"Seance\" by Ayse Hafiza</td>\n",
       "      <td>I loved \"Seance\" by Ayse Hafiza, it reminded m...</td>\n",
       "      <td>2017-06-17</td>\n",
       "      <td>None</td>\n",
       "      <td>NaN</td>\n",
       "      <td>Kindle Edition</td>\n",
       "      <td>[Books, Literature &amp; Fiction, Genre Fiction]</td>\n",
       "      <td>Buy a Kindle</td>\n",
       "      <td>Visit Amazon's Ayse Hafiza Page</td>\n",
       "    </tr>\n",
       "    <tr>\n",
       "      <th>1773698</th>\n",
       "      <td>AX9E9GSUYYPKS</td>\n",
       "      <td>B01HJ2RQGM</td>\n",
       "      <td>5</td>\n",
       "      <td>PLAYBOY MAGAZINE JULY/AUGUST 2016</td>\n",
       "      <td>True</td>\n",
       "      <td>Five Stars</td>\n",
       "      <td>No problems with seller or item</td>\n",
       "      <td>2016-07-17</td>\n",
       "      <td>this product was never view, only taken out of...</td>\n",
       "      <td>11.75</td>\n",
       "      <td>None</td>\n",
       "      <td>[Books, Literature &amp; Fiction, Erotica]</td>\n",
       "      <td>Books</td>\n",
       "      <td>None</td>\n",
       "    </tr>\n",
       "    <tr>\n",
       "      <th>1773699</th>\n",
       "      <td>A28Q75F97EPZ2A</td>\n",
       "      <td>B01HJ6NAUY</td>\n",
       "      <td>3</td>\n",
       "      <td>The Lusca eBook</td>\n",
       "      <td>False</td>\n",
       "      <td>Squid</td>\n",
       "      <td>Not a bad story. Giant squid and it's eels com...</td>\n",
       "      <td>2017-08-05</td>\n",
       "      <td>None</td>\n",
       "      <td>NaN</td>\n",
       "      <td>Kindle Edition</td>\n",
       "      <td>[Books, Literature &amp; Fiction, Genre Fiction]</td>\n",
       "      <td>Buy a Kindle</td>\n",
       "      <td>Lisa R. Hazard</td>\n",
       "    </tr>\n",
       "    <tr>\n",
       "      <th>1773700</th>\n",
       "      <td>A1BZTGM220WKWX</td>\n",
       "      <td>B01HJBPTUI</td>\n",
       "      <td>5</td>\n",
       "      <td>Made Men: A Thriller (Law of Retaliation Book ...</td>\n",
       "      <td>False</td>\n",
       "      <td>Ernst has authored two books in my top 5</td>\n",
       "      <td>I can count on one hand the number of books th...</td>\n",
       "      <td>2018-04-11</td>\n",
       "      <td>None</td>\n",
       "      <td>NaN</td>\n",
       "      <td>Kindle Edition</td>\n",
       "      <td>[Books, Mystery, Thriller &amp; Suspense, Thriller...</td>\n",
       "      <td>Buy a Kindle</td>\n",
       "      <td>Visit Amazon's Bradley Ernst Page</td>\n",
       "    </tr>\n",
       "  </tbody>\n",
       "</table>\n",
       "<p>1773701 rows × 14 columns</p>\n",
       "</div>"
      ],
      "text/plain": [
       "             reviewerID        asin  overall  \\\n",
       "0         AVP0HXC9FG790  0001713353        5   \n",
       "1        A2RE7WG349NV5D  0001713353        5   \n",
       "2         A2CVLIZ9ELU88  0001061240        5   \n",
       "3        A3LAQSHW9IVKUO  0002005263        5   \n",
       "4        A2B4R7L8FX9BGT  0002005263        5   \n",
       "...                 ...         ...      ...   \n",
       "1773696  A36OTZP3JUZSYB  B01HJ56VC4        4   \n",
       "1773697  A3KQ9BFVH82015  B01HJ56VC4        5   \n",
       "1773698   AX9E9GSUYYPKS  B01HJ2RQGM        5   \n",
       "1773699  A28Q75F97EPZ2A  B01HJ6NAUY        3   \n",
       "1773700  A1BZTGM220WKWX  B01HJBPTUI        5   \n",
       "\n",
       "                                                     title  verified  \\\n",
       "0           King, the Mice and the Cheese (Beginner Books)      True   \n",
       "1           King, the Mice and the Cheese (Beginner Books)     False   \n",
       "2                            The golden treasury of poetry      True   \n",
       "3                                         The Sinister Pig      True   \n",
       "4                                         The Sinister Pig      True   \n",
       "...                                                    ...       ...   \n",
       "1773696              The Seance (Jinn Series Book 1) eBook      True   \n",
       "1773697              The Seance (Jinn Series Book 1) eBook     False   \n",
       "1773698                  PLAYBOY MAGAZINE JULY/AUGUST 2016      True   \n",
       "1773699                                    The Lusca eBook     False   \n",
       "1773700  Made Men: A Thriller (Law of Retaliation Book ...     False   \n",
       "\n",
       "                                                   summary  \\\n",
       "0                                               Five Stars   \n",
       "1                                               Five Stars   \n",
       "2        A wonderful poetry collection with superior co...   \n",
       "3                              You will want to take notes   \n",
       "4                                               Five Stars   \n",
       "...                                                    ...   \n",
       "1773696                                  Very Nicely Done!   \n",
       "1773697                    I loved \"Seance\" by Ayse Hafiza   \n",
       "1773698                                         Five Stars   \n",
       "1773699                                              Squid   \n",
       "1773700           Ernst has authored two books in my top 5   \n",
       "\n",
       "                                                reviewText   timestamp  \\\n",
       "0                                       The kids loved it!  2016-06-20   \n",
       "1                                                  LOVE IT  2015-07-09   \n",
       "2        I had this book as a child and loved it. The c...  2016-10-06   \n",
       "3        Typical Hillerman, the only mystery set in mod...  2016-11-06   \n",
       "4                                                 Love it.  2016-01-09   \n",
       "...                                                    ...         ...   \n",
       "1773696  I really enjoyed this short story and Evelyn. ...  2017-06-24   \n",
       "1773697  I loved \"Seance\" by Ayse Hafiza, it reminded m...  2017-06-17   \n",
       "1773698                    No problems with seller or item  2016-07-17   \n",
       "1773699  Not a bad story. Giant squid and it's eels com...  2017-08-05   \n",
       "1773700  I can count on one hand the number of books th...  2018-04-11   \n",
       "\n",
       "                                               description  price  \\\n",
       "0        THE KING, THE MICE AND THE CHEESE follows a fo...  12.33   \n",
       "1        THE KING, THE MICE AND THE CHEESE follows a fo...  12.33   \n",
       "2                                     Collection of Poetry  23.98   \n",
       "3                                    LARGE PRINT HARDBACK.   5.85   \n",
       "4                                    LARGE PRINT HARDBACK.   5.85   \n",
       "...                                                    ...    ...   \n",
       "1773696                                               None    NaN   \n",
       "1773697                                               None    NaN   \n",
       "1773698  this product was never view, only taken out of...  11.75   \n",
       "1773699                                               None    NaN   \n",
       "1773700                                               None    NaN   \n",
       "\n",
       "                        Format:  \\\n",
       "0                          None   \n",
       "1                     Paperback   \n",
       "2                     Hardcover   \n",
       "3         Mass Market Paperback   \n",
       "4                Kindle Edition   \n",
       "...                         ...   \n",
       "1773696          Kindle Edition   \n",
       "1773697          Kindle Edition   \n",
       "1773698                    None   \n",
       "1773699          Kindle Edition   \n",
       "1773700          Kindle Edition   \n",
       "\n",
       "                                                  category      main_cat  \\\n",
       "0          [Books, Children's Books, Literature & Fiction]         Books   \n",
       "1          [Books, Children's Books, Literature & Fiction]         Books   \n",
       "2          [Books, Children's Books, Literature & Fiction]         Books   \n",
       "3                                                     None         Books   \n",
       "4                                                     None         Books   \n",
       "...                                                    ...           ...   \n",
       "1773696       [Books, Literature & Fiction, Genre Fiction]  Buy a Kindle   \n",
       "1773697       [Books, Literature & Fiction, Genre Fiction]  Buy a Kindle   \n",
       "1773698             [Books, Literature & Fiction, Erotica]         Books   \n",
       "1773699       [Books, Literature & Fiction, Genre Fiction]  Buy a Kindle   \n",
       "1773700  [Books, Mystery, Thriller & Suspense, Thriller...  Buy a Kindle   \n",
       "\n",
       "                                       brand  \n",
       "0           Visit Amazon's Nancy Gurney Page  \n",
       "1           Visit Amazon's Nancy Gurney Page  \n",
       "2                      Louis (ed) UNTERMEYER  \n",
       "3        Visit Amazon's Tony. Hillerman Page  \n",
       "4        Visit Amazon's Tony. Hillerman Page  \n",
       "...                                      ...  \n",
       "1773696      Visit Amazon's Ayse Hafiza Page  \n",
       "1773697      Visit Amazon's Ayse Hafiza Page  \n",
       "1773698                                 None  \n",
       "1773699                       Lisa R. Hazard  \n",
       "1773700    Visit Amazon's Bradley Ernst Page  \n",
       "\n",
       "[1773701 rows x 14 columns]"
      ]
     },
     "execution_count": 827,
     "metadata": {},
     "output_type": "execute_result"
    }
   ],
   "source": [
    "merge_df"
   ]
  },
  {
   "cell_type": "code",
   "execution_count": 828,
   "id": "3389d8f0-86dd-4c8e-bcfe-a03c80b3ecb2",
   "metadata": {},
   "outputs": [
    {
     "name": "stdout",
     "output_type": "stream",
     "text": [
      "<class 'pandas.core.frame.DataFrame'>\n",
      "Int64Index: 1773701 entries, 0 to 1773700\n",
      "Data columns (total 14 columns):\n",
      " #   Column       Dtype  \n",
      "---  ------       -----  \n",
      " 0   reviewerID   object \n",
      " 1   asin         object \n",
      " 2   overall      int16  \n",
      " 3   title        object \n",
      " 4   verified     bool   \n",
      " 5   summary      object \n",
      " 6   reviewText   object \n",
      " 7   timestamp    object \n",
      " 8   description  object \n",
      " 9   price        float64\n",
      " 10  Format:      object \n",
      " 11  category     object \n",
      " 12  main_cat     object \n",
      " 13  brand        object \n",
      "dtypes: bool(1), float64(1), int16(1), object(11)\n",
      "memory usage: 181.0+ MB\n"
     ]
    }
   ],
   "source": [
    "merge_df.info()"
   ]
  },
  {
   "cell_type": "code",
   "execution_count": 829,
   "id": "5c9ce720-855a-4672-bede-ef642d353a82",
   "metadata": {},
   "outputs": [],
   "source": [
    "merge_df.to_csv('merge_book_2015_20.csv',index=False)"
   ]
  },
  {
   "cell_type": "code",
   "execution_count": null,
   "id": "41e3a2ab-2ca6-4fab-a0d2-8a3ce50cb10c",
   "metadata": {},
   "outputs": [],
   "source": []
  }
 ],
 "metadata": {
  "kernelspec": {
   "display_name": "Python 3",
   "language": "python",
   "name": "python3"
  },
  "language_info": {
   "codemirror_mode": {
    "name": "ipython",
    "version": 3
   },
   "file_extension": ".py",
   "mimetype": "text/x-python",
   "name": "python",
   "nbconvert_exporter": "python",
   "pygments_lexer": "ipython3",
   "version": "3.8.5"
  }
 },
 "nbformat": 4,
 "nbformat_minor": 5
}
