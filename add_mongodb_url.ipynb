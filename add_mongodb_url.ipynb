{
 "cells": [
  {
   "cell_type": "code",
   "execution_count": null,
   "metadata": {},
   "outputs": [],
   "source": [
    "import pymongo, time\n",
    "\n",
    "client = pymongo.MongoClient(\"mongodb://118.67.143.144:30001/\")\n",
    "\n",
    "db = client[\"amazon\"]\n",
    "collection = db[\"url\"]\n",
    "\n",
    "# DB에 어떤 collection이 있는 지 확인\n",
    "# print(db.list_collection_names())\n",
    "\n",
    "file = open(\"asin_link.txt\", 'r') # 데이터 형식 : asin_number\\t[url_1, url_2, ...]\\n\n",
    "\n",
    "files = file.readlines()\n",
    "\n",
    "for line in files:\n",
    "    line = line.rstrip()\n",
    "    line = line.split('\\t') \n",
    "    asin = line[0]\n",
    "    url_dump = line[1][1:len(line[1])-1].replace(' ', '')\n",
    "    url_list = url_dump.split(',')\n",
    "    url_list_processed = [i[1:len(i)-1] for i in url_list]\n",
    "\n",
    "    x = collection.insert_one({\"asin\": asin, \"image_url\": url_list_processed})\n",
    "\n",
    "file.close()\n",
    "\n"
   ]
  },
  {
   "cell_type": "code",
   "execution_count": null,
   "metadata": {},
   "outputs": [],
   "source": [
    "# 데이터 삽입 확인\n",
    "\n",
    "cursor = collection.find()\n",
    "\n",
    "for record in cursor:\n",
    "    print(record)\n",
    "\n",
    "\n",
    "# 데이터 삭제 메소드\n",
    "# collection.delete_one({})"
   ]
  }
 ],
 "metadata": {
  "language_info": {
   "name": "python"
  },
  "orig_nbformat": 4
 },
 "nbformat": 4,
 "nbformat_minor": 2
}
