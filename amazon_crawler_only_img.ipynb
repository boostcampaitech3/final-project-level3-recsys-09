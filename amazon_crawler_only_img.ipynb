{
 "cells": [
  {
   "cell_type": "code",
   "execution_count": 13,
   "metadata": {},
   "outputs": [],
   "source": [
    "import time, random, pickle\n",
    "from collections import defaultdict, deque\n",
    "from tqdm import tqdm\n",
    "\n",
    "import selenium\n",
    "from selenium import webdriver\n",
    "from selenium.webdriver import ActionChains\n",
    "\n",
    "from selenium.webdriver.common.keys import Keys\n",
    "from selenium.webdriver.common.by import By\n",
    "\n",
    "from selenium.webdriver.support import expected_conditions as EC\n",
    "from selenium.webdriver.support.ui import Select\n",
    "from selenium.webdriver.support.ui import WebDriverWait\n",
    "\n",
    "from pyvirtualdisplay import Display\n",
    "from webdriver_manager.chrome import ChromeDriverManager\n",
    "\n"
   ]
  },
  {
   "cell_type": "code",
   "execution_count": 14,
   "metadata": {},
   "outputs": [],
   "source": [
    "from pyvirtualdisplay import Display\n",
    "\n",
    "\n",
    "chrome_options = webdriver.ChromeOptions()\n",
    "chrome_options.add_argument('--headless')\n",
    "chrome_options.add_argument('--no-sandbox')\n",
    "chrome_options.add_argument('--disable-dev-shm-usage')\n",
    "\n",
    "\n",
    "path='chromedriver/chromedriver'\n",
    "\n",
    "driver = webdriver.Chrome(executable_path=path, options=chrome_options)"
   ]
  },
  {
   "cell_type": "code",
   "execution_count": 15,
   "metadata": {},
   "outputs": [],
   "source": [
    "pickle_data_path = './data/image0_sort_popular_overall_asin.pickle'\n",
    "\n",
    "with open(pickle_data_path, \"rb\") as f:\n",
    "    asin_number = pickle.load(f)\n",
    "\n"
   ]
  },
  {
   "cell_type": "code",
   "execution_count": 20,
   "metadata": {},
   "outputs": [
    {
     "name": "stderr",
     "output_type": "stream",
     "text": [
      "  0%|          | 93/418865 [04:05<306:54:33,  2.64s/it]\n"
     ]
    },
    {
     "ename": "NoSuchElementException",
     "evalue": "Message: no such element: Unable to locate element: {\"method\":\"css selector\",\"selector\":\"[id=\"twotabsearchtextbox\"]\"}\n  (Session info: headless chrome=101.0.4951.64)\n",
     "output_type": "error",
     "traceback": [
      "\u001b[0;31m---------------------------------------------------------------------------\u001b[0m",
      "\u001b[0;31mNoSuchElementException\u001b[0m                    Traceback (most recent call last)",
      "\u001b[1;32m/workspace/amazon_crawler_only_img.ipynb Cell 4'\u001b[0m in \u001b[0;36m<cell line: 8>\u001b[0;34m()\u001b[0m\n\u001b[1;32m      <a href='vscode-notebook-cell://ssh-remote%2B49.50.160.19/workspace/amazon_crawler_only_img.ipynb#ch0000003vscode-remote?line=7'>8</a>\u001b[0m \u001b[39mfor\u001b[39;00m num \u001b[39min\u001b[39;00m tqdm(\u001b[39mrange\u001b[39m(\u001b[39mlen\u001b[39m(asin_number))):\n\u001b[1;32m      <a href='vscode-notebook-cell://ssh-remote%2B49.50.160.19/workspace/amazon_crawler_only_img.ipynb#ch0000003vscode-remote?line=8'>9</a>\u001b[0m     number \u001b[39m=\u001b[39m asin_number[num]\n\u001b[0;32m---> <a href='vscode-notebook-cell://ssh-remote%2B49.50.160.19/workspace/amazon_crawler_only_img.ipynb#ch0000003vscode-remote?line=9'>10</a>\u001b[0m     search_box \u001b[39m=\u001b[39m driver\u001b[39m.\u001b[39;49mfind_element(by\u001b[39m=\u001b[39;49mBy\u001b[39m.\u001b[39;49mID, value\u001b[39m=\u001b[39;49m\u001b[39m\"\u001b[39;49m\u001b[39mtwotabsearchtextbox\u001b[39;49m\u001b[39m\"\u001b[39;49m)\n\u001b[1;32m     <a href='vscode-notebook-cell://ssh-remote%2B49.50.160.19/workspace/amazon_crawler_only_img.ipynb#ch0000003vscode-remote?line=10'>11</a>\u001b[0m     search_box\u001b[39m.\u001b[39mclear()\n\u001b[1;32m     <a href='vscode-notebook-cell://ssh-remote%2B49.50.160.19/workspace/amazon_crawler_only_img.ipynb#ch0000003vscode-remote?line=12'>13</a>\u001b[0m     search_box\u001b[39m.\u001b[39msend_keys(number)\n",
      "File \u001b[0;32m/opt/conda/lib/python3.8/site-packages/selenium/webdriver/remote/webdriver.py:976\u001b[0m, in \u001b[0;36mWebDriver.find_element\u001b[0;34m(self, by, value)\u001b[0m\n\u001b[1;32m    <a href='file:///opt/conda/lib/python3.8/site-packages/selenium/webdriver/remote/webdriver.py?line=973'>974</a>\u001b[0m         by \u001b[39m=\u001b[39m By\u001b[39m.\u001b[39mCSS_SELECTOR\n\u001b[1;32m    <a href='file:///opt/conda/lib/python3.8/site-packages/selenium/webdriver/remote/webdriver.py?line=974'>975</a>\u001b[0m         value \u001b[39m=\u001b[39m \u001b[39m'\u001b[39m\u001b[39m[name=\u001b[39m\u001b[39m\"\u001b[39m\u001b[39m%s\u001b[39;00m\u001b[39m\"\u001b[39m\u001b[39m]\u001b[39m\u001b[39m'\u001b[39m \u001b[39m%\u001b[39m value\n\u001b[0;32m--> <a href='file:///opt/conda/lib/python3.8/site-packages/selenium/webdriver/remote/webdriver.py?line=975'>976</a>\u001b[0m \u001b[39mreturn\u001b[39;00m \u001b[39mself\u001b[39;49m\u001b[39m.\u001b[39;49mexecute(Command\u001b[39m.\u001b[39;49mFIND_ELEMENT, {\n\u001b[1;32m    <a href='file:///opt/conda/lib/python3.8/site-packages/selenium/webdriver/remote/webdriver.py?line=976'>977</a>\u001b[0m     \u001b[39m'\u001b[39;49m\u001b[39musing\u001b[39;49m\u001b[39m'\u001b[39;49m: by,\n\u001b[1;32m    <a href='file:///opt/conda/lib/python3.8/site-packages/selenium/webdriver/remote/webdriver.py?line=977'>978</a>\u001b[0m     \u001b[39m'\u001b[39;49m\u001b[39mvalue\u001b[39;49m\u001b[39m'\u001b[39;49m: value})[\u001b[39m'\u001b[39m\u001b[39mvalue\u001b[39m\u001b[39m'\u001b[39m]\n",
      "File \u001b[0;32m/opt/conda/lib/python3.8/site-packages/selenium/webdriver/remote/webdriver.py:321\u001b[0m, in \u001b[0;36mWebDriver.execute\u001b[0;34m(self, driver_command, params)\u001b[0m\n\u001b[1;32m    <a href='file:///opt/conda/lib/python3.8/site-packages/selenium/webdriver/remote/webdriver.py?line=318'>319</a>\u001b[0m response \u001b[39m=\u001b[39m \u001b[39mself\u001b[39m\u001b[39m.\u001b[39mcommand_executor\u001b[39m.\u001b[39mexecute(driver_command, params)\n\u001b[1;32m    <a href='file:///opt/conda/lib/python3.8/site-packages/selenium/webdriver/remote/webdriver.py?line=319'>320</a>\u001b[0m \u001b[39mif\u001b[39;00m response:\n\u001b[0;32m--> <a href='file:///opt/conda/lib/python3.8/site-packages/selenium/webdriver/remote/webdriver.py?line=320'>321</a>\u001b[0m     \u001b[39mself\u001b[39;49m\u001b[39m.\u001b[39;49merror_handler\u001b[39m.\u001b[39;49mcheck_response(response)\n\u001b[1;32m    <a href='file:///opt/conda/lib/python3.8/site-packages/selenium/webdriver/remote/webdriver.py?line=321'>322</a>\u001b[0m     response[\u001b[39m'\u001b[39m\u001b[39mvalue\u001b[39m\u001b[39m'\u001b[39m] \u001b[39m=\u001b[39m \u001b[39mself\u001b[39m\u001b[39m.\u001b[39m_unwrap_value(\n\u001b[1;32m    <a href='file:///opt/conda/lib/python3.8/site-packages/selenium/webdriver/remote/webdriver.py?line=322'>323</a>\u001b[0m         response\u001b[39m.\u001b[39mget(\u001b[39m'\u001b[39m\u001b[39mvalue\u001b[39m\u001b[39m'\u001b[39m, \u001b[39mNone\u001b[39;00m))\n\u001b[1;32m    <a href='file:///opt/conda/lib/python3.8/site-packages/selenium/webdriver/remote/webdriver.py?line=323'>324</a>\u001b[0m     \u001b[39mreturn\u001b[39;00m response\n",
      "File \u001b[0;32m/opt/conda/lib/python3.8/site-packages/selenium/webdriver/remote/errorhandler.py:242\u001b[0m, in \u001b[0;36mErrorHandler.check_response\u001b[0;34m(self, response)\u001b[0m\n\u001b[1;32m    <a href='file:///opt/conda/lib/python3.8/site-packages/selenium/webdriver/remote/errorhandler.py?line=239'>240</a>\u001b[0m         alert_text \u001b[39m=\u001b[39m value[\u001b[39m'\u001b[39m\u001b[39malert\u001b[39m\u001b[39m'\u001b[39m]\u001b[39m.\u001b[39mget(\u001b[39m'\u001b[39m\u001b[39mtext\u001b[39m\u001b[39m'\u001b[39m)\n\u001b[1;32m    <a href='file:///opt/conda/lib/python3.8/site-packages/selenium/webdriver/remote/errorhandler.py?line=240'>241</a>\u001b[0m     \u001b[39mraise\u001b[39;00m exception_class(message, screen, stacktrace, alert_text)\n\u001b[0;32m--> <a href='file:///opt/conda/lib/python3.8/site-packages/selenium/webdriver/remote/errorhandler.py?line=241'>242</a>\u001b[0m \u001b[39mraise\u001b[39;00m exception_class(message, screen, stacktrace)\n",
      "\u001b[0;31mNoSuchElementException\u001b[0m: Message: no such element: Unable to locate element: {\"method\":\"css selector\",\"selector\":\"[id=\"twotabsearchtextbox\"]\"}\n  (Session info: headless chrome=101.0.4951.64)\n"
     ]
    }
   ],
   "source": [
    "start_url = 'https://www.amazon.com/'\n",
    "\n",
    "driver.get(url=start_url)\n",
    "\n",
    "informations = defaultdict(list)\n",
    "\n",
    "# 0002103818 no results\n",
    "for num in tqdm(range(len(asin_number))):\n",
    "    number = asin_number[num]\n",
    "\n",
    "    search_box = WebDriverWait(driver, 100).until(\n",
    "        EC.presence_of_element_located((By.ID,\"twotabsearchtextbox\"))\n",
    "    )\n",
    "    search_box.clear()\n",
    "\n",
    "    search_box.send_keys(number)\n",
    "    search_box.send_keys(Keys.RETURN)\n",
    "\n",
    "    time.sleep(2*random.random())\n",
    "\n",
    "    items_title_info = driver.find_elements(by=By.CLASS_NAME, value='s-title-instructions-style')\n",
    "    items_image_info = driver.find_elements(by=By.CLASS_NAME, value='s-image')\n",
    "\n",
    "    for i in range(len(items_title_info)):\n",
    "        item_title = None\n",
    "        item_img_link = None\n",
    "\n",
    "        item_title_info = items_title_info[i]\n",
    "        item_image_info = items_image_info[i]\n",
    "        \n",
    "        try:\n",
    "            item_title_text = item_title_info.text.split('\\n')\n",
    "            item_title = item_title_text[0]\n",
    "            item_img_link = item_image_info.get_attribute('src')\n",
    "\n",
    "            informations[number].append(item_title)\n",
    "            informations[number].append(item_img_link)\n",
    "        \n",
    "        except:\n",
    "            print('error_number:', number)\n",
    "            continue\n",
    "\n"
   ]
  },
  {
   "cell_type": "code",
   "execution_count": 17,
   "metadata": {},
   "outputs": [
    {
     "name": "stdout",
     "output_type": "stream",
     "text": [
      "defaultdict(<class 'list'>, {'038568231X': ['The Girl on the Train', 'https://m.media-amazon.com/images/I/91-jFZLhDuL._AC_UL320_.jpg'], '0996135669': ['Vicious (Sinners of Saint)', 'https://m.media-amazon.com/images/I/61ST1qYuIZL._AC_UL320_.jpg'], '0439023521': ['Hunger Games Trilogy Series Books 1 - 3 Collection Classic Box Set by Suzanne Collins (The Hunger Games, Catching Fire & Mockingjay)', 'https://m.media-amazon.com/images/I/71pAhYeM4IS._AC_UL320_.jpg', '{Suzanne Collins} The Hunger Games (Book 1) Paperback', 'https://m.media-amazon.com/images/I/41HCNCjwU9L._AC_UL320_.jpg', 'The Hunger Games (Book 1)', 'https://m.media-amazon.com/images/I/61nZqhftUPL._AC_UL320_.jpg', 'The Hunger Games', 'https://m.media-amazon.com/images/I/4134W9qxFIL._AC_UL320_.jpg'], '8184776217': ['Mockingjay: The Hunger Games', 'https://m.media-amazon.com/images/I/91BIuzKy-BL._AC_UL320_.jpg'], '1683247353': ['Beneath a Scarlet Sky (Center Point Large Print)', 'https://m.media-amazon.com/images/I/712Q5o-4RML._AC_UL320_.jpg'], '0312577222': ['The Nightingale: A Novel', 'https://m.media-amazon.com/images/I/914dNZ+lLjL._AC_UL320_.jpg', 'by Hannah, Kristin :: The Nightingale: A Novel-Hardcover', 'https://m.media-amazon.com/images/I/51qNcIGDMoL._AC_UL320_.jpg', '[Kristin Hannah] The Nightingale: A Novel Hardcover【2015】 by Kristin Hannah', 'https://m.media-amazon.com/images/I/51qNcIGDMoL._AC_UL320_.jpg'], '1503943372': ['Beneath a Scarlet Sky: A Novel', 'https://m.media-amazon.com/images/I/61lF-svjLPL._AC_UL320_.jpg']})\n"
     ]
    }
   ],
   "source": []
  },
  {
   "cell_type": "code",
   "execution_count": 11,
   "metadata": {},
   "outputs": [],
   "source": [
    "driver.close()"
   ]
  },
  {
   "cell_type": "code",
   "execution_count": 23,
   "metadata": {},
   "outputs": [
    {
     "data": {
      "text/plain": [
       "81"
      ]
     },
     "execution_count": 23,
     "metadata": {},
     "output_type": "execute_result"
    }
   ],
   "source": []
  },
  {
   "cell_type": "code",
   "execution_count": null,
   "metadata": {},
   "outputs": [],
   "source": []
  },
  {
   "cell_type": "code",
   "execution_count": 28,
   "metadata": {},
   "outputs": [
    {
     "name": "stdout",
     "output_type": "stream",
     "text": [
      "<class 'collections.defaultdict'>\n",
      "81\n",
      "0996135693\n",
      "1979980659\n",
      "1974123650\n",
      "1979519153\n",
      "1983500933\n",
      "1978393296\n",
      "1682304302\n",
      "B001C4VLZQ\n",
      "B003156C4E\n",
      "1519083831\n",
      "B00A9WRH3M\n"
     ]
    }
   ],
   "source": [
    "with open('full_image_url.pickle', \"rb\") as f:\n",
    "    test = pickle.load(f)"
   ]
  },
  {
   "cell_type": "code",
   "execution_count": 21,
   "metadata": {},
   "outputs": [],
   "source": [
    "with open('full_image_url.pickle', 'wb') as f:\n",
    "    pickle.dump(informations, f)"
   ]
  }
 ],
 "metadata": {
  "interpreter": {
   "hash": "d4d1e4263499bec80672ea0156c357c1ee493ec2b1c70f0acce89fc37c4a6abe"
  },
  "kernelspec": {
   "display_name": "Python 3.8.5 ('base')",
   "language": "python",
   "name": "python3"
  },
  "language_info": {
   "codemirror_mode": {
    "name": "ipython",
    "version": 3
   },
   "file_extension": ".py",
   "mimetype": "text/x-python",
   "name": "python",
   "nbconvert_exporter": "python",
   "pygments_lexer": "ipython3",
   "version": "3.8.5"
  },
  "orig_nbformat": 4
 },
 "nbformat": 4,
 "nbformat_minor": 2
}
