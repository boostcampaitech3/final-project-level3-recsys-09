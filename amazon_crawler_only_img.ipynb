{
 "cells": [
  {
   "cell_type": "code",
   "execution_count": 43,
   "metadata": {},
   "outputs": [],
   "source": [
    "import time, random, pickle\n",
    "from collections import defaultdict, deque\n",
    "from tqdm import tqdm\n",
    "\n",
    "import selenium\n",
    "from selenium import webdriver\n",
    "from selenium.webdriver import ActionChains\n",
    "\n",
    "from selenium.webdriver.common.keys import Keys\n",
    "from selenium.webdriver.common.by import By\n",
    "\n",
    "from selenium.webdriver.support import expected_conditions as EC\n",
    "from selenium.webdriver.support.ui import Select\n",
    "from selenium.webdriver.support.ui import WebDriverWait\n",
    "\n",
    "from pyvirtualdisplay import Display\n",
    "from webdriver_manager.chrome import ChromeDriverManager\n",
    "\n"
   ]
  },
  {
   "cell_type": "code",
   "execution_count": 44,
   "metadata": {},
   "outputs": [],
   "source": [
    "from pyvirtualdisplay import Display\n",
    "\n",
    "\n",
    "chrome_options = webdriver.ChromeOptions()\n",
    "chrome_options.add_argument('--headless')\n",
    "chrome_options.add_argument('--no-sandbox')\n",
    "chrome_options.add_argument('--disable-dev-shm-usage')\n",
    "\n",
    "\n",
    "path='chromedriver/chromedriver'\n",
    "\n",
    "driver = webdriver.Chrome(executable_path=path, options=chrome_options)"
   ]
  },
  {
   "cell_type": "code",
   "execution_count": 45,
   "metadata": {},
   "outputs": [],
   "source": [
    "pickle_data_path = './data/image0_sort_popular_overall_asin.pickle'\n",
    "\n",
    "with open(pickle_data_path, \"rb\") as f:\n",
    "    asin_number = pickle.load(f)\n",
    "\n"
   ]
  },
  {
   "cell_type": "code",
   "execution_count": 50,
   "metadata": {},
   "outputs": [
    {
     "name": "stderr",
     "output_type": "stream",
     "text": [
      "  0%|          | 2/418772 [00:06<396:27:13,  3.41s/it]\n"
     ]
    },
    {
     "ename": "KeyboardInterrupt",
     "evalue": "",
     "output_type": "error",
     "traceback": [
      "\u001b[0;31m---------------------------------------------------------------------------\u001b[0m",
      "\u001b[0;31mKeyboardInterrupt\u001b[0m                         Traceback (most recent call last)",
      "\u001b[1;32m/workspace/amazon_crawler_only_img.ipynb Cell 4'\u001b[0m in \u001b[0;36m<cell line: 8>\u001b[0;34m()\u001b[0m\n\u001b[1;32m     <a href='vscode-notebook-cell://ssh-remote%2B49.50.160.19/workspace/amazon_crawler_only_img.ipynb#ch0000003vscode-remote?line=31'>32</a>\u001b[0m         search_box\u001b[39m.\u001b[39msend_keys(Keys\u001b[39m.\u001b[39mRETURN)\n\u001b[1;32m     <a href='vscode-notebook-cell://ssh-remote%2B49.50.160.19/workspace/amazon_crawler_only_img.ipynb#ch0000003vscode-remote?line=33'>34</a>\u001b[0m         assignment \u001b[39m=\u001b[39m \u001b[39mFalse\u001b[39;00m\n\u001b[0;32m---> <a href='vscode-notebook-cell://ssh-remote%2B49.50.160.19/workspace/amazon_crawler_only_img.ipynb#ch0000003vscode-remote?line=35'>36</a>\u001b[0m time\u001b[39m.\u001b[39;49msleep(\u001b[39m2\u001b[39;49m\u001b[39m*\u001b[39;49mrandom\u001b[39m.\u001b[39;49mrandom())\n\u001b[1;32m     <a href='vscode-notebook-cell://ssh-remote%2B49.50.160.19/workspace/amazon_crawler_only_img.ipynb#ch0000003vscode-remote?line=37'>38</a>\u001b[0m items_title_info \u001b[39m=\u001b[39m driver\u001b[39m.\u001b[39mfind_elements(by\u001b[39m=\u001b[39mBy\u001b[39m.\u001b[39mCLASS_NAME, value\u001b[39m=\u001b[39m\u001b[39m'\u001b[39m\u001b[39ms-title-instructions-style\u001b[39m\u001b[39m'\u001b[39m)\n\u001b[1;32m     <a href='vscode-notebook-cell://ssh-remote%2B49.50.160.19/workspace/amazon_crawler_only_img.ipynb#ch0000003vscode-remote?line=38'>39</a>\u001b[0m items_image_info \u001b[39m=\u001b[39m driver\u001b[39m.\u001b[39mfind_elements(by\u001b[39m=\u001b[39mBy\u001b[39m.\u001b[39mCLASS_NAME, value\u001b[39m=\u001b[39m\u001b[39m'\u001b[39m\u001b[39ms-image\u001b[39m\u001b[39m'\u001b[39m)\n",
      "\u001b[0;31mKeyboardInterrupt\u001b[0m: "
     ]
    }
   ],
   "source": [
    "start_url = 'https://www.amazon.com/'\n",
    "\n",
    "driver.get(url=start_url)\n",
    "\n",
    "informations = defaultdict(list)\n",
    "\n",
    "# 0002103818 no results\n",
    "for num in tqdm(range(93, len(asin_number))):\n",
    "    if num % 1000 == 0:\n",
    "        with open('full_image_url.pickle', 'ab') as f:\n",
    "            pickle.dump(informations, f)\n",
    "            informations = defaultdict(list)\n",
    "        print('by ' + str(num) + ', completed')\n",
    "\n",
    "    number = asin_number[num]\n",
    "    \n",
    "    assignment = True\n",
    "    sleep_k = 0\n",
    "\n",
    "    while assignment:\n",
    "        if driver.title == \"Sorry! Something went wrong!\":\n",
    "            print(str(sleep_k) + ' step slept..',end='\\r', flush=True)\n",
    "            time.sleep(10)\n",
    "\n",
    "            driver.close()\n",
    "            driver = webdriver.Chrome(executable_path=path, options=chrome_options)\n",
    "            driver.get(url=start_url)\n",
    "            sleep_k += 1\n",
    "\n",
    "        else:\n",
    "            search_box = WebDriverWait(driver, 10).until(\n",
    "                EC.presence_of_element_located((By.ID,\"twotabsearchtextbox\"))\n",
    "            )\n",
    "            search_box.clear()\n",
    "\n",
    "            search_box.send_keys(number)\n",
    "            search_box.send_keys(Keys.RETURN)\n",
    "\n",
    "            assignment = False\n",
    "\n",
    "    time.sleep(2*random.random())\n",
    "\n",
    "    items_title_info = driver.find_elements(by=By.CLASS_NAME, value='s-title-instructions-style')\n",
    "    items_image_info = driver.find_elements(by=By.CLASS_NAME, value='s-image')\n",
    "\n",
    "    for i in range(len(items_title_info)):\n",
    "        item_title = None\n",
    "        item_img_link = None\n",
    "\n",
    "        item_title_info = items_title_info[i]\n",
    "        item_image_info = items_image_info[i]\n",
    "        \n",
    "        try:\n",
    "            item_title_text = item_title_info.text.split('\\n')\n",
    "            item_title = item_title_text[0]\n",
    "            item_img_link = item_image_info.get_attribute('src')\n",
    "\n",
    "            informations[number].append(item_title)\n",
    "            informations[number].append(item_img_link)\n",
    "        \n",
    "        except:\n",
    "            print('error_number:', number)\n",
    "            continue\n",
    "\n"
   ]
  },
  {
   "cell_type": "code",
   "execution_count": 51,
   "metadata": {},
   "outputs": [
    {
     "name": "stdout",
     "output_type": "stream",
     "text": [
      "defaultdict(<class 'list'>, {'1547042389': ['Billionaire In Vegas (Billionaire Matchmaker Book 1)', 'https://m.media-amazon.com/images/I/81NV-A3P3+L._AC_UY218_.jpg']})\n"
     ]
    }
   ],
   "source": [
    "print(informations)"
   ]
  },
  {
   "cell_type": "code",
   "execution_count": 11,
   "metadata": {},
   "outputs": [],
   "source": [
    "driver.close()"
   ]
  },
  {
   "cell_type": "code",
   "execution_count": 23,
   "metadata": {},
   "outputs": [
    {
     "data": {
      "text/plain": [
       "81"
      ]
     },
     "execution_count": 23,
     "metadata": {},
     "output_type": "execute_result"
    }
   ],
   "source": []
  },
  {
   "cell_type": "code",
   "execution_count": 54,
   "metadata": {},
   "outputs": [],
   "source": []
  },
  {
   "cell_type": "code",
   "execution_count": 28,
   "metadata": {},
   "outputs": [
    {
     "name": "stdout",
     "output_type": "stream",
     "text": [
      "<class 'collections.defaultdict'>\n",
      "81\n",
      "0996135693\n",
      "1979980659\n",
      "1974123650\n",
      "1979519153\n",
      "1983500933\n",
      "1978393296\n",
      "1682304302\n",
      "B001C4VLZQ\n",
      "B003156C4E\n",
      "1519083831\n",
      "B00A9WRH3M\n"
     ]
    }
   ],
   "source": []
  },
  {
   "cell_type": "code",
   "execution_count": 21,
   "metadata": {},
   "outputs": [],
   "source": [
    "with open('full_image_url.pickle', 'wb') as f:\n",
    "    pickle.dump(informations, f)"
   ]
  }
 ],
 "metadata": {
  "interpreter": {
   "hash": "d4d1e4263499bec80672ea0156c357c1ee493ec2b1c70f0acce89fc37c4a6abe"
  },
  "kernelspec": {
   "display_name": "Python 3.8.5 ('base')",
   "language": "python",
   "name": "python3"
  },
  "language_info": {
   "codemirror_mode": {
    "name": "ipython",
    "version": 3
   },
   "file_extension": ".py",
   "mimetype": "text/x-python",
   "name": "python",
   "nbconvert_exporter": "python",
   "pygments_lexer": "ipython3",
   "version": "3.8.5"
  },
  "orig_nbformat": 4
 },
 "nbformat": 4,
 "nbformat_minor": 2
}
