{
 "cells": [
  {
   "cell_type": "code",
   "execution_count": null,
   "metadata": {},
   "outputs": [],
   "source": []
  },
  {
   "cell_type": "code",
   "execution_count": 25,
   "metadata": {},
   "outputs": [],
   "source": [
    "import urllib.request, requests, pickle, json, time\n",
    "from collections import defaultdict\n",
    "\n",
    "\n",
    "# ↓--- 고정 ---↓\n",
    "\n",
    "naver_client_id_list = ['6x79fVFmyAsJwoczKRKv', 'iQ2_kgauWnDwovI2V_A2', 'PAjCUqGHlQfq9FV7VPHN', 'pc2a87TGwtMzR9sFtiW4'] # \"EZKJjFYCeCFKfj3qk2OM\" \n",
    "naver_client_secret_list = ['FvpgDL1RKw', '7zNrQQ09HJ', 'ADmfp7rlz2', 'wP5FkLr1Ua'] # \"dLMxOkCV6M\"\n",
    "naver_client_id = ''\n",
    "naver_client_secret = ''\n",
    "\n",
    "\n",
    "kakao_API_url = \"https://dapi.kakao.com//v3/search/book\"\n",
    "Kakao_MY_REST_API_list = ['f31f6598676120e724444fa392d6e5ac', '91ca26dcf2e331983be854a11384dbc5', '15433ce5f89fe1d58fba3bcd9e81f4fb', '9cc5c3b3e586a451faf880c470315296'] # 'a9f59d8981601a41b5fb31311b82b8a4'\n",
    "Kakao_MY_REST_API = ''\n",
    "\n",
    "tokens = ''\n",
    "\n",
    "# ↑--- 고정 ---↑\n",
    "\n",
    "\n",
    "pickle_data_path = './data/image0_sort_popular_overall_asin.pickle'\n"
   ]
  },
  {
   "cell_type": "code",
   "execution_count": 13,
   "metadata": {},
   "outputs": [
    {
     "data": {
      "text/plain": [
       "418865"
      ]
     },
     "execution_count": 13,
     "metadata": {},
     "output_type": "execute_result"
    }
   ],
   "source": [
    "with open(pickle_data_path, \"rb\") as f:\n",
    "    asin_number = pickle.load(f)\n",
    "\n",
    "len(asin_number)"
   ]
  },
  {
   "cell_type": "code",
   "execution_count": 31,
   "metadata": {},
   "outputs": [
    {
     "ename": "KeyboardInterrupt",
     "evalue": "",
     "output_type": "error",
     "traceback": [
      "\u001b[0;31m---------------------------------------------------------------------------\u001b[0m",
      "\u001b[0;31mKeyboardInterrupt\u001b[0m                         Traceback (most recent call last)",
      "\u001b[1;32m/workspace/auto_API_crawler.ipynb Cell 4'\u001b[0m in \u001b[0;36m<cell line: 9>\u001b[0;34m()\u001b[0m\n\u001b[1;32m      <a href='vscode-notebook-cell://ssh-remote%2B49.50.160.19/workspace/auto_API_crawler.ipynb#ch0000003vscode-remote?line=6'>7</a>\u001b[0m break_point \u001b[39m=\u001b[39m \u001b[39m0\u001b[39m\n\u001b[1;32m      <a href='vscode-notebook-cell://ssh-remote%2B49.50.160.19/workspace/auto_API_crawler.ipynb#ch0000003vscode-remote?line=8'>9</a>\u001b[0m \u001b[39mfor\u001b[39;00m i \u001b[39min\u001b[39;00m \u001b[39mrange\u001b[39m(break_point, \u001b[39mlen\u001b[39m(asin_number)):\n\u001b[0;32m---> <a href='vscode-notebook-cell://ssh-remote%2B49.50.160.19/workspace/auto_API_crawler.ipynb#ch0000003vscode-remote?line=9'>10</a>\u001b[0m     time\u001b[39m.\u001b[39;49msleep(\u001b[39m0.1\u001b[39;49m)\n\u001b[1;32m     <a href='vscode-notebook-cell://ssh-remote%2B49.50.160.19/workspace/auto_API_crawler.ipynb#ch0000003vscode-remote?line=10'>11</a>\u001b[0m     \u001b[39mif\u001b[39;00m (i \u001b[39m!=\u001b[39m \u001b[39m0\u001b[39m) \u001b[39mand\u001b[39;00m (i \u001b[39m%\u001b[39m \u001b[39m24000\u001b[39m) \u001b[39m==\u001b[39m \u001b[39m0\u001b[39m:\n\u001b[1;32m     <a href='vscode-notebook-cell://ssh-remote%2B49.50.160.19/workspace/auto_API_crawler.ipynb#ch0000003vscode-remote?line=11'>12</a>\u001b[0m         idx \u001b[39m+\u001b[39m\u001b[39m=\u001b[39m \u001b[39m1\u001b[39m\n",
      "\u001b[0;31mKeyboardInterrupt\u001b[0m: "
     ]
    }
   ],
   "source": [
    "file = open(\"asin_link.txt\", 'w')\n",
    "idx = 0\n",
    "\n",
    "naver_client_id = naver_client_id_list[idx]\n",
    "naver_client_secret = naver_client_secret_list[idx]\n",
    "Kakao_MY_REST_API = Kakao_MY_REST_API_list[idx]\n",
    "break_point = 0\n",
    "\n",
    "for i in range(break_point, len(asin_number)):\n",
    "    time.sleep(0.1)\n",
    "    if (i != 0) and (i % 24000) == 0:\n",
    "        idx += 1\n",
    "        \n",
    "        naver_client_id = naver_client_id_list[idx]\n",
    "        naver_client_secret = naver_client_secret_list[idx]\n",
    "        Kakao_MY_REST_API = Kakao_MY_REST_API_list[idx]\n",
    "\n",
    "    try:\n",
    "        number = asin_number[i]\n",
    "        \n",
    "        input_text = number\n",
    "\n",
    "        url_list = []\n",
    "\n",
    "        # Naver API search\n",
    "\n",
    "        naver_input_text_n = urllib.parse.quote(input_text)\n",
    "\n",
    "        naver_url = \"https://openapi.naver.com/v1/search/book?query=\" + naver_input_text_n +\"&display=3&sort=sim\"\n",
    "\n",
    "        Send_request = urllib.request.Request(naver_url)\n",
    "        Send_request.add_header(\"X-Naver-Client-Id\", naver_client_id)\n",
    "        Send_request.add_header(\"X-Naver-Client-Secret\", naver_client_secret)\n",
    "\n",
    "        response = urllib.request.urlopen(Send_request)\n",
    "\n",
    "        success = response.getcode()\n",
    "\n",
    "        if (success == 200):\n",
    "            Response = response.read()\n",
    "            tokens = json.loads(Response.decode('utf-8'))\n",
    "\n",
    "            for token in tokens['items']:\n",
    "                try:\n",
    "                    url = token['image']\n",
    "                    if len(url) >= 1:\n",
    "                        url_list.append(url)\n",
    "                except:\n",
    "                    continue\n",
    "\n",
    "            if len(url_list) >= 1:\n",
    "                file.write(str(number) + '\\t' + str(url_list) + '\\n')\n",
    "        \n",
    "        else:\n",
    "            # Kakao API search\n",
    "\n",
    "            queryString = {'query' : input_text}\n",
    "            header = {'Authorization': 'KakaoAK ' + Kakao_MY_REST_API }\n",
    "\n",
    "            response = requests.get(kakao_API_url, headers=header, params=queryString)\n",
    "\n",
    "            tokens = response.json()\n",
    "\n",
    "            url = tokens[\"documents\"][0][\"thumbnail\"]\n",
    "            \n",
    "            if len(url) >= 1:\n",
    "                url_list.append(url)\n",
    "\n",
    "            file.write(str(number) + '\\t' + str(url_list) + '\\n')\n",
    "\n",
    "    except:\n",
    "        break_point = i\n",
    "        print(break_point)\n",
    "        break\n",
    "\n",
    "file.close()"
   ]
  },
  {
   "cell_type": "code",
   "execution_count": 33,
   "metadata": {},
   "outputs": [
    {
     "name": "stdout",
     "output_type": "stream",
     "text": [
      "0996135669\t['https://bookthumb-phinf.pstatic.net/cover/166/269/16626933.jpg?type=m1&udate=20210525']\n",
      "\n",
      "0439023521\t['https://bookthumb-phinf.pstatic.net/cover/063/256/06325615.jpg?type=m1&udate=20200924']\n",
      "\n",
      "8184776217\t['https://bookthumb-phinf.pstatic.net/cover/075/546/07554644.jpg?type=m1&udate=20140424']\n",
      "\n",
      "0312577222\t['https://bookthumb-phinf.pstatic.net/cover/087/062/08706225.jpg?type=m1&udate=20160202']\n",
      "\n",
      "1503943372\t['https://bookthumb-phinf.pstatic.net/cover/121/031/12103104.jpg?type=m1&udate=20200208']\n",
      "\n",
      "1503934713\t['https://bookthumb-phinf.pstatic.net/cover/105/918/10591859.jpg?type=m1&udate=20210502']\n",
      "\n",
      "1546904468\t['https://bookthumb-phinf.pstatic.net/cover/155/662/15566237.jpg?type=m1&udate=20220306']\n",
      "\n",
      "1503935310\t['https://bookthumb-phinf.pstatic.net/cover/108/616/10861637.jpg?type=m1&udate=20180910']\n",
      "\n",
      "1101946342\t['https://bookthumb-phinf.pstatic.net/cover/091/534/09153432.jpg?type=m1&udate=20150826']\n",
      "\n",
      "1910751774\t['https://bookthumb-phinf.pstatic.net/cover/102/328/10232885.jpg?type=m1&udate=20191218']\n",
      "\n",
      "1477848665\t['https://bookthumb-phinf.pstatic.net/cover/124/391/12439189.jpg?type=m1&udate=20210702']\n",
      "\n"
     ]
    }
   ],
   "source": [
    "file = open(\"asin_link.txt\", 'r')\n",
    "files = file.readlines()\n",
    "\n",
    "for line in files:\n",
    "    print(line)"
   ]
  },
  {
   "cell_type": "code",
   "execution_count": 10,
   "metadata": {},
   "outputs": [],
   "source": []
  },
  {
   "cell_type": "code",
   "execution_count": null,
   "metadata": {},
   "outputs": [],
   "source": []
  },
  {
   "cell_type": "code",
   "execution_count": null,
   "metadata": {},
   "outputs": [],
   "source": []
  },
  {
   "cell_type": "code",
   "execution_count": null,
   "metadata": {},
   "outputs": [],
   "source": []
  }
 ],
 "metadata": {
  "interpreter": {
   "hash": "d4d1e4263499bec80672ea0156c357c1ee493ec2b1c70f0acce89fc37c4a6abe"
  },
  "kernelspec": {
   "display_name": "Python 3.8.5 ('base')",
   "language": "python",
   "name": "python3"
  },
  "language_info": {
   "codemirror_mode": {
    "name": "ipython",
    "version": 3
   },
   "file_extension": ".py",
   "mimetype": "text/x-python",
   "name": "python",
   "nbconvert_exporter": "python",
   "pygments_lexer": "ipython3",
   "version": "3.8.5"
  },
  "orig_nbformat": 4
 },
 "nbformat": 4,
 "nbformat_minor": 2
}
